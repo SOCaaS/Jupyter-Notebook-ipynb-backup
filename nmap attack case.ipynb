{
 "cells": [
  {
   "cell_type": "code",
   "execution_count": 1,
   "metadata": {},
   "outputs": [
    {
     "name": "stdout",
     "output_type": "stream",
     "text": [
      "Nmap 7.91 ( https://nmap.org )\n",
      "Usage: nmap [Scan Type(s)] [Options] {target specification}\n",
      "TARGET SPECIFICATION:\n",
      "  Can pass hostnames, IP addresses, networks, etc.\n",
      "  Ex: scanme.nmap.org, microsoft.com/24, 192.168.0.1; 10.0.0-255.1-254\n",
      "  -iL <inputfilename>: Input from list of hosts/networks\n",
      "  -iR <num hosts>: Choose random targets\n",
      "  --exclude <host1[,host2][,host3],...>: Exclude hosts/networks\n",
      "  --excludefile <exclude_file>: Exclude list from file\n",
      "HOST DISCOVERY:\n",
      "  -sL: List Scan - simply list targets to scan\n",
      "  -sn: Ping Scan - disable port scan\n",
      "  -Pn: Treat all hosts as online -- skip host discovery\n",
      "  -PS/PA/PU/PY[portlist]: TCP SYN/ACK, UDP or SCTP discovery to given ports\n",
      "  -PE/PP/PM: ICMP echo, timestamp, and netmask request discovery probes\n",
      "  -PO[protocol list]: IP Protocol Ping\n",
      "  -n/-R: Never do DNS resolution/Always resolve [default: sometimes]\n",
      "  --dns-servers <serv1[,serv2],...>: Specify custom DNS servers\n",
      "  --system-dns: Use OS's DNS resolver\n",
      "  --traceroute: Trace hop path to each host\n",
      "SCAN TECHNIQUES:\n",
      "  -sS/sT/sA/sW/sM: TCP SYN/Connect()/ACK/Window/Maimon scans\n",
      "  -sU: UDP Scan\n",
      "  -sN/sF/sX: TCP Null, FIN, and Xmas scans\n",
      "  --scanflags <flags>: Customize TCP scan flags\n",
      "  -sI <zombie host[:probeport]>: Idle scan\n",
      "  -sY/sZ: SCTP INIT/COOKIE-ECHO scans\n",
      "  -sO: IP protocol scan\n",
      "  -b <FTP relay host>: FTP bounce scan\n",
      "PORT SPECIFICATION AND SCAN ORDER:\n",
      "  -p <port ranges>: Only scan specified ports\n",
      "    Ex: -p22; -p1-65535; -p U:53,111,137,T:21-25,80,139,8080,S:9\n",
      "  --exclude-ports <port ranges>: Exclude the specified ports from scanning\n",
      "  -F: Fast mode - Scan fewer ports than the default scan\n",
      "  -r: Scan ports consecutively - don't randomize\n",
      "  --top-ports <number>: Scan <number> most common ports\n",
      "  --port-ratio <ratio>: Scan ports more common than <ratio>\n",
      "SERVICE/VERSION DETECTION:\n",
      "  -sV: Probe open ports to determine service/version info\n",
      "  --version-intensity <level>: Set from 0 (light) to 9 (try all probes)\n",
      "  --version-light: Limit to most likely probes (intensity 2)\n",
      "  --version-all: Try every single probe (intensity 9)\n",
      "  --version-trace: Show detailed version scan activity (for debugging)\n",
      "SCRIPT SCAN:\n",
      "  -sC: equivalent to --script=default\n",
      "  --script=<Lua scripts>: <Lua scripts> is a comma separated list of\n",
      "           directories, script-files or script-categories\n",
      "  --script-args=<n1=v1,[n2=v2,...]>: provide arguments to scripts\n",
      "  --script-args-file=filename: provide NSE script args in a file\n",
      "  --script-trace: Show all data sent and received\n",
      "  --script-updatedb: Update the script database.\n",
      "  --script-help=<Lua scripts>: Show help about scripts.\n",
      "           <Lua scripts> is a comma-separated list of script-files or\n",
      "           script-categories.\n",
      "OS DETECTION:\n",
      "  -O: Enable OS detection\n",
      "  --osscan-limit: Limit OS detection to promising targets\n",
      "  --osscan-guess: Guess OS more aggressively\n",
      "TIMING AND PERFORMANCE:\n",
      "  Options which take <time> are in seconds, or append 'ms' (milliseconds),\n",
      "  's' (seconds), 'm' (minutes), or 'h' (hours) to the value (e.g. 30m).\n",
      "  -T<0-5>: Set timing template (higher is faster)\n",
      "  --min-hostgroup/max-hostgroup <size>: Parallel host scan group sizes\n",
      "  --min-parallelism/max-parallelism <numprobes>: Probe parallelization\n",
      "  --min-rtt-timeout/max-rtt-timeout/initial-rtt-timeout <time>: Specifies\n",
      "      probe round trip time.\n",
      "  --max-retries <tries>: Caps number of port scan probe retransmissions.\n",
      "  --host-timeout <time>: Give up on target after this long\n",
      "  --scan-delay/--max-scan-delay <time>: Adjust delay between probes\n",
      "  --min-rate <number>: Send packets no slower than <number> per second\n",
      "  --max-rate <number>: Send packets no faster than <number> per second\n",
      "FIREWALL/IDS EVASION AND SPOOFING:\n",
      "  -f; --mtu <val>: fragment packets (optionally w/given MTU)\n",
      "  -D <decoy1,decoy2[,ME],...>: Cloak a scan with decoys\n",
      "  -S <IP_Address>: Spoof source address\n",
      "  -e <iface>: Use specified interface\n",
      "  -g/--source-port <portnum>: Use given port number\n",
      "  --proxies <url1,[url2],...>: Relay connections through HTTP/SOCKS4 proxies\n",
      "  --data <hex string>: Append a custom payload to sent packets\n",
      "  --data-string <string>: Append a custom ASCII string to sent packets\n",
      "  --data-length <num>: Append random data to sent packets\n",
      "  --ip-options <options>: Send packets with specified ip options\n",
      "  --ttl <val>: Set IP time-to-live field\n",
      "  --spoof-mac <mac address/prefix/vendor name>: Spoof your MAC address\n",
      "  --badsum: Send packets with a bogus TCP/UDP/SCTP checksum\n",
      "OUTPUT:\n",
      "  -oN/-oX/-oS/-oG <file>: Output scan in normal, XML, s|<rIpt kIddi3,\n",
      "     and Grepable format, respectively, to the given filename.\n",
      "  -oA <basename>: Output in the three major formats at once\n",
      "  -v: Increase verbosity level (use -vv or more for greater effect)\n",
      "  -d: Increase debugging level (use -dd or more for greater effect)\n",
      "  --reason: Display the reason a port is in a particular state\n",
      "  --open: Only show open (or possibly open) ports\n",
      "  --packet-trace: Show all packets sent and received\n",
      "  --iflist: Print host interfaces and routes (for debugging)\n",
      "  --append-output: Append to rather than clobber specified output files\n",
      "  --resume <filename>: Resume an aborted scan\n",
      "  --stylesheet <path/URL>: XSL stylesheet to transform XML output to HTML\n",
      "  --webxml: Reference stylesheet from Nmap.Org for more portable XML\n",
      "  --no-stylesheet: Prevent associating of XSL stylesheet w/XML output\n",
      "MISC:\n",
      "  -6: Enable IPv6 scanning\n",
      "  -A: Enable OS detection, version detection, script scanning, and traceroute\n",
      "  --datadir <dirname>: Specify custom Nmap data file location\n",
      "  --send-eth/--send-ip: Send using raw ethernet frames or IP packets\n",
      "  --privileged: Assume that the user is fully privileged\n",
      "  --unprivileged: Assume the user lacks raw socket privileges\n",
      "  -V: Print version number\n",
      "  -h: Print this help summary page.\n",
      "EXAMPLES:\n",
      "  nmap -v -A scanme.nmap.org\n",
      "  nmap -v -sn 192.168.0.0/16 10.0.0.0/8\n",
      "  nmap -v -iR 10000 -Pn -p 80\n",
      "SEE THE MAN PAGE (https://nmap.org/book/man.html) FOR MORE OPTIONS AND EXAMPLES\n"
     ]
    }
   ],
   "source": [
    "%%bash\n",
    "sudo nmap -h "
   ]
  },
  {
   "cell_type": "code",
   "execution_count": null,
   "metadata": {},
   "outputs": [],
   "source": [
    "%%bash \n",
    "sudo nmap -O agent\n"
   ]
  },
  {
   "cell_type": "code",
   "execution_count": 3,
   "metadata": {},
   "outputs": [
    {
     "name": "stdout",
     "output_type": "stream",
     "text": [
      "Starting Nmap 7.91 ( https://nmap.org ) at 2021-01-15 15:47 UTC\n",
      "Nmap scan report for 139.180.153.83.vultr.com (139.180.153.83)\n",
      "Host is up (0.17s latency).\n",
      "Not shown: 995 closed ports\n",
      "PORT     STATE    SERVICE\n",
      "22/tcp   open     ssh\n",
      "80/tcp   open     http\n",
      "139/tcp  filtered netbios-ssn\n",
      "445/tcp  filtered microsoft-ds\n",
      "1688/tcp filtered nsjtp-data\n",
      "Device type: general purpose\n",
      "Running: Linux 5.X\n",
      "OS CPE: cpe:/o:linux:linux_kernel:5\n",
      "OS details: Linux 5.0 - 5.4\n",
      "Network Distance: 15 hops\n",
      "\n",
      "OS detection performed. Please report any incorrect results at https://nmap.org/submit/ .\n",
      "Nmap done: 1 IP address (1 host up) scanned in 11.84 seconds\n"
     ]
    }
   ],
   "source": [
    "%%bash \n",
    "sudo nmap -O 139.180.153.83\n"
   ]
  },
  {
   "cell_type": "code",
   "execution_count": 4,
   "metadata": {},
   "outputs": [
    {
     "name": "stdout",
     "output_type": "stream",
     "text": [
      "Starting Nmap 7.91 ( https://nmap.org ) at 2021-01-15 15:47 UTC\n",
      "Nmap scan report for 139.180.153.83.vultr.com (139.180.153.83)\n",
      "Host is up (0.17s latency).\n",
      "Not shown: 995 closed ports\n",
      "PORT     STATE    SERVICE\n",
      "22/tcp   open     ssh\n",
      "80/tcp   open     http\n",
      "139/tcp  filtered netbios-ssn\n",
      "445/tcp  filtered microsoft-ds\n",
      "1688/tcp filtered nsjtp-data\n",
      "\n",
      "Nmap done: 1 IP address (1 host up) scanned in 8.64 seconds\n"
     ]
    }
   ],
   "source": [
    "%%bash\n",
    "sudo nmap -sS 139.180.153.83\n"
   ]
  },
  {
   "cell_type": "code",
   "execution_count": 5,
   "metadata": {},
   "outputs": [
    {
     "name": "stdout",
     "output_type": "stream",
     "text": [
      "Starting Nmap 7.91 ( https://nmap.org ) at 2021-01-15 15:47 UTC\n",
      "Note: Host seems down. If it is really up, but blocking our ping probes, try -Pn\n",
      "Nmap done: 1 IP address (0 hosts up) scanned in 3.16 seconds\n"
     ]
    }
   ],
   "source": [
    "%%bash\n",
    "sudo nmap -sT 68.183.227.208\n"
   ]
  },
  {
   "cell_type": "code",
   "execution_count": 8,
   "metadata": {},
   "outputs": [
    {
     "name": "stderr",
     "output_type": "stream",
     "text": [
      "bash: line 1: msfconsole: command not found\n"
     ]
    },
    {
     "ename": "CalledProcessError",
     "evalue": "Command 'b'msfconsole\\n\\n'' returned non-zero exit status 127.",
     "output_type": "error",
     "traceback": [
      "\u001b[0;31m---------------------------------------------------------------------------\u001b[0m",
      "\u001b[0;31mCalledProcessError\u001b[0m                        Traceback (most recent call last)",
      "\u001b[0;32m<ipython-input-8-aa1a5936339a>\u001b[0m in \u001b[0;36m<module>\u001b[0;34m\u001b[0m\n\u001b[0;32m----> 1\u001b[0;31m \u001b[0mget_ipython\u001b[0m\u001b[0;34m(\u001b[0m\u001b[0;34m)\u001b[0m\u001b[0;34m.\u001b[0m\u001b[0mrun_cell_magic\u001b[0m\u001b[0;34m(\u001b[0m\u001b[0;34m'bash'\u001b[0m\u001b[0;34m,\u001b[0m \u001b[0;34m''\u001b[0m\u001b[0;34m,\u001b[0m \u001b[0;34m'msfconsole\\n\\n'\u001b[0m\u001b[0;34m)\u001b[0m\u001b[0;34m\u001b[0m\u001b[0;34m\u001b[0m\u001b[0m\n\u001b[0m",
      "\u001b[0;32m/usr/local/lib/python3.8/dist-packages/IPython/core/interactiveshell.py\u001b[0m in \u001b[0;36mrun_cell_magic\u001b[0;34m(self, magic_name, line, cell)\u001b[0m\n\u001b[1;32m   2380\u001b[0m             \u001b[0;32mwith\u001b[0m \u001b[0mself\u001b[0m\u001b[0;34m.\u001b[0m\u001b[0mbuiltin_trap\u001b[0m\u001b[0;34m:\u001b[0m\u001b[0;34m\u001b[0m\u001b[0;34m\u001b[0m\u001b[0m\n\u001b[1;32m   2381\u001b[0m                 \u001b[0margs\u001b[0m \u001b[0;34m=\u001b[0m \u001b[0;34m(\u001b[0m\u001b[0mmagic_arg_s\u001b[0m\u001b[0;34m,\u001b[0m \u001b[0mcell\u001b[0m\u001b[0;34m)\u001b[0m\u001b[0;34m\u001b[0m\u001b[0;34m\u001b[0m\u001b[0m\n\u001b[0;32m-> 2382\u001b[0;31m                 \u001b[0mresult\u001b[0m \u001b[0;34m=\u001b[0m \u001b[0mfn\u001b[0m\u001b[0;34m(\u001b[0m\u001b[0;34m*\u001b[0m\u001b[0margs\u001b[0m\u001b[0;34m,\u001b[0m \u001b[0;34m**\u001b[0m\u001b[0mkwargs\u001b[0m\u001b[0;34m)\u001b[0m\u001b[0;34m\u001b[0m\u001b[0;34m\u001b[0m\u001b[0m\n\u001b[0m\u001b[1;32m   2383\u001b[0m             \u001b[0;32mreturn\u001b[0m \u001b[0mresult\u001b[0m\u001b[0;34m\u001b[0m\u001b[0;34m\u001b[0m\u001b[0m\n\u001b[1;32m   2384\u001b[0m \u001b[0;34m\u001b[0m\u001b[0m\n",
      "\u001b[0;32m/usr/local/lib/python3.8/dist-packages/IPython/core/magics/script.py\u001b[0m in \u001b[0;36mnamed_script_magic\u001b[0;34m(line, cell)\u001b[0m\n\u001b[1;32m    140\u001b[0m             \u001b[0;32melse\u001b[0m\u001b[0;34m:\u001b[0m\u001b[0;34m\u001b[0m\u001b[0;34m\u001b[0m\u001b[0m\n\u001b[1;32m    141\u001b[0m                 \u001b[0mline\u001b[0m \u001b[0;34m=\u001b[0m \u001b[0mscript\u001b[0m\u001b[0;34m\u001b[0m\u001b[0;34m\u001b[0m\u001b[0m\n\u001b[0;32m--> 142\u001b[0;31m             \u001b[0;32mreturn\u001b[0m \u001b[0mself\u001b[0m\u001b[0;34m.\u001b[0m\u001b[0mshebang\u001b[0m\u001b[0;34m(\u001b[0m\u001b[0mline\u001b[0m\u001b[0;34m,\u001b[0m \u001b[0mcell\u001b[0m\u001b[0;34m)\u001b[0m\u001b[0;34m\u001b[0m\u001b[0;34m\u001b[0m\u001b[0m\n\u001b[0m\u001b[1;32m    143\u001b[0m \u001b[0;34m\u001b[0m\u001b[0m\n\u001b[1;32m    144\u001b[0m         \u001b[0;31m# write a basic docstring:\u001b[0m\u001b[0;34m\u001b[0m\u001b[0;34m\u001b[0m\u001b[0;34m\u001b[0m\u001b[0m\n",
      "\u001b[0;32m<decorator-gen-103>\u001b[0m in \u001b[0;36mshebang\u001b[0;34m(self, line, cell)\u001b[0m\n",
      "\u001b[0;32m/usr/local/lib/python3.8/dist-packages/IPython/core/magic.py\u001b[0m in \u001b[0;36m<lambda>\u001b[0;34m(f, *a, **k)\u001b[0m\n\u001b[1;32m    185\u001b[0m     \u001b[0;31m# but it's overkill for just that one bit of state.\u001b[0m\u001b[0;34m\u001b[0m\u001b[0;34m\u001b[0m\u001b[0;34m\u001b[0m\u001b[0m\n\u001b[1;32m    186\u001b[0m     \u001b[0;32mdef\u001b[0m \u001b[0mmagic_deco\u001b[0m\u001b[0;34m(\u001b[0m\u001b[0marg\u001b[0m\u001b[0;34m)\u001b[0m\u001b[0;34m:\u001b[0m\u001b[0;34m\u001b[0m\u001b[0;34m\u001b[0m\u001b[0m\n\u001b[0;32m--> 187\u001b[0;31m         \u001b[0mcall\u001b[0m \u001b[0;34m=\u001b[0m \u001b[0;32mlambda\u001b[0m \u001b[0mf\u001b[0m\u001b[0;34m,\u001b[0m \u001b[0;34m*\u001b[0m\u001b[0ma\u001b[0m\u001b[0;34m,\u001b[0m \u001b[0;34m**\u001b[0m\u001b[0mk\u001b[0m\u001b[0;34m:\u001b[0m \u001b[0mf\u001b[0m\u001b[0;34m(\u001b[0m\u001b[0;34m*\u001b[0m\u001b[0ma\u001b[0m\u001b[0;34m,\u001b[0m \u001b[0;34m**\u001b[0m\u001b[0mk\u001b[0m\u001b[0;34m)\u001b[0m\u001b[0;34m\u001b[0m\u001b[0;34m\u001b[0m\u001b[0m\n\u001b[0m\u001b[1;32m    188\u001b[0m \u001b[0;34m\u001b[0m\u001b[0m\n\u001b[1;32m    189\u001b[0m         \u001b[0;32mif\u001b[0m \u001b[0mcallable\u001b[0m\u001b[0;34m(\u001b[0m\u001b[0marg\u001b[0m\u001b[0;34m)\u001b[0m\u001b[0;34m:\u001b[0m\u001b[0;34m\u001b[0m\u001b[0;34m\u001b[0m\u001b[0m\n",
      "\u001b[0;32m/usr/local/lib/python3.8/dist-packages/IPython/core/magics/script.py\u001b[0m in \u001b[0;36mshebang\u001b[0;34m(self, line, cell)\u001b[0m\n\u001b[1;32m    243\u001b[0m             \u001b[0msys\u001b[0m\u001b[0;34m.\u001b[0m\u001b[0mstderr\u001b[0m\u001b[0;34m.\u001b[0m\u001b[0mflush\u001b[0m\u001b[0;34m(\u001b[0m\u001b[0;34m)\u001b[0m\u001b[0;34m\u001b[0m\u001b[0;34m\u001b[0m\u001b[0m\n\u001b[1;32m    244\u001b[0m         \u001b[0;32mif\u001b[0m \u001b[0margs\u001b[0m\u001b[0;34m.\u001b[0m\u001b[0mraise_error\u001b[0m \u001b[0;32mand\u001b[0m \u001b[0mp\u001b[0m\u001b[0;34m.\u001b[0m\u001b[0mreturncode\u001b[0m\u001b[0;34m!=\u001b[0m\u001b[0;36m0\u001b[0m\u001b[0;34m:\u001b[0m\u001b[0;34m\u001b[0m\u001b[0;34m\u001b[0m\u001b[0m\n\u001b[0;32m--> 245\u001b[0;31m             \u001b[0;32mraise\u001b[0m \u001b[0mCalledProcessError\u001b[0m\u001b[0;34m(\u001b[0m\u001b[0mp\u001b[0m\u001b[0;34m.\u001b[0m\u001b[0mreturncode\u001b[0m\u001b[0;34m,\u001b[0m \u001b[0mcell\u001b[0m\u001b[0;34m,\u001b[0m \u001b[0moutput\u001b[0m\u001b[0;34m=\u001b[0m\u001b[0mout\u001b[0m\u001b[0;34m,\u001b[0m \u001b[0mstderr\u001b[0m\u001b[0;34m=\u001b[0m\u001b[0merr\u001b[0m\u001b[0;34m)\u001b[0m\u001b[0;34m\u001b[0m\u001b[0;34m\u001b[0m\u001b[0m\n\u001b[0m\u001b[1;32m    246\u001b[0m \u001b[0;34m\u001b[0m\u001b[0m\n\u001b[1;32m    247\u001b[0m     \u001b[0;32mdef\u001b[0m \u001b[0m_run_script\u001b[0m\u001b[0;34m(\u001b[0m\u001b[0mself\u001b[0m\u001b[0;34m,\u001b[0m \u001b[0mp\u001b[0m\u001b[0;34m,\u001b[0m \u001b[0mcell\u001b[0m\u001b[0;34m,\u001b[0m \u001b[0mto_close\u001b[0m\u001b[0;34m)\u001b[0m\u001b[0;34m:\u001b[0m\u001b[0;34m\u001b[0m\u001b[0;34m\u001b[0m\u001b[0m\n",
      "\u001b[0;31mCalledProcessError\u001b[0m: Command 'b'msfconsole\\n\\n'' returned non-zero exit status 127."
     ]
    }
   ],
   "source": [
    "%%bash\n",
    "msfconsole\n",
    "\n"
   ]
  },
  {
   "cell_type": "code",
   "execution_count": 1,
   "metadata": {},
   "outputs": [
    {
     "name": "stdout",
     "output_type": "stream",
     "text": [
      "PING google.com (172.217.17.142) 56(84) bytes of data.\n",
      "64 bytes from ams15s30-in-f142.1e100.net (172.217.17.142): icmp_seq=1 ttl=116 time=9.09 ms\n",
      "64 bytes from ams15s30-in-f142.1e100.net (172.217.17.142): icmp_seq=2 ttl=116 time=9.04 ms\n",
      "64 bytes from ams15s30-in-f14.1e100.net (172.217.17.142): icmp_seq=3 ttl=116 time=9.01 ms\n",
      "64 bytes from ams15s30-in-f14.1e100.net (172.217.17.142): icmp_seq=4 ttl=116 time=9.03 ms\n",
      "\n",
      "--- google.com ping statistics ---\n",
      "4 packets transmitted, 4 received, 0% packet loss, time 3004ms\n",
      "rtt min/avg/max/mdev = 9.007/9.041/9.089/0.029 ms\n"
     ]
    }
   ],
   "source": [
    "%%bash\n",
    "ping -c 4 google.com"
   ]
  },
  {
   "cell_type": "code",
   "execution_count": 6,
   "metadata": {},
   "outputs": [
    {
     "name": "stdout",
     "output_type": "stream",
     "text": [
      "Starting Nmap 7.91 ( https://nmap.org ) at 2021-02-23 10:03 UTC\n",
      "NSE: Loaded 153 scripts for scanning.\n",
      "NSE: Script Pre-scanning.\n",
      "Initiating NSE at 10:03\n",
      "Completed NSE at 10:03, 0.00s elapsed\n",
      "Initiating NSE at 10:03\n",
      "Completed NSE at 10:03, 0.00s elapsed\n",
      "Initiating NSE at 10:03\n",
      "Completed NSE at 10:03, 0.00s elapsed\n",
      "Initiating Ping Scan at 10:03\n",
      "Scanning 127.0.0.1 [2 ports]\n",
      "Completed Ping Scan at 10:03, 0.00s elapsed (1 total hosts)\n",
      "Initiating Connect Scan at 10:03\n",
      "Scanning localhost (127.0.0.1) [1000 ports]\n",
      "Discovered open port 8888/tcp on 127.0.0.1\n",
      "Completed Connect Scan at 10:03, 0.01s elapsed (1000 total ports)\n",
      "Initiating Service scan at 10:03\n",
      "Scanning 1 service on localhost (127.0.0.1)\n",
      "Completed Service scan at 10:03, 6.01s elapsed (1 service on 1 host)\n",
      "NSE: Script scanning 127.0.0.1.\n",
      "Initiating NSE at 10:03\n",
      "Completed NSE at 10:03, 0.06s elapsed\n",
      "Initiating NSE at 10:03\n",
      "Completed NSE at 10:03, 0.00s elapsed\n",
      "Initiating NSE at 10:03\n",
      "Completed NSE at 10:03, 0.00s elapsed\n",
      "Nmap scan report for localhost (127.0.0.1)\n",
      "Host is up (0.000067s latency).\n",
      "Not shown: 999 closed ports\n",
      "PORT     STATE SERVICE VERSION\n",
      "8888/tcp open  http    Tornado httpd 6.1\n",
      "|_http-favicon: Unknown favicon MD5: 97C6417ED01BDC0AE3EF32AE4894FD03\n",
      "| http-methods: \n",
      "|_  Supported Methods: GET POST\n",
      "| http-robots.txt: 1 disallowed entry \n",
      "|_/ \n",
      "|_http-server-header: TornadoServer/6.1\n",
      "| http-title: Jupyter Notebook\n",
      "|_Requested resource was /login?next=%2Ftree%3F\n",
      "\n",
      "NSE: Script Post-scanning.\n",
      "Initiating NSE at 10:03\n",
      "Completed NSE at 10:03, 0.00s elapsed\n",
      "Initiating NSE at 10:03\n",
      "Completed NSE at 10:03, 0.00s elapsed\n",
      "Initiating NSE at 10:03\n",
      "Completed NSE at 10:03, 0.00s elapsed\n",
      "Read data files from: /usr/bin/../share/nmap\n",
      "Service detection performed. Please report any incorrect results at https://nmap.org/submit/ .\n",
      "Nmap done: 1 IP address (1 host up) scanned in 6.47 seconds\n"
     ]
    }
   ],
   "source": [
    "%%bash\n",
    "nmap -v -A 127.0.0.1"
   ]
  },
  {
   "cell_type": "code",
   "execution_count": null,
   "metadata": {},
   "outputs": [],
   "source": [
    "%%bash\n",
    "ping -c 4 agent"
   ]
  },
  {
   "cell_type": "code",
   "execution_count": null,
   "metadata": {},
   "outputs": [],
   "source": []
  }
 ],
 "metadata": {
  "kernelspec": {
   "display_name": "Python 3",
   "language": "python",
   "name": "python3"
  },
  "language_info": {
   "codemirror_mode": {
    "name": "ipython",
    "version": 3
   },
   "file_extension": ".py",
   "mimetype": "text/x-python",
   "name": "python",
   "nbconvert_exporter": "python",
   "pygments_lexer": "ipython3",
   "version": "3.8.2"
  }
 },
 "nbformat": 4,
 "nbformat_minor": 4
}
