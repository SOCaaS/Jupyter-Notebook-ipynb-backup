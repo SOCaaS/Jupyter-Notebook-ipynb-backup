{
 "cells": [
  {
   "cell_type": "code",
   "execution_count": 2,
   "metadata": {},
   "outputs": [
    {
     "name": "stdout",
     "output_type": "stream",
     "text": [
      "Get:1 http://kali.download/kali kali-rolling InRelease [30.5 kB]\n",
      "Get:2 http://kali.download/kali kali-rolling/main amd64 Packages [17.6 MB]\n",
      "Get:3 http://kali.download/kali kali-rolling/non-free amd64 Packages [202 kB]\n",
      "Get:4 http://kali.download/kali kali-rolling/contrib amd64 Packages [105 kB]\n",
      "Fetched 18.0 MB in 22s (822 kB/s)\n",
      "Reading package lists...\n",
      "Building dependency tree...\n",
      "Reading state information...\n",
      "210 packages can be upgraded. Run 'apt list --upgradable' to see them.\n",
      "Reading package lists...\n",
      "Building dependency tree...\n",
      "Reading state information...\n",
      "The following additional packages will be installed:\n",
      "  libpcap0.8\n",
      "The following NEW packages will be installed:\n",
      "  hping3 libpcap0.8\n",
      "0 upgraded, 2 newly installed, 0 to remove and 210 not upgraded.\n",
      "Need to get 265 kB of archives.\n",
      "After this operation, 643 kB of additional disk space will be used.\n",
      "Get:1 http://kali.download/kali kali-rolling/main amd64 libpcap0.8 amd64 1.10.0-2 [159 kB]\n",
      "Get:2 http://kali.download/kali kali-rolling/main amd64 hping3 amd64 3.a2.ds2-10 [106 kB]\n",
      "Fetched 265 kB in 5s (48.9 kB/s)\n",
      "Selecting previously unselected package libpcap0.8:amd64.\r\n",
      "(Reading database ... \r",
      "(Reading database ... 5%\r",
      "(Reading database ... 10%\r",
      "(Reading database ... 15%\r",
      "(Reading database ... 20%\r",
      "(Reading database ... 25%\r",
      "(Reading database ... 30%\r",
      "(Reading database ... 35%\r",
      "(Reading database ... 40%\r",
      "(Reading database ... 45%\r",
      "(Reading database ... 50%\r",
      "(Reading database ... 55%\r",
      "(Reading database ... 60%\r",
      "(Reading database ... 65%\r",
      "(Reading database ... 70%\r",
      "(Reading database ... 75%\r",
      "(Reading database ... 80%\r",
      "(Reading database ... 85%\r",
      "(Reading database ... 90%\r",
      "(Reading database ... 95%\r",
      "(Reading database ... 100%\r",
      "(Reading database ... 67427 files and directories currently installed.)\r\n",
      "Preparing to unpack .../libpcap0.8_1.10.0-2_amd64.deb ...\r\n",
      "Unpacking libpcap0.8:amd64 (1.10.0-2) ...\r\n",
      "Selecting previously unselected package hping3.\r\n",
      "Preparing to unpack .../hping3_3.a2.ds2-10_amd64.deb ...\r\n",
      "Unpacking hping3 (3.a2.ds2-10) ...\r\n",
      "Setting up libpcap0.8:amd64 (1.10.0-2) ...\r\n",
      "Setting up hping3 (3.a2.ds2-10) ...\r\n",
      "Processing triggers for libc-bin (2.31-5) ...\r\n"
     ]
    },
    {
     "name": "stderr",
     "output_type": "stream",
     "text": [
      "\n",
      "WARNING: apt does not have a stable CLI interface. Use with caution in scripts.\n",
      "\n",
      "\n",
      "WARNING: apt does not have a stable CLI interface. Use with caution in scripts.\n",
      "\n",
      "debconf: delaying package configuration, since apt-utils is not installed\n"
     ]
    }
   ],
   "source": [
    "%%bash\n",
    "sudo apt update\n",
    "sudo apt -y install hping3"
   ]
  },
  {
   "cell_type": "code",
   "execution_count": null,
   "metadata": {},
   "outputs": [],
   "source": [
    "%%bash\n",
    "sudo hping3 -i u1 -S -p 80 134.209.108.201"
   ]
  },
  {
   "cell_type": "code",
   "execution_count": 2,
   "metadata": {},
   "outputs": [
    {
     "name": "stdout",
     "output_type": "stream",
     "text": [
      "Process is interrupted.\n"
     ]
    }
   ],
   "source": [
    "%%bash\n",
    "sudo nmap -O 80 139.180.216.191"
   ]
  },
  {
   "cell_type": "code",
   "execution_count": 24,
   "metadata": {},
   "outputs": [
    {
     "name": "stdout",
     "output_type": "stream",
     "text": [
      "Process is interrupted.\n"
     ]
    }
   ],
   "source": [
    "%%bash\n",
    "sudo nikto -h 207.148.122.43"
   ]
  },
  {
   "cell_type": "code",
   "execution_count": null,
   "metadata": {},
   "outputs": [],
   "source": [
    "%%bash\n",
    "sudo ping 134.209.108.201"
   ]
  },
  {
   "cell_type": "code",
   "execution_count": null,
   "metadata": {},
   "outputs": [],
   "source": [
    "%%bash\n",
    "sudo nmap -a 45.77.246.250"
   ]
  },
  {
   "cell_type": "code",
   "execution_count": null,
   "metadata": {},
   "outputs": [],
   "source": []
  }
 ],
 "metadata": {
  "kernelspec": {
   "display_name": "Python 3",
   "language": "python",
   "name": "python3"
  },
  "language_info": {
   "codemirror_mode": {
    "name": "ipython",
    "version": 3
   },
   "file_extension": ".py",
   "mimetype": "text/x-python",
   "name": "python",
   "nbconvert_exporter": "python",
   "pygments_lexer": "ipython3",
   "version": "3.8.7"
  }
 },
 "nbformat": 4,
 "nbformat_minor": 4
}
