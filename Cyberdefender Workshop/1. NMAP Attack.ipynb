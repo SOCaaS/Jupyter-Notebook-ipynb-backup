{
 "cells": [
  {
   "cell_type": "markdown",
   "id": "helpful-realtor",
   "metadata": {},
   "source": [
    "## NMAP Attack"
   ]
  },
  {
   "cell_type": "markdown",
   "id": "lucky-magic",
   "metadata": {},
   "source": [
    "## On Docker"
   ]
  },
  {
   "cell_type": "code",
   "execution_count": 1,
   "id": "smoking-community",
   "metadata": {},
   "outputs": [
    {
     "name": "stdout",
     "output_type": "stream",
     "text": [
      "Nmap 7.91 ( https://nmap.org )\n",
      "Usage: nmap [Scan Type(s)] [Options] {target specification}\n",
      "TARGET SPECIFICATION:\n",
      "  Can pass hostnames, IP addresses, networks, etc.\n",
      "  Ex: scanme.nmap.org, microsoft.com/24, 192.168.0.1; 10.0.0-255.1-254\n",
      "  -iL <inputfilename>: Input from list of hosts/networks\n",
      "  -iR <num hosts>: Choose random targets\n",
      "  --exclude <host1[,host2][,host3],...>: Exclude hosts/networks\n",
      "  --excludefile <exclude_file>: Exclude list from file\n",
      "HOST DISCOVERY:\n",
      "  -sL: List Scan - simply list targets to scan\n",
      "  -sn: Ping Scan - disable port scan\n",
      "  -Pn: Treat all hosts as online -- skip host discovery\n",
      "  -PS/PA/PU/PY[portlist]: TCP SYN/ACK, UDP or SCTP discovery to given ports\n",
      "  -PE/PP/PM: ICMP echo, timestamp, and netmask request discovery probes\n",
      "  -PO[protocol list]: IP Protocol Ping\n",
      "  -n/-R: Never do DNS resolution/Always resolve [default: sometimes]\n",
      "  --dns-servers <serv1[,serv2],...>: Specify custom DNS servers\n",
      "  --system-dns: Use OS's DNS resolver\n",
      "  --traceroute: Trace hop path to each host\n",
      "SCAN TECHNIQUES:\n",
      "  -sS/sT/sA/sW/sM: TCP SYN/Connect()/ACK/Window/Maimon scans\n",
      "  -sU: UDP Scan\n",
      "  -sN/sF/sX: TCP Null, FIN, and Xmas scans\n",
      "  --scanflags <flags>: Customize TCP scan flags\n",
      "  -sI <zombie host[:probeport]>: Idle scan\n",
      "  -sY/sZ: SCTP INIT/COOKIE-ECHO scans\n",
      "  -sO: IP protocol scan\n",
      "  -b <FTP relay host>: FTP bounce scan\n",
      "PORT SPECIFICATION AND SCAN ORDER:\n",
      "  -p <port ranges>: Only scan specified ports\n",
      "    Ex: -p22; -p1-65535; -p U:53,111,137,T:21-25,80,139,8080,S:9\n",
      "  --exclude-ports <port ranges>: Exclude the specified ports from scanning\n",
      "  -F: Fast mode - Scan fewer ports than the default scan\n",
      "  -r: Scan ports consecutively - don't randomize\n",
      "  --top-ports <number>: Scan <number> most common ports\n",
      "  --port-ratio <ratio>: Scan ports more common than <ratio>\n",
      "SERVICE/VERSION DETECTION:\n",
      "  -sV: Probe open ports to determine service/version info\n",
      "  --version-intensity <level>: Set from 0 (light) to 9 (try all probes)\n",
      "  --version-light: Limit to most likely probes (intensity 2)\n",
      "  --version-all: Try every single probe (intensity 9)\n",
      "  --version-trace: Show detailed version scan activity (for debugging)\n",
      "SCRIPT SCAN:\n",
      "  -sC: equivalent to --script=default\n",
      "  --script=<Lua scripts>: <Lua scripts> is a comma separated list of\n",
      "           directories, script-files or script-categories\n",
      "  --script-args=<n1=v1,[n2=v2,...]>: provide arguments to scripts\n",
      "  --script-args-file=filename: provide NSE script args in a file\n",
      "  --script-trace: Show all data sent and received\n",
      "  --script-updatedb: Update the script database.\n",
      "  --script-help=<Lua scripts>: Show help about scripts.\n",
      "           <Lua scripts> is a comma-separated list of script-files or\n",
      "           script-categories.\n",
      "OS DETECTION:\n",
      "  -O: Enable OS detection\n",
      "  --osscan-limit: Limit OS detection to promising targets\n",
      "  --osscan-guess: Guess OS more aggressively\n",
      "TIMING AND PERFORMANCE:\n",
      "  Options which take <time> are in seconds, or append 'ms' (milliseconds),\n",
      "  's' (seconds), 'm' (minutes), or 'h' (hours) to the value (e.g. 30m).\n",
      "  -T<0-5>: Set timing template (higher is faster)\n",
      "  --min-hostgroup/max-hostgroup <size>: Parallel host scan group sizes\n",
      "  --min-parallelism/max-parallelism <numprobes>: Probe parallelization\n",
      "  --min-rtt-timeout/max-rtt-timeout/initial-rtt-timeout <time>: Specifies\n",
      "      probe round trip time.\n",
      "  --max-retries <tries>: Caps number of port scan probe retransmissions.\n",
      "  --host-timeout <time>: Give up on target after this long\n",
      "  --scan-delay/--max-scan-delay <time>: Adjust delay between probes\n",
      "  --min-rate <number>: Send packets no slower than <number> per second\n",
      "  --max-rate <number>: Send packets no faster than <number> per second\n",
      "FIREWALL/IDS EVASION AND SPOOFING:\n",
      "  -f; --mtu <val>: fragment packets (optionally w/given MTU)\n",
      "  -D <decoy1,decoy2[,ME],...>: Cloak a scan with decoys\n",
      "  -S <IP_Address>: Spoof source address\n",
      "  -e <iface>: Use specified interface\n",
      "  -g/--source-port <portnum>: Use given port number\n",
      "  --proxies <url1,[url2],...>: Relay connections through HTTP/SOCKS4 proxies\n",
      "  --data <hex string>: Append a custom payload to sent packets\n",
      "  --data-string <string>: Append a custom ASCII string to sent packets\n",
      "  --data-length <num>: Append random data to sent packets\n",
      "  --ip-options <options>: Send packets with specified ip options\n",
      "  --ttl <val>: Set IP time-to-live field\n",
      "  --spoof-mac <mac address/prefix/vendor name>: Spoof your MAC address\n",
      "  --badsum: Send packets with a bogus TCP/UDP/SCTP checksum\n",
      "OUTPUT:\n",
      "  -oN/-oX/-oS/-oG <file>: Output scan in normal, XML, s|<rIpt kIddi3,\n",
      "     and Grepable format, respectively, to the given filename.\n",
      "  -oA <basename>: Output in the three major formats at once\n",
      "  -v: Increase verbosity level (use -vv or more for greater effect)\n",
      "  -d: Increase debugging level (use -dd or more for greater effect)\n",
      "  --reason: Display the reason a port is in a particular state\n",
      "  --open: Only show open (or possibly open) ports\n",
      "  --packet-trace: Show all packets sent and received\n",
      "  --iflist: Print host interfaces and routes (for debugging)\n",
      "  --append-output: Append to rather than clobber specified output files\n",
      "  --resume <filename>: Resume an aborted scan\n",
      "  --stylesheet <path/URL>: XSL stylesheet to transform XML output to HTML\n",
      "  --webxml: Reference stylesheet from Nmap.Org for more portable XML\n",
      "  --no-stylesheet: Prevent associating of XSL stylesheet w/XML output\n",
      "MISC:\n",
      "  -6: Enable IPv6 scanning\n",
      "  -A: Enable OS detection, version detection, script scanning, and traceroute\n",
      "  --datadir <dirname>: Specify custom Nmap data file location\n",
      "  --send-eth/--send-ip: Send using raw ethernet frames or IP packets\n",
      "  --privileged: Assume that the user is fully privileged\n",
      "  --unprivileged: Assume the user lacks raw socket privileges\n",
      "  -V: Print version number\n",
      "  -h: Print this help summary page.\n",
      "EXAMPLES:\n",
      "  nmap -v -A scanme.nmap.org\n",
      "  nmap -v -sn 192.168.0.0/16 10.0.0.0/8\n",
      "  nmap -v -iR 10000 -Pn -p 80\n",
      "SEE THE MAN PAGE (https://nmap.org/book/man.html) FOR MORE OPTIONS AND EXAMPLES\n"
     ]
    }
   ],
   "source": [
    "%%bash\n",
    "nmap --help"
   ]
  },
  {
   "cell_type": "code",
   "execution_count": 2,
   "id": "animated-interaction",
   "metadata": {
    "scrolled": true
   },
   "outputs": [
    {
     "name": "stdout",
     "output_type": "stream",
     "text": [
      "Server:\t\t127.0.0.11\n",
      "Address:\t127.0.0.11#53\n",
      "\n",
      "Non-authoritative answer:\n",
      "Name:\tagent\n",
      "Address: 10.0.2.98\n",
      "\n"
     ]
    }
   ],
   "source": [
    "%%bash\n",
    "nslookup agent"
   ]
  },
  {
   "cell_type": "markdown",
   "id": "unusual-collar",
   "metadata": {},
   "source": [
    "### Finger-printing"
   ]
  },
  {
   "cell_type": "code",
   "execution_count": 3,
   "id": "premier-halloween",
   "metadata": {},
   "outputs": [
    {
     "name": "stdout",
     "output_type": "stream",
     "text": [
      "Starting Nmap 7.91 ( https://nmap.org ) at 2021-03-29 06:04 UTC\n",
      "Nmap scan report for agent (10.0.2.98)\n",
      "Host is up (0.000029s latency).\n",
      "rDNS record for 10.0.2.98: agent_agent_1.main-overlay\n",
      "Not shown: 999 closed ports\n",
      "PORT   STATE SERVICE VERSION\n",
      "80/tcp open  http    Apache httpd 2.4.41 ((Ubuntu))\n",
      "|_http-server-header: Apache/2.4.41 (Ubuntu)\n",
      "|_http-title: Apache2 Ubuntu Default Page: It works\n",
      "MAC Address: 02:42:0A:00:02:62 (Unknown)\n",
      "No exact OS matches for host (If you know what OS is running on it, see https://nmap.org/submit/ ).\n",
      "TCP/IP fingerprint:\n",
      "OS:SCAN(V=7.91%E=4%D=3/29%OT=80%CT=1%CU=33271%PV=Y%DS=1%DC=D%G=Y%M=02420A%T\n",
      "OS:M=60616DF1%P=x86_64-pc-linux-gnu)SEQ(SP=106%GCD=1%ISR=10D%TI=Z%CI=Z%II=I\n",
      "OS:%TS=A)OPS(O1=M582ST11NW7%O2=M582ST11NW7%O3=M582NNT11NW7%O4=M582ST11NW7%O\n",
      "OS:5=M582ST11NW7%O6=M582ST11)WIN(W1=FB34%W2=FB34%W3=FB34%W4=FB34%W5=FB34%W6\n",
      "OS:=FB34)ECN(R=Y%DF=Y%T=40%W=FD5C%O=M582NNSNW7%CC=Y%Q=)T1(R=Y%DF=Y%T=40%S=O\n",
      "OS:%A=S+%F=AS%RD=0%Q=)T2(R=N)T3(R=N)T4(R=Y%DF=Y%T=40%W=0%S=A%A=Z%F=R%O=%RD=\n",
      "OS:0%Q=)T5(R=Y%DF=Y%T=40%W=0%S=Z%A=S+%F=AR%O=%RD=0%Q=)T6(R=Y%DF=Y%T=40%W=0%\n",
      "OS:S=A%A=Z%F=R%O=%RD=0%Q=)T7(R=Y%DF=Y%T=40%W=0%S=Z%A=S+%F=AR%O=%RD=0%Q=)U1(\n",
      "OS:R=Y%DF=N%T=40%IPL=164%UN=0%RIPL=G%RID=G%RIPCK=G%RUCK=G%RUD=G)IE(R=Y%DFI=\n",
      "OS:N%T=40%CD=S)\n",
      "\n",
      "Network Distance: 1 hop\n",
      "\n",
      "TRACEROUTE\n",
      "HOP RTT     ADDRESS\n",
      "1   0.03 ms agent_agent_1.main-overlay (10.0.2.98)\n",
      "\n",
      "OS and Service detection performed. Please report any incorrect results at https://nmap.org/submit/ .\n",
      "Nmap done: 1 IP address (1 host up) scanned in 18.22 seconds\n"
     ]
    }
   ],
   "source": [
    "%%bash\n",
    "sudo nmap -A agent"
   ]
  },
  {
   "cell_type": "markdown",
   "id": "effective-korean",
   "metadata": {},
   "source": [
    "## On VPS"
   ]
  },
  {
   "cell_type": "code",
   "execution_count": 4,
   "id": "composite-maine",
   "metadata": {},
   "outputs": [
    {
     "name": "stdout",
     "output_type": "stream",
     "text": [
      "Server:\t\t127.0.0.11\n",
      "Address:\t127.0.0.11#53\n",
      "\n",
      "Non-authoritative answer:\n",
      "Name:\tdoblog-uow.1ez.xyz\n",
      "Address: 134.209.109.199\n",
      "\n"
     ]
    }
   ],
   "source": [
    "%%bash\n",
    "nslookup doblog-uow.1ez.xyz"
   ]
  },
  {
   "cell_type": "markdown",
   "id": "ranging-economy",
   "metadata": {},
   "source": [
    "### Fingerprinting"
   ]
  },
  {
   "cell_type": "code",
   "execution_count": 5,
   "id": "requested-douglas",
   "metadata": {},
   "outputs": [
    {
     "name": "stdout",
     "output_type": "stream",
     "text": [
      "Starting Nmap 7.91 ( https://nmap.org ) at 2021-03-29 06:06 UTC\n",
      "Nmap scan report for doblog-uow.1ez.xyz (134.209.109.199)\n",
      "Host is up (0.26s latency).\n",
      "Not shown: 998 closed ports\n",
      "PORT   STATE SERVICE VERSION\n",
      "22/tcp open  ssh     OpenSSH 8.2p1 Ubuntu 4ubuntu0.2 (Ubuntu Linux; protocol 2.0)\n",
      "| ssh-hostkey: \n",
      "|   3072 5a:41:ae:73:b6:0e:22:3a:0c:b5:74:72:e7:e8:82:0d (RSA)\n",
      "|   256 61:70:e4:66:66:a7:fe:81:f1:75:6a:c1:dc:ac:2d:ca (ECDSA)\n",
      "|_  256 c1:90:ac:0e:6b:5b:58:3b:24:2b:32:6e:64:91:66:ab (ED25519)\n",
      "80/tcp open  http    Apache httpd 2.4.41 ((Ubuntu))\n",
      "|_http-server-header: Apache/2.4.41 (Ubuntu)\n",
      "|_http-title: Apache2 Ubuntu Default Page: It works\n",
      "Device type: general purpose\n",
      "Running: Linux 5.X\n",
      "OS CPE: cpe:/o:linux:linux_kernel:5\n",
      "OS details: Linux 5.0 - 5.4\n",
      "Network Distance: 19 hops\n",
      "Service Info: OS: Linux; CPE: cpe:/o:linux:linux_kernel\n",
      "\n",
      "TRACEROUTE (using port 587/tcp)\n",
      "HOP RTT       ADDRESS\n",
      "1   0.03 ms   vmi485199.contaboserver.net (172.24.0.1)\n",
      "2   0.19 ms   ip-161-97-128-11.static.contabo.net (161.97.128.11)\n",
      "3   0.22 ms   10.0.50.1\n",
      "4   ... 5\n",
      "6   260.86 ms if-ae-54-2.tcore1.fr0-frankfurt.as6453.net (195.219.219.72)\n",
      "7   260.92 ms if-ae-54-2.tcore1.fr0-frankfurt.as6453.net (195.219.219.72)\n",
      "8   244.48 ms if-ae-49-2.tcore1.pvu-paris.as6453.net (80.231.153.20)\n",
      "9   244.60 ms if-ae-49-2.tcore1.pvu-paris.as6453.net (80.231.153.20)\n",
      "10  245.77 ms if-ae-8-1601.tcore1.wyn-marseille.as6453.net (80.231.154.99)\n",
      "11  242.11 ms if-ae-8-1602.tcore1.wyn-marseille.as6453.net (80.231.154.205)\n",
      "12  242.15 ms if-ae-11-2.thar1.svq-singapore.as6453.net (180.87.98.37)\n",
      "13  257.43 ms if-ae-2-2.tcore2.mlv-mumbai.as6453.net (180.87.38.2)\n",
      "14  ...\n",
      "15  252.41 ms if-ae-11-2.thar1.svq-singapore.as6453.net (180.87.98.37)\n",
      "16  ... 18\n",
      "19  241.14 ms 134.209.109.199\n",
      "\n",
      "OS and Service detection performed. Please report any incorrect results at https://nmap.org/submit/ .\n",
      "Nmap done: 1 IP address (1 host up) scanned in 24.26 seconds\n"
     ]
    }
   ],
   "source": [
    "%%bash\n",
    "sudo nmap -A doblog-uow.1ez.xyz"
   ]
  }
 ],
 "metadata": {
  "kernelspec": {
   "display_name": "Python 3",
   "language": "python",
   "name": "python3"
  },
  "language_info": {
   "codemirror_mode": {
    "name": "ipython",
    "version": 3
   },
   "file_extension": ".py",
   "mimetype": "text/x-python",
   "name": "python",
   "nbconvert_exporter": "python",
   "pygments_lexer": "ipython3",
   "version": "3.8.2"
  }
 },
 "nbformat": 4,
 "nbformat_minor": 5
}
