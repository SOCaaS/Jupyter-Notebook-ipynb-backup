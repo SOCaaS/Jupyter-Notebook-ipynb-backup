{
 "cells": [
  {
   "cell_type": "markdown",
   "id": "helpful-realtor",
   "metadata": {},
   "source": [
    "## NMAP Attack"
   ]
  },
  {
   "cell_type": "markdown",
   "id": "lucky-magic",
   "metadata": {},
   "source": [
    "## On Docker"
   ]
  },
  {
   "cell_type": "code",
   "execution_count": null,
   "id": "smoking-community",
   "metadata": {},
   "outputs": [],
   "source": [
    "%%bash\n",
    "nmap --help"
   ]
  },
  {
   "cell_type": "code",
   "execution_count": null,
   "id": "animated-interaction",
   "metadata": {
    "scrolled": true
   },
   "outputs": [],
   "source": [
    "%%bash\n",
    "nslookup agent"
   ]
  },
  {
   "cell_type": "markdown",
   "id": "unusual-collar",
   "metadata": {},
   "source": [
    "### Finger-printing"
   ]
  },
  {
   "cell_type": "code",
   "execution_count": null,
   "id": "premier-halloween",
   "metadata": {},
   "outputs": [],
   "source": [
    "%%bash\n",
    "sudo nmap -A agent"
   ]
  },
  {
   "cell_type": "markdown",
   "id": "effective-korean",
   "metadata": {},
   "source": [
    "## On VPS"
   ]
  },
  {
   "cell_type": "code",
   "execution_count": null,
   "id": "composite-maine",
   "metadata": {},
   "outputs": [],
   "source": [
    "%%bash\n",
    "nslookup doblog-uow.1ez.xyz"
   ]
  },
  {
   "cell_type": "markdown",
   "id": "ranging-economy",
   "metadata": {},
   "source": [
    "### Fingerprinting"
   ]
  },
  {
   "cell_type": "code",
   "execution_count": null,
   "id": "requested-douglas",
   "metadata": {},
   "outputs": [],
   "source": [
    "%%bash\n",
    "sudo nmap -A doblog-uow.1ez.xyz"
   ]
  }
 ],
 "metadata": {
  "kernelspec": {
   "display_name": "Python 3",
   "language": "python",
   "name": "python3"
  },
  "language_info": {
   "codemirror_mode": {
    "name": "ipython",
    "version": 3
   },
   "file_extension": ".py",
   "mimetype": "text/x-python",
   "name": "python",
   "nbconvert_exporter": "python",
   "pygments_lexer": "ipython3",
   "version": "3.8.2"
  }
 },
 "nbformat": 4,
 "nbformat_minor": 5
}
