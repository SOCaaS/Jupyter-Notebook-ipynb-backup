{
 "cells": [
  {
   "cell_type": "markdown",
   "id": "mathematical-exemption",
   "metadata": {},
   "source": [
    "### OS Scan"
   ]
  },
  {
   "cell_type": "code",
   "execution_count": 18,
   "id": "classified-sunset",
   "metadata": {},
   "outputs": [
    {
     "name": "stdout",
     "output_type": "stream",
     "text": [
      "Starting Nmap 7.91 ( https://nmap.org ) at 2021-03-28 03:23 UTC\n",
      "Nmap scan report for agent (10.0.2.98)\n",
      "Host is up (0.000034s latency).\n",
      "rDNS record for 10.0.2.98: agent_agent_1.main-overlay\n",
      "Not shown: 999 closed ports\n",
      "PORT   STATE SERVICE\n",
      "80/tcp open  http\n",
      "MAC Address: 02:42:0A:00:02:62 (Unknown)\n",
      "No exact OS matches for host (If you know what OS is running on it, see https://nmap.org/submit/ ).\n",
      "TCP/IP fingerprint:\n",
      "OS:SCAN(V=7.91%E=4%D=3/28%OT=80%CT=1%CU=44184%PV=Y%DS=1%DC=D%G=Y%M=02420A%T\n",
      "OS:M=605FF6B4%P=x86_64-pc-linux-gnu)SEQ(SP=FE%GCD=1%ISR=105%TI=Z%CI=Z%II=I%\n",
      "OS:TS=A)OPS(O1=M582ST11NW7%O2=M582ST11NW7%O3=M582NNT11NW7%O4=M582ST11NW7%O5\n",
      "OS:=M582ST11NW7%O6=M582ST11)WIN(W1=FB34%W2=FB34%W3=FB34%W4=FB34%W5=FB34%W6=\n",
      "OS:FB34)ECN(R=Y%DF=Y%T=40%W=FD5C%O=M582NNSNW7%CC=Y%Q=)T1(R=Y%DF=Y%T=40%S=O%\n",
      "OS:A=S+%F=AS%RD=0%Q=)T2(R=N)T3(R=N)T4(R=Y%DF=Y%T=40%W=0%S=A%A=Z%F=R%O=%RD=0\n",
      "OS:%Q=)T5(R=Y%DF=Y%T=40%W=0%S=Z%A=S+%F=AR%O=%RD=0%Q=)T6(R=Y%DF=Y%T=40%W=0%S\n",
      "OS:=A%A=Z%F=R%O=%RD=0%Q=)T7(R=Y%DF=Y%T=40%W=0%S=Z%A=S+%F=AR%O=%RD=0%Q=)U1(R\n",
      "OS:=Y%DF=N%T=40%IPL=164%UN=0%RIPL=G%RID=G%RIPCK=G%RUCK=G%RUD=G)IE(R=Y%DFI=N\n",
      "OS:%T=40%CD=S)\n",
      "\n",
      "Network Distance: 1 hop\n",
      "\n",
      "OS detection performed. Please report any incorrect results at https://nmap.org/submit/ .\n",
      "Nmap done: 1 IP address (1 host up) scanned in 11.80 seconds\n"
     ]
    }
   ],
   "source": [
    "%%bash\n",
    "sudo nmap -O agent"
   ]
  },
  {
   "cell_type": "code",
   "execution_count": null,
   "id": "daily-distribution",
   "metadata": {},
   "outputs": [],
   "source": []
  }
 ],
 "metadata": {
  "kernelspec": {
   "display_name": "Python 3",
   "language": "python",
   "name": "python3"
  },
  "language_info": {
   "codemirror_mode": {
    "name": "ipython",
    "version": 3
   },
   "file_extension": ".py",
   "mimetype": "text/x-python",
   "name": "python",
   "nbconvert_exporter": "python",
   "pygments_lexer": "ipython3",
   "version": "3.8.2"
  }
 },
 "nbformat": 4,
 "nbformat_minor": 5
}
