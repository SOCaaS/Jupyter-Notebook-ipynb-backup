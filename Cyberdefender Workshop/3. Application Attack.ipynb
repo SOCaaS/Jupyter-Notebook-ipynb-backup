{
 "cells": [
  {
   "cell_type": "markdown",
   "id": "fantastic-iceland",
   "metadata": {},
   "source": [
    "## Application Attack\n",
    "This attack would be reflected in the applicaiton layer Apache Logs."
   ]
  },
  {
   "cell_type": "markdown",
   "id": "close-reader",
   "metadata": {},
   "source": [
    "### Setup on Kali Linux for WPScan"
   ]
  },
  {
   "cell_type": "code",
   "execution_count": 1,
   "id": "linear-interval",
   "metadata": {
    "scrolled": true
   },
   "outputs": [
    {
     "name": "stdout",
     "output_type": "stream",
     "text": [
      "_______________________________________________________________\n",
      "         __          _______   _____\n",
      "         \\ \\        / /  __ \\ / ____|\n",
      "          \\ \\  /\\  / /| |__) | (___   ___  __ _ _ __ ®\n",
      "           \\ \\/  \\/ / |  ___/ \\___ \\ / __|/ _` | '_ \\\n",
      "            \\  /\\  /  | |     ____) | (__| (_| | | | |\n",
      "             \\/  \\/   |_|    |_____/ \\___|\\__,_|_| |_|\n",
      "\n",
      "         WordPress Security Scanner by the WPScan Team\n",
      "                         Version 3.8.17\n",
      "       Sponsored by Automattic - https://automattic.com/\n",
      "       @_WPScan_, @ethicalhack3r, @erwan_lr, @firefart\n",
      "_______________________________________________________________\n",
      "\n",
      "\u001b[34m[i]\u001b[0m Updating the Database ...\n",
      "\u001b[34m[i]\u001b[0m Update completed.\n",
      "\n"
     ]
    }
   ],
   "source": [
    "%%bash\n",
    "wpscan --update"
   ]
  },
  {
   "cell_type": "markdown",
   "id": "regulation-badge",
   "metadata": {},
   "source": [
    "### On Server doblog-uow.1ez.xyz"
   ]
  },
  {
   "cell_type": "code",
   "execution_count": 2,
   "id": "portuguese-excuse",
   "metadata": {
    "scrolled": false
   },
   "outputs": [
    {
     "name": "stdout",
     "output_type": "stream",
     "text": [
      "_______________________________________________________________\n",
      "         __          _______   _____\n",
      "         \\ \\        / /  __ \\ / ____|\n",
      "          \\ \\  /\\  / /| |__) | (___   ___  __ _ _ __ ®\n",
      "           \\ \\/  \\/ / |  ___/ \\___ \\ / __|/ _` | '_ \\\n",
      "            \\  /\\  /  | |     ____) | (__| (_| | | | |\n",
      "             \\/  \\/   |_|    |_____/ \\___|\\__,_|_| |_|\n",
      "\n",
      "         WordPress Security Scanner by the WPScan Team\n",
      "                         Version 3.8.17\n",
      "       Sponsored by Automattic - https://automattic.com/\n",
      "       @_WPScan_, @ethicalhack3r, @erwan_lr, @firefart\n",
      "_______________________________________________________________\n",
      "\n",
      "\u001b[32m[+]\u001b[0m URL: http://doblog-uow.1ez.xyz/blog/ [134.209.109.199]\n",
      "\u001b[32m[+]\u001b[0m Started: Mon Mar 29 07:26:07 2021\n",
      "\n",
      "Interesting Finding(s):\n",
      "\n",
      "\u001b[32m[+]\u001b[0m Headers\n",
      " | Interesting Entry: Server: Apache/2.4.41 (Ubuntu)\n",
      " | Found By: Headers (Passive Detection)\n",
      " | Confidence: 100%\n",
      "\n",
      "\u001b[32m[+]\u001b[0m XML-RPC seems to be enabled: http://doblog-uow.1ez.xyz/blog/xmlrpc.php\n",
      " | Found By: Direct Access (Aggressive Detection)\n",
      " | Confidence: 100%\n",
      " | References:\n",
      " |  - http://codex.wordpress.org/XML-RPC_Pingback_API\n",
      " |  - https://www.rapid7.com/db/modules/auxiliary/scanner/http/wordpress_ghost_scanner/\n",
      " |  - https://www.rapid7.com/db/modules/auxiliary/dos/http/wordpress_xmlrpc_dos/\n",
      " |  - https://www.rapid7.com/db/modules/auxiliary/scanner/http/wordpress_xmlrpc_login/\n",
      " |  - https://www.rapid7.com/db/modules/auxiliary/scanner/http/wordpress_pingback_access/\n",
      "\n",
      "\u001b[32m[+]\u001b[0m WordPress readme found: http://doblog-uow.1ez.xyz/blog/readme.html\n",
      " | Found By: Direct Access (Aggressive Detection)\n",
      " | Confidence: 100%\n",
      "\n",
      "\u001b[32m[+]\u001b[0m The external WP-Cron seems to be enabled: http://doblog-uow.1ez.xyz/blog/wp-cron.php\n",
      " | Found By: Direct Access (Aggressive Detection)\n",
      " | Confidence: 60%\n",
      " | References:\n",
      " |  - https://www.iplocation.net/defend-wordpress-from-ddos\n",
      " |  - https://github.com/wpscanteam/wpscan/issues/1299\n",
      "\n",
      "\u001b[32m[+]\u001b[0m WordPress version 5.3.6 identified (Latest, released on 2020-10-30).\n",
      " | Found By: Rss Generator (Passive Detection)\n",
      " |  - http://doblog-uow.1ez.xyz/blog/index.php/feed/, <generator>https://wordpress.org/?v=5.3.6</generator>\n",
      " |  - http://doblog-uow.1ez.xyz/blog/index.php/comments/feed/, <generator>https://wordpress.org/?v=5.3.6</generator>\n",
      "\n",
      "\u001b[32m[+]\u001b[0m WordPress theme in use: twentynineteen\n",
      " | Location: http://doblog-uow.1ez.xyz/blog/wp-content/themes/twentynineteen/\n",
      " | Last Updated: 2021-03-09T00:00:00.000Z\n",
      " | Readme: http://doblog-uow.1ez.xyz/blog/wp-content/themes/twentynineteen/readme.txt\n",
      " | \u001b[33m[!]\u001b[0m The version is out of date, the latest version is 2.0\n",
      " | Style URL: http://doblog-uow.1ez.xyz/blog/wp-content/themes/twentynineteen/style.css?ver=1.4\n",
      " | Style Name: Twenty Nineteen\n",
      " | Style URI: https://wordpress.org/themes/twentynineteen/\n",
      " | Description: Our 2019 default theme is designed to show off the power of the block editor. It features custom sty...\n",
      " | Author: the WordPress team\n",
      " | Author URI: https://wordpress.org/\n",
      " |\n",
      " | Found By: Css Style In Homepage (Passive Detection)\n",
      " |\n",
      " | Version: 1.4 (80% confidence)\n",
      " | Found By: Style (Passive Detection)\n",
      " |  - http://doblog-uow.1ez.xyz/blog/wp-content/themes/twentynineteen/style.css?ver=1.4, Match: 'Version: 1.4'\n",
      "\n",
      "\u001b[32m[+]\u001b[0m Enumerating All Plugins (via Passive Methods)\n",
      "\n",
      "\u001b[34m[i]\u001b[0m No plugins Found.\n",
      "\n",
      "\u001b[32m[+]\u001b[0m Enumerating Config Backups (via Passive and Aggressive Methods)\n",
      "\n",
      " Checking Config Backups -: |==================================================|\n",
      "\n",
      "\u001b[34m[i]\u001b[0m No Config Backups Found.\n",
      "\n",
      "\u001b[33m[!]\u001b[0m No WPScan API Token given, as a result vulnerability data has not been output.\n",
      "\u001b[33m[!]\u001b[0m You can get a free API token with 25 daily requests by registering at https://wpscan.com/register\n",
      "\n",
      "\u001b[32m[+]\u001b[0m Finished: Mon Mar 29 07:26:20 2021\n",
      "\u001b[32m[+]\u001b[0m Requests Done: 53\n",
      "\u001b[32m[+]\u001b[0m Cached Requests: 5\n",
      "\u001b[32m[+]\u001b[0m Data Sent: 15.03 KB\n",
      "\u001b[32m[+]\u001b[0m Data Received: 478.484 KB\n",
      "\u001b[32m[+]\u001b[0m Memory used: 244.246 MB\n",
      "\u001b[32m[+]\u001b[0m Elapsed time: 00:00:13\n"
     ]
    }
   ],
   "source": [
    "%%bash\n",
    "wpscan --url http://doblog-uow.1ez.xyz/blog/"
   ]
  },
  {
   "cell_type": "code",
   "execution_count": 3,
   "id": "seeing-charm",
   "metadata": {},
   "outputs": [
    {
     "name": "stdout",
     "output_type": "stream",
     "text": [
      "- Nikto v2.1.6\n",
      "---------------------------------------------------------------------------\n",
      "+ Target IP:          134.209.109.199\n",
      "+ Target Hostname:    doblog-uow.1ez.xyz\n",
      "+ Target Port:        80\n",
      "+ Start Time:         2021-03-29 07:26:21 (GMT0)\n",
      "---------------------------------------------------------------------------\n",
      "+ Server: Apache/2.4.41 (Ubuntu)\n",
      "+ The anti-clickjacking X-Frame-Options header is not present.\n",
      "+ The X-XSS-Protection header is not defined. This header can hint to the user agent to protect against some forms of XSS\n",
      "+ Uncommon header 'link' found, with contents: <http://doblog-uow.1ez.xyz/blog/index.php/wp-json/>; rel=\"https://api.w.org/\"\n",
      "+ The X-Content-Type-Options header is not set. This could allow the user agent to render the content of the site in a different fashion to the MIME type\n",
      "+ Uncommon header 'x-redirect-by' found, with contents: WordPress\n",
      "+ No CGI Directories found (use '-C all' to force check all possible dirs)\n",
      "+ Allowed HTTP Methods: POST, OPTIONS, HEAD, GET \n",
      "+ Web Server returns a valid response with junk HTTP methods, this may cause false positives.\n",
      "+ /blog/wp-links-opml.php: This WordPress script reveals the installed version.\n",
      "+ /blog/: A Wordpress installation was found.\n",
      "+ Cookie wordpress_test_cookie created without the httponly flag\n",
      "+ /blog/wp-login.php: Wordpress login found\n",
      "+ 7863 requests: 0 error(s) and 11 item(s) reported on remote host\n",
      "+ End Time:           2021-03-29 08:01:17 (GMT0) (2096 seconds)\n",
      "---------------------------------------------------------------------------\n",
      "+ 1 host(s) tested\n",
      "\n",
      "\n",
      "      *********************************************************************\n",
      "      Portions of the server's headers (Apache/2.4.41) are not in\n",
      "      the Nikto 2.1.6 database or are newer than the known string. Would you like\n",
      "      to submit this information (*no server specific data*) to CIRT.net\n",
      "      for a Nikto update (or you may email to sullo@cirt.net) (y/n)? \n"
     ]
    }
   ],
   "source": [
    "%%bash\n",
    "nikto -h http://doblog-uow.1ez.xyz/blog/"
   ]
  },
  {
   "cell_type": "markdown",
   "id": "formal-ticket",
   "metadata": {},
   "source": [
    "## Internal Network"
   ]
  },
  {
   "cell_type": "code",
   "execution_count": 4,
   "id": "departmental-robinson",
   "metadata": {},
   "outputs": [
    {
     "name": "stdout",
     "output_type": "stream",
     "text": [
      "Server:\t\t127.0.0.11\n",
      "Address:\t127.0.0.11#53\n",
      "\n",
      "Non-authoritative answer:\n",
      "Name:\tagent\n",
      "Address: 10.0.2.98\n",
      "\n"
     ]
    }
   ],
   "source": [
    "%%bash\n",
    "nslookup agent"
   ]
  },
  {
   "cell_type": "code",
   "execution_count": 5,
   "id": "southwest-henry",
   "metadata": {
    "scrolled": true
   },
   "outputs": [
    {
     "name": "stdout",
     "output_type": "stream",
     "text": [
      "Server:\t\t127.0.0.11\n",
      "Address:\t127.0.0.11#53\n",
      "\n",
      "Non-authoritative answer:\n",
      "Name:\tblog-uow.1ez.xyz\n",
      "Address: 104.21.23.251\n",
      "Name:\tblog-uow.1ez.xyz\n",
      "Address: 172.67.214.187\n",
      "Name:\tblog-uow.1ez.xyz\n",
      "Address: 2606:4700:3031::ac43:d6bb\n",
      "Name:\tblog-uow.1ez.xyz\n",
      "Address: 2606:4700:3035::6815:17fb\n",
      "\n"
     ]
    }
   ],
   "source": [
    "%%bash\n",
    "nslookup blog-uow.1ez.xyz"
   ]
  },
  {
   "cell_type": "markdown",
   "id": "virgin-shepherd",
   "metadata": {},
   "source": [
    "## On Docker"
   ]
  },
  {
   "cell_type": "code",
   "execution_count": 6,
   "id": "genetic-reply",
   "metadata": {
    "scrolled": true
   },
   "outputs": [
    {
     "name": "stdout",
     "output_type": "stream",
     "text": [
      "_______________________________________________________________\n",
      "         __          _______   _____\n",
      "         \\ \\        / /  __ \\ / ____|\n",
      "          \\ \\  /\\  / /| |__) | (___   ___  __ _ _ __ ®\n",
      "           \\ \\/  \\/ / |  ___/ \\___ \\ / __|/ _` | '_ \\\n",
      "            \\  /\\  /  | |     ____) | (__| (_| | | | |\n",
      "             \\/  \\/   |_|    |_____/ \\___|\\__,_|_| |_|\n",
      "\n",
      "         WordPress Security Scanner by the WPScan Team\n",
      "                         Version 3.8.17\n",
      "       Sponsored by Automattic - https://automattic.com/\n",
      "       @_WPScan_, @ethicalhack3r, @erwan_lr, @firefart\n",
      "_______________________________________________________________\n",
      "\n",
      "\u001b[32m[+]\u001b[0m URL: http://agent/blog/ [10.0.2.98]\n",
      "\u001b[32m[+]\u001b[0m Started: Mon Mar 29 08:01:19 2021\n",
      "\n",
      "Interesting Finding(s):\n",
      "\n",
      "\u001b[32m[+]\u001b[0m Headers\n",
      " | Interesting Entry: Server: Apache/2.4.41 (Ubuntu)\n",
      " | Found By: Headers (Passive Detection)\n",
      " | Confidence: 100%\n",
      "\n",
      "\u001b[32m[+]\u001b[0m XML-RPC seems to be enabled: http://agent/blog/xmlrpc.php\n",
      " | Found By: Direct Access (Aggressive Detection)\n",
      " | Confidence: 100%\n",
      " | References:\n",
      " |  - http://codex.wordpress.org/XML-RPC_Pingback_API\n",
      " |  - https://www.rapid7.com/db/modules/auxiliary/scanner/http/wordpress_ghost_scanner/\n",
      " |  - https://www.rapid7.com/db/modules/auxiliary/dos/http/wordpress_xmlrpc_dos/\n",
      " |  - https://www.rapid7.com/db/modules/auxiliary/scanner/http/wordpress_xmlrpc_login/\n",
      " |  - https://www.rapid7.com/db/modules/auxiliary/scanner/http/wordpress_pingback_access/\n",
      "\n",
      "\u001b[32m[+]\u001b[0m WordPress readme found: http://agent/blog/readme.html\n",
      " | Found By: Direct Access (Aggressive Detection)\n",
      " | Confidence: 100%\n",
      "\n",
      "\u001b[32m[+]\u001b[0m The external WP-Cron seems to be enabled: http://agent/blog/wp-cron.php\n",
      " | Found By: Direct Access (Aggressive Detection)\n",
      " | Confidence: 60%\n",
      " | References:\n",
      " |  - https://www.iplocation.net/defend-wordpress-from-ddos\n",
      " |  - https://github.com/wpscanteam/wpscan/issues/1299\n",
      "\n",
      "\u001b[32m[+]\u001b[0m WordPress version 5.3.2 identified (Insecure, released on 2019-12-18).\n",
      " | Found By: Emoji Settings (Passive Detection)\n",
      " |  - http://agent/blog/, Match: 'wp-includes\\/js\\/wp-emoji-release.min.js?ver=5.3.2'\n",
      " | Confirmed By: Meta Generator (Passive Detection)\n",
      " |  - http://agent/blog/, Match: 'WordPress 5.3.2'\n",
      "\n",
      "\u001b[34m[i]\u001b[0m The main theme could not be detected.\n",
      "\n",
      "\u001b[32m[+]\u001b[0m Enumerating All Plugins (via Passive Methods)\n",
      "\n",
      "\u001b[34m[i]\u001b[0m No plugins Found.\n",
      "\n",
      "\u001b[32m[+]\u001b[0m Enumerating Config Backups (via Passive and Aggressive Methods)\n",
      "\n",
      " Checking Config Backups -: |==================================================|\n",
      "\n",
      "\u001b[34m[i]\u001b[0m No Config Backups Found.\n",
      "\n",
      "\u001b[33m[!]\u001b[0m No WPScan API Token given, as a result vulnerability data has not been output.\n",
      "\u001b[33m[!]\u001b[0m You can get a free API token with 25 daily requests by registering at https://wpscan.com/register\n",
      "\n",
      "\u001b[32m[+]\u001b[0m Finished: Mon Mar 29 08:01:22 2021\n",
      "\u001b[32m[+]\u001b[0m Requests Done: 47\n",
      "\u001b[32m[+]\u001b[0m Cached Requests: 4\n",
      "\u001b[32m[+]\u001b[0m Data Sent: 12.374 KB\n",
      "\u001b[32m[+]\u001b[0m Data Received: 42.506 KB\n",
      "\u001b[32m[+]\u001b[0m Memory used: 185.426 MB\n",
      "\u001b[32m[+]\u001b[0m Elapsed time: 00:00:02\n"
     ]
    }
   ],
   "source": [
    "%%bash\n",
    "wpscan --url http://agent/blog/"
   ]
  },
  {
   "cell_type": "code",
   "execution_count": 7,
   "id": "refined-employee",
   "metadata": {
    "scrolled": false
   },
   "outputs": [
    {
     "name": "stdout",
     "output_type": "stream",
     "text": [
      "- Nikto v2.1.6\n",
      "---------------------------------------------------------------------------\n",
      "+ Target IP:          10.0.2.98\n",
      "+ Target Hostname:    agent\n",
      "+ Target Port:        80\n",
      "+ Start Time:         2021-03-29 08:01:22 (GMT0)\n",
      "---------------------------------------------------------------------------\n",
      "+ Server: Apache/2.4.41 (Ubuntu)\n",
      "+ The anti-clickjacking X-Frame-Options header is not present.\n",
      "+ The X-XSS-Protection header is not defined. This header can hint to the user agent to protect against some forms of XSS\n",
      "+ Uncommon header 'link' found, with contents: <http://blog-uow.1ez.xyz/blog/index.php/wp-json/>; rel=\"https://api.w.org/\"\n",
      "+ The X-Content-Type-Options header is not set. This could allow the user agent to render the content of the site in a different fashion to the MIME type\n",
      "+ Uncommon header 'x-redirect-by' found, with contents: WordPress\n",
      "+ No CGI Directories found (use '-C all' to force check all possible dirs)\n",
      "+ Allowed HTTP Methods: GET, POST, OPTIONS, HEAD \n",
      "+ Web Server returns a valid response with junk HTTP methods, this may cause false positives.\n",
      "+ /blog/wp-links-opml.php: This WordPress script reveals the installed version.\n",
      "+ /blog/: A Wordpress installation was found.\n",
      "+ Cookie wordpress_test_cookie created without the httponly flag\n",
      "+ /blog/wp-login.php: Wordpress login found\n",
      "+ /blog/.env: .env file found. The .env file may contain credentials.\n",
      "+ 7681 requests: 0 error(s) and 12 item(s) reported on remote host\n",
      "+ End Time:           2021-03-29 08:02:09 (GMT0) (47 seconds)\n",
      "---------------------------------------------------------------------------\n",
      "+ 1 host(s) tested\n",
      "\n",
      "\n",
      "      *********************************************************************\n",
      "      Portions of the server's headers (Apache/2.4.41) are not in\n",
      "      the Nikto 2.1.6 database or are newer than the known string. Would you like\n",
      "      to submit this information (*no server specific data*) to CIRT.net\n",
      "      for a Nikto update (or you may email to sullo@cirt.net) (y/n)? \n"
     ]
    }
   ],
   "source": [
    "%%bash\n",
    "nikto -h http://agent/blog/"
   ]
  },
  {
   "cell_type": "markdown",
   "id": "welcome-trade",
   "metadata": {},
   "source": [
    "## On Docker via Cloudflare"
   ]
  },
  {
   "cell_type": "code",
   "execution_count": 8,
   "id": "going-somalia",
   "metadata": {
    "scrolled": true
   },
   "outputs": [
    {
     "name": "stdout",
     "output_type": "stream",
     "text": [
      "_______________________________________________________________\n",
      "         __          _______   _____\n",
      "         \\ \\        / /  __ \\ / ____|\n",
      "          \\ \\  /\\  / /| |__) | (___   ___  __ _ _ __ ®\n",
      "           \\ \\/  \\/ / |  ___/ \\___ \\ / __|/ _` | '_ \\\n",
      "            \\  /\\  /  | |     ____) | (__| (_| | | | |\n",
      "             \\/  \\/   |_|    |_____/ \\___|\\__,_|_| |_|\n",
      "\n",
      "         WordPress Security Scanner by the WPScan Team\n",
      "                         Version 3.8.17\n",
      "       Sponsored by Automattic - https://automattic.com/\n",
      "       @_WPScan_, @ethicalhack3r, @erwan_lr, @firefart\n",
      "_______________________________________________________________\n",
      "\n",
      "\u001b[32m[+]\u001b[0m URL: https://blog-uow.1ez.xyz/blog/ [104.21.23.251]\n",
      "\u001b[32m[+]\u001b[0m Started: Mon Mar 29 08:02:11 2021\n",
      "\n",
      "Interesting Finding(s):\n",
      "\n",
      "\u001b[32m[+]\u001b[0m Headers\n",
      " | Interesting Entries:\n",
      " |  - cf-cache-status: DYNAMIC\n",
      " |  - cf-request-id: 091e9a3c190000415d38bbf000000001\n",
      " |  - expect-ct: max-age=604800, report-uri=\"https://report-uri.cloudflare.com/cdn-cgi/beacon/expect-ct\"\n",
      " |  - report-to: {\"max_age\":604800,\"endpoints\":[{\"url\":\"https:\\/\\/a.nel.cloudflare.com\\/report?s=H9qv8ElsAHbtjmmmT2rOAAGIiV64Bwk7qQCkhgi3afb6%2FVgPYqulKNisvYwidFUtic3%2Bx0E1%2FWdULGRwMH9F%2Boh3kaQjF2E9%2FwPl7M1e2xde\"}],\"group\":\"cf-nel\"}\n",
      " |  - nel: {\"max_age\":604800,\"report_to\":\"cf-nel\"}\n",
      " |  - server: cloudflare\n",
      " |  - cf-ray: 6377930cfdd6415d-HAM\n",
      " |  - alt-svc: h3-27=\":443\"; ma=86400, h3-28=\":443\"; ma=86400, h3-29=\":443\"; ma=86400\n",
      " | Found By: Headers (Passive Detection)\n",
      " | Confidence: 100%\n",
      "\n",
      "\u001b[32m[+]\u001b[0m XML-RPC seems to be enabled: https://blog-uow.1ez.xyz/blog/xmlrpc.php\n",
      " | Found By: Direct Access (Aggressive Detection)\n",
      " | Confidence: 100%\n",
      " | References:\n",
      " |  - http://codex.wordpress.org/XML-RPC_Pingback_API\n",
      " |  - https://www.rapid7.com/db/modules/auxiliary/scanner/http/wordpress_ghost_scanner/\n",
      " |  - https://www.rapid7.com/db/modules/auxiliary/dos/http/wordpress_xmlrpc_dos/\n",
      " |  - https://www.rapid7.com/db/modules/auxiliary/scanner/http/wordpress_xmlrpc_login/\n",
      " |  - https://www.rapid7.com/db/modules/auxiliary/scanner/http/wordpress_pingback_access/\n",
      "\n",
      "\u001b[32m[+]\u001b[0m WordPress readme found: https://blog-uow.1ez.xyz/blog/readme.html\n",
      " | Found By: Direct Access (Aggressive Detection)\n",
      " | Confidence: 100%\n",
      "\n",
      "\u001b[32m[+]\u001b[0m The external WP-Cron seems to be enabled: https://blog-uow.1ez.xyz/blog/wp-cron.php\n",
      " | Found By: Direct Access (Aggressive Detection)\n",
      " | Confidence: 60%\n",
      " | References:\n",
      " |  - https://www.iplocation.net/defend-wordpress-from-ddos\n",
      " |  - https://github.com/wpscanteam/wpscan/issues/1299\n",
      "\n",
      "\u001b[32m[+]\u001b[0m WordPress version 5.3.2 identified (Insecure, released on 2019-12-18).\n",
      " | Found By: Rss Generator (Passive Detection)\n",
      " |  - https://blog-uow.1ez.xyz/blog/index.php/feed/, <generator>https://wordpress.org/?v=5.3.2</generator>\n",
      " |  - https://blog-uow.1ez.xyz/blog/index.php/comments/feed/, <generator>https://wordpress.org/?v=5.3.2</generator>\n",
      "\n",
      "\u001b[32m[+]\u001b[0m WordPress theme in use: twentynineteen\n",
      " | Location: https://blog-uow.1ez.xyz/blog/wp-content/themes/twentynineteen/\n",
      " | Last Updated: 2021-03-09T00:00:00.000Z\n",
      " | Readme: https://blog-uow.1ez.xyz/blog/wp-content/themes/twentynineteen/readme.txt\n",
      " | \u001b[33m[!]\u001b[0m The version is out of date, the latest version is 2.0\n",
      " | Style URL: https://blog-uow.1ez.xyz/blog/wp-content/themes/twentynineteen/style.css?ver=1.4\n",
      " | Style Name: Twenty Nineteen\n",
      " | Style URI: https://wordpress.org/themes/twentynineteen/\n",
      " | Description: Our 2019 default theme is designed to show off the power of the block editor. It features custom sty...\n",
      " | Author: the WordPress team\n",
      " | Author URI: https://wordpress.org/\n",
      " |\n",
      " | Found By: Css Style In Homepage (Passive Detection)\n",
      " |\n",
      " | Version: 1.4 (80% confidence)\n",
      " | Found By: Style (Passive Detection)\n",
      " |  - https://blog-uow.1ez.xyz/blog/wp-content/themes/twentynineteen/style.css?ver=1.4, Match: 'Version: 1.4'\n",
      "\n",
      "\u001b[32m[+]\u001b[0m Enumerating All Plugins (via Passive Methods)\n",
      "\n",
      "\u001b[34m[i]\u001b[0m No plugins Found.\n",
      "\n",
      "\u001b[32m[+]\u001b[0m Enumerating Config Backups (via Passive and Aggressive Methods)\n",
      "\n",
      " Checking Config Backups -: |==================================================|\n",
      "\n",
      "\u001b[34m[i]\u001b[0m No Config Backups Found.\n",
      "\n",
      "\u001b[33m[!]\u001b[0m No WPScan API Token given, as a result vulnerability data has not been output.\n",
      "\u001b[33m[!]\u001b[0m You can get a free API token with 25 daily requests by registering at https://wpscan.com/register\n",
      "\n",
      "\u001b[32m[+]\u001b[0m Finished: Mon Mar 29 08:02:15 2021\n",
      "\u001b[32m[+]\u001b[0m Requests Done: 53\n",
      "\u001b[32m[+]\u001b[0m Cached Requests: 5\n",
      "\u001b[32m[+]\u001b[0m Data Sent: 17.87 KB\n",
      "\u001b[32m[+]\u001b[0m Data Received: 508.275 KB\n",
      "\u001b[32m[+]\u001b[0m Memory used: 249.773 MB\n",
      "\u001b[32m[+]\u001b[0m Elapsed time: 00:00:04\n"
     ]
    }
   ],
   "source": [
    "%%bash\n",
    "wpscan --url https://blog-uow.1ez.xyz/blog/"
   ]
  },
  {
   "cell_type": "code",
   "execution_count": 9,
   "id": "patient-scale",
   "metadata": {
    "scrolled": false
   },
   "outputs": [
    {
     "name": "stdout",
     "output_type": "stream",
     "text": [
      "- Nikto v2.1.6\n",
      "---------------------------------------------------------------------------\n",
      "+ Target IP:          104.21.23.251\n",
      "+ Target Hostname:    blog-uow.1ez.xyz\n",
      "+ Target Port:        80\n",
      "+ Message:            Multiple IP addresses found: 104.21.23.251, 172.67.214.187\n",
      "+ Start Time:         2021-03-29 08:02:16 (GMT0)\n",
      "---------------------------------------------------------------------------\n",
      "+ Server: cloudflare\n",
      "+ The X-XSS-Protection header is not defined. This header can hint to the user agent to protect against some forms of XSS\n",
      "+ Uncommon header 'cf-request-id' found, with contents: 091e9a54a10000dff3d712f000000001\n",
      "+ Uncommon header 'alt-svc' found, with contents: h3-27=\":443\"; ma=86400, h3-28=\":443\"; ma=86400, h3-29=\":443\"; ma=86400\n",
      "+ Uncommon header 'report-to' found, with contents: {\"endpoints\":[{\"url\":\"https:\\/\\/a.nel.cloudflare.com\\/report?s=ON4o1Y3RALE4Xt0pqjyCX%2BJ2cBJnyBbUpEUHrIOE3%2Fnl4%2FU%2FinNXgqoX27%2F34z4S1GV19TGIrCdl0V2kvt9WlfHqJCXIaHm7OY6yYFuELLA2\"}],\"group\":\"cf-nel\",\"max_age\":604800}\n",
      "+ Uncommon header 'nel' found, with contents: {\"max_age\":604800,\"report_to\":\"cf-nel\"}\n",
      "+ The X-Content-Type-Options header is not set. This could allow the user agent to render the content of the site in a different fashion to the MIME type\n",
      "+ All CGI directories 'found', use '-C none' to test none\n",
      "+ 26492 requests: 0 error(s) and 6 item(s) reported on remote host\n",
      "+ End Time:           2021-03-29 08:07:10 (GMT0) (294 seconds)\n",
      "---------------------------------------------------------------------------\n",
      "+ 1 host(s) tested\n"
     ]
    }
   ],
   "source": [
    "%%bash\n",
    "nikto -h http://blog-uow.1ez.xyz/blog/"
   ]
  }
 ],
 "metadata": {
  "kernelspec": {
   "display_name": "Python 3",
   "language": "python",
   "name": "python3"
  },
  "language_info": {
   "codemirror_mode": {
    "name": "ipython",
    "version": 3
   },
   "file_extension": ".py",
   "mimetype": "text/x-python",
   "name": "python",
   "nbconvert_exporter": "python",
   "pygments_lexer": "ipython3",
   "version": "3.8.2"
  }
 },
 "nbformat": 4,
 "nbformat_minor": 5
}
