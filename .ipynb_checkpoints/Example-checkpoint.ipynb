{
 "cells": [
  {
   "cell_type": "code",
   "execution_count": 3,
   "metadata": {},
   "outputs": [
    {
     "name": "stdout",
     "output_type": "stream",
     "text": [
      "lol\n"
     ]
    }
   ],
   "source": [
    "%%bash\n",
    "echo lol;"
   ]
  },
  {
   "cell_type": "code",
   "execution_count": 1,
   "metadata": {},
   "outputs": [
    {
     "name": "stdout",
     "output_type": "stream",
     "text": [
      "hello\n"
     ]
    }
   ],
   "source": [
    "print(\"hello\")"
   ]
  },
  {
   "cell_type": "code",
   "execution_count": 1,
   "metadata": {},
   "outputs": [
    {
     "name": "stdout",
     "output_type": "stream",
     "text": [
      "1.5#stable\n"
     ]
    }
   ],
   "source": [
    "%%bash\n",
    "sqlmap --version"
   ]
  },
  {
   "cell_type": "code",
   "execution_count": 2,
   "metadata": {
    "scrolled": true
   },
   "outputs": [
    {
     "name": "stdout",
     "output_type": "stream",
     "text": [
      "        ___\n",
      "       __H__\n",
      " ___ ___[,]_____ ___ ___  {1.5#stable}\n",
      "|_ -| . [']     | .'| . |\n",
      "|___|_  [)]_|_|_|__,|  _|\n",
      "      |_|V...       |_|   http://sqlmap.org\n",
      "\n",
      "Usage: python3 sqlmap [options]\n",
      "\n",
      "Options:\n",
      "  -h, --help            Show basic help message and exit\n",
      "  -hh                   Show advanced help message and exit\n",
      "  --version             Show program's version number and exit\n",
      "  -v VERBOSE            Verbosity level: 0-6 (default 1)\n",
      "\n",
      "  Target:\n",
      "    At least one of these options has to be provided to define the\n",
      "    target(s)\n",
      "\n",
      "    -u URL, --url=URL   Target URL (e.g. \"http://www.site.com/vuln.php?id=1\")\n",
      "    -g GOOGLEDORK       Process Google dork results as target URLs\n",
      "\n",
      "  Request:\n",
      "    These options can be used to specify how to connect to the target URL\n",
      "\n",
      "    --data=DATA         Data string to be sent through POST (e.g. \"id=1\")\n",
      "    --cookie=COOKIE     HTTP Cookie header value (e.g. \"PHPSESSID=a8d127e..\")\n",
      "    --random-agent      Use randomly selected HTTP User-Agent header value\n",
      "    --proxy=PROXY       Use a proxy to connect to the target URL\n",
      "    --tor               Use Tor anonymity network\n",
      "    --check-tor         Check to see if Tor is used properly\n",
      "\n",
      "  Injection:\n",
      "    These options can be used to specify which parameters to test for,\n",
      "    provide custom injection payloads and optional tampering scripts\n",
      "\n",
      "    -p TESTPARAMETER    Testable parameter(s)\n",
      "    --dbms=DBMS         Force back-end DBMS to provided value\n",
      "\n",
      "  Detection:\n",
      "    These options can be used to customize the detection phase\n",
      "\n",
      "    --level=LEVEL       Level of tests to perform (1-5, default 1)\n",
      "    --risk=RISK         Risk of tests to perform (1-3, default 1)\n",
      "\n",
      "  Techniques:\n",
      "    These options can be used to tweak testing of specific SQL injection\n",
      "    techniques\n",
      "\n",
      "    --technique=TECH..  SQL injection techniques to use (default \"BEUSTQ\")\n",
      "\n",
      "  Enumeration:\n",
      "    These options can be used to enumerate the back-end database\n",
      "    management system information, structure and data contained in the\n",
      "    tables\n",
      "\n",
      "    -a, --all           Retrieve everything\n",
      "    -b, --banner        Retrieve DBMS banner\n",
      "    --current-user      Retrieve DBMS current user\n",
      "    --current-db        Retrieve DBMS current database\n",
      "    --passwords         Enumerate DBMS users password hashes\n",
      "    --tables            Enumerate DBMS database tables\n",
      "    --columns           Enumerate DBMS database table columns\n",
      "    --schema            Enumerate DBMS schema\n",
      "    --dump              Dump DBMS database table entries\n",
      "    --dump-all          Dump all DBMS databases tables entries\n",
      "    -D DB               DBMS database to enumerate\n",
      "    -T TBL              DBMS database table(s) to enumerate\n",
      "    -C COL              DBMS database table column(s) to enumerate\n",
      "\n",
      "  Operating system access:\n",
      "    These options can be used to access the back-end database management\n",
      "    system underlying operating system\n",
      "\n",
      "    --os-shell          Prompt for an interactive operating system shell\n",
      "    --os-pwn            Prompt for an OOB shell, Meterpreter or VNC\n",
      "\n",
      "  General:\n",
      "    These options can be used to set some general working parameters\n",
      "\n",
      "    --batch             Never ask for user input, use the default behavior\n",
      "    --flush-session     Flush session files for current target\n",
      "\n",
      "  Miscellaneous:\n",
      "    These options do not fit into any other category\n",
      "\n",
      "    --sqlmap-shell      Prompt for an interactive sqlmap shell\n",
      "    --wizard            Simple wizard interface for beginner users\n"
     ]
    }
   ],
   "source": [
    "%%bash\n",
    "sqlmap --help"
   ]
  },
  {
   "cell_type": "code",
   "execution_count": 4,
   "metadata": {
    "scrolled": true
   },
   "outputs": [
    {
     "name": "stdout",
     "output_type": "stream",
     "text": [
      "Reading package lists...\n",
      "Building dependency tree...\n",
      "Reading state information...\n",
      "The following additional packages will be installed:\n",
      "  libblas3 liblinear4 lua-lpeg nmap-common\n",
      "Suggested packages:\n",
      "  liblinear-tools liblinear-dev ncat ndiff zenmap\n",
      "The following NEW packages will be installed:\n",
      "  libblas3 liblinear4 lua-lpeg nmap nmap-common\n",
      "0 upgraded, 5 newly installed, 0 to remove and 14 not upgraded.\n",
      "Need to get 6278 kB of archives.\n",
      "After this operation, 27.1 MB of additional disk space will be used.\n",
      "Get:1 http://kali.download/kali kali-rolling/main amd64 libblas3 amd64 3.9.0-3 [153 kB]\n",
      "Get:2 http://kali.download/kali kali-rolling/main amd64 liblinear4 amd64 2.3.0+dfsg-5 [43.6 kB]\n",
      "Get:3 http://kali.download/kali kali-rolling/main amd64 lua-lpeg amd64 1.0.2-1 [33.3 kB]\n",
      "Get:4 http://kali.download/kali kali-rolling/main amd64 nmap-common all 7.91+dfsg1-1kali1 [4040 kB]\n",
      "Get:5 http://kali.download/kali kali-rolling/main amd64 nmap amd64 7.91+dfsg1-1kali1 [2007 kB]\n",
      "Fetched 6278 kB in 1s (6272 kB/s)\n",
      "Selecting previously unselected package libblas3:amd64.\r\n",
      "(Reading database ... \r",
      "(Reading database ... 5%\r",
      "(Reading database ... 10%\r",
      "(Reading database ... 15%\r",
      "(Reading database ... 20%\r",
      "(Reading database ... 25%\r",
      "(Reading database ... 30%\r",
      "(Reading database ... 35%\r",
      "(Reading database ... 40%\r",
      "(Reading database ... 45%\r",
      "(Reading database ... 50%\r",
      "(Reading database ... 55%\r",
      "(Reading database ... 60%\r",
      "(Reading database ... 65%\r",
      "(Reading database ... 70%\r",
      "(Reading database ... 75%\r",
      "(Reading database ... 80%\r",
      "(Reading database ... 85%\r",
      "(Reading database ... 90%\r",
      "(Reading database ... 95%\r",
      "(Reading database ... 100%\r",
      "(Reading database ... 66807 files and directories currently installed.)\r\n",
      "Preparing to unpack .../libblas3_3.9.0-3_amd64.deb ...\r\n",
      "Unpacking libblas3:amd64 (3.9.0-3) ...\r\n",
      "Selecting previously unselected package liblinear4:amd64.\r\n",
      "Preparing to unpack .../liblinear4_2.3.0+dfsg-5_amd64.deb ...\r\n",
      "Unpacking liblinear4:amd64 (2.3.0+dfsg-5) ...\r\n",
      "Selecting previously unselected package lua-lpeg:amd64.\r\n",
      "Preparing to unpack .../lua-lpeg_1.0.2-1_amd64.deb ...\r\n",
      "Unpacking lua-lpeg:amd64 (1.0.2-1) ...\r\n",
      "Selecting previously unselected package nmap-common.\r\n",
      "Preparing to unpack .../nmap-common_7.91+dfsg1-1kali1_all.deb ...\r\n",
      "Unpacking nmap-common (7.91+dfsg1-1kali1) ...\r\n",
      "Selecting previously unselected package nmap.\r\n",
      "Preparing to unpack .../nmap_7.91+dfsg1-1kali1_amd64.deb ...\r\n",
      "Unpacking nmap (7.91+dfsg1-1kali1) ...\r\n",
      "Setting up lua-lpeg:amd64 (1.0.2-1) ...\r\n",
      "Setting up libblas3:amd64 (3.9.0-3) ...\r\n",
      "update-alternatives: using /usr/lib/x86_64-linux-gnu/blas/libblas.so.3 to provide /usr/lib/x86_64-linux-gnu/libblas.so.3 (libblas.so.3-x86_64-linux-gnu) in auto mode\r\n",
      "Setting up nmap-common (7.91+dfsg1-1kali1) ...\r\n",
      "Setting up liblinear4:amd64 (2.3.0+dfsg-5) ...\r\n",
      "Setting up nmap (7.91+dfsg1-1kali1) ...\r\n",
      "Processing triggers for libc-bin (2.31-5) ...\r\n"
     ]
    },
    {
     "name": "stderr",
     "output_type": "stream",
     "text": [
      "\n",
      "WARNING: apt does not have a stable CLI interface. Use with caution in scripts.\n",
      "\n",
      "debconf: delaying package configuration, since apt-utils is not installed\n"
     ]
    }
   ],
   "source": [
    "%%bash\n",
    "sudo apt -y install nmap"
   ]
  },
  {
   "cell_type": "code",
   "execution_count": 5,
   "metadata": {},
   "outputs": [
    {
     "name": "stdout",
     "output_type": "stream",
     "text": [
      "Nmap 7.91 ( https://nmap.org )\n",
      "Usage: nmap [Scan Type(s)] [Options] {target specification}\n",
      "TARGET SPECIFICATION:\n",
      "  Can pass hostnames, IP addresses, networks, etc.\n",
      "  Ex: scanme.nmap.org, microsoft.com/24, 192.168.0.1; 10.0.0-255.1-254\n",
      "  -iL <inputfilename>: Input from list of hosts/networks\n",
      "  -iR <num hosts>: Choose random targets\n",
      "  --exclude <host1[,host2][,host3],...>: Exclude hosts/networks\n",
      "  --excludefile <exclude_file>: Exclude list from file\n",
      "HOST DISCOVERY:\n",
      "  -sL: List Scan - simply list targets to scan\n",
      "  -sn: Ping Scan - disable port scan\n",
      "  -Pn: Treat all hosts as online -- skip host discovery\n",
      "  -PS/PA/PU/PY[portlist]: TCP SYN/ACK, UDP or SCTP discovery to given ports\n",
      "  -PE/PP/PM: ICMP echo, timestamp, and netmask request discovery probes\n",
      "  -PO[protocol list]: IP Protocol Ping\n",
      "  -n/-R: Never do DNS resolution/Always resolve [default: sometimes]\n",
      "  --dns-servers <serv1[,serv2],...>: Specify custom DNS servers\n",
      "  --system-dns: Use OS's DNS resolver\n",
      "  --traceroute: Trace hop path to each host\n",
      "SCAN TECHNIQUES:\n",
      "  -sS/sT/sA/sW/sM: TCP SYN/Connect()/ACK/Window/Maimon scans\n",
      "  -sU: UDP Scan\n",
      "  -sN/sF/sX: TCP Null, FIN, and Xmas scans\n",
      "  --scanflags <flags>: Customize TCP scan flags\n",
      "  -sI <zombie host[:probeport]>: Idle scan\n",
      "  -sY/sZ: SCTP INIT/COOKIE-ECHO scans\n",
      "  -sO: IP protocol scan\n",
      "  -b <FTP relay host>: FTP bounce scan\n",
      "PORT SPECIFICATION AND SCAN ORDER:\n",
      "  -p <port ranges>: Only scan specified ports\n",
      "    Ex: -p22; -p1-65535; -p U:53,111,137,T:21-25,80,139,8080,S:9\n",
      "  --exclude-ports <port ranges>: Exclude the specified ports from scanning\n",
      "  -F: Fast mode - Scan fewer ports than the default scan\n",
      "  -r: Scan ports consecutively - don't randomize\n",
      "  --top-ports <number>: Scan <number> most common ports\n",
      "  --port-ratio <ratio>: Scan ports more common than <ratio>\n",
      "SERVICE/VERSION DETECTION:\n",
      "  -sV: Probe open ports to determine service/version info\n",
      "  --version-intensity <level>: Set from 0 (light) to 9 (try all probes)\n",
      "  --version-light: Limit to most likely probes (intensity 2)\n",
      "  --version-all: Try every single probe (intensity 9)\n",
      "  --version-trace: Show detailed version scan activity (for debugging)\n",
      "SCRIPT SCAN:\n",
      "  -sC: equivalent to --script=default\n",
      "  --script=<Lua scripts>: <Lua scripts> is a comma separated list of\n",
      "           directories, script-files or script-categories\n",
      "  --script-args=<n1=v1,[n2=v2,...]>: provide arguments to scripts\n",
      "  --script-args-file=filename: provide NSE script args in a file\n",
      "  --script-trace: Show all data sent and received\n",
      "  --script-updatedb: Update the script database.\n",
      "  --script-help=<Lua scripts>: Show help about scripts.\n",
      "           <Lua scripts> is a comma-separated list of script-files or\n",
      "           script-categories.\n",
      "OS DETECTION:\n",
      "  -O: Enable OS detection\n",
      "  --osscan-limit: Limit OS detection to promising targets\n",
      "  --osscan-guess: Guess OS more aggressively\n",
      "TIMING AND PERFORMANCE:\n",
      "  Options which take <time> are in seconds, or append 'ms' (milliseconds),\n",
      "  's' (seconds), 'm' (minutes), or 'h' (hours) to the value (e.g. 30m).\n",
      "  -T<0-5>: Set timing template (higher is faster)\n",
      "  --min-hostgroup/max-hostgroup <size>: Parallel host scan group sizes\n",
      "  --min-parallelism/max-parallelism <numprobes>: Probe parallelization\n",
      "  --min-rtt-timeout/max-rtt-timeout/initial-rtt-timeout <time>: Specifies\n",
      "      probe round trip time.\n",
      "  --max-retries <tries>: Caps number of port scan probe retransmissions.\n",
      "  --host-timeout <time>: Give up on target after this long\n",
      "  --scan-delay/--max-scan-delay <time>: Adjust delay between probes\n",
      "  --min-rate <number>: Send packets no slower than <number> per second\n",
      "  --max-rate <number>: Send packets no faster than <number> per second\n",
      "FIREWALL/IDS EVASION AND SPOOFING:\n",
      "  -f; --mtu <val>: fragment packets (optionally w/given MTU)\n",
      "  -D <decoy1,decoy2[,ME],...>: Cloak a scan with decoys\n",
      "  -S <IP_Address>: Spoof source address\n",
      "  -e <iface>: Use specified interface\n",
      "  -g/--source-port <portnum>: Use given port number\n",
      "  --proxies <url1,[url2],...>: Relay connections through HTTP/SOCKS4 proxies\n",
      "  --data <hex string>: Append a custom payload to sent packets\n",
      "  --data-string <string>: Append a custom ASCII string to sent packets\n",
      "  --data-length <num>: Append random data to sent packets\n",
      "  --ip-options <options>: Send packets with specified ip options\n",
      "  --ttl <val>: Set IP time-to-live field\n",
      "  --spoof-mac <mac address/prefix/vendor name>: Spoof your MAC address\n",
      "  --badsum: Send packets with a bogus TCP/UDP/SCTP checksum\n",
      "OUTPUT:\n",
      "  -oN/-oX/-oS/-oG <file>: Output scan in normal, XML, s|<rIpt kIddi3,\n",
      "     and Grepable format, respectively, to the given filename.\n",
      "  -oA <basename>: Output in the three major formats at once\n",
      "  -v: Increase verbosity level (use -vv or more for greater effect)\n",
      "  -d: Increase debugging level (use -dd or more for greater effect)\n",
      "  --reason: Display the reason a port is in a particular state\n",
      "  --open: Only show open (or possibly open) ports\n",
      "  --packet-trace: Show all packets sent and received\n",
      "  --iflist: Print host interfaces and routes (for debugging)\n",
      "  --append-output: Append to rather than clobber specified output files\n",
      "  --resume <filename>: Resume an aborted scan\n",
      "  --stylesheet <path/URL>: XSL stylesheet to transform XML output to HTML\n",
      "  --webxml: Reference stylesheet from Nmap.Org for more portable XML\n",
      "  --no-stylesheet: Prevent associating of XSL stylesheet w/XML output\n",
      "MISC:\n",
      "  -6: Enable IPv6 scanning\n",
      "  -A: Enable OS detection, version detection, script scanning, and traceroute\n",
      "  --datadir <dirname>: Specify custom Nmap data file location\n",
      "  --send-eth/--send-ip: Send using raw ethernet frames or IP packets\n",
      "  --privileged: Assume that the user is fully privileged\n",
      "  --unprivileged: Assume the user lacks raw socket privileges\n",
      "  -V: Print version number\n",
      "  -h: Print this help summary page.\n",
      "EXAMPLES:\n",
      "  nmap -v -A scanme.nmap.org\n",
      "  nmap -v -sn 192.168.0.0/16 10.0.0.0/8\n",
      "  nmap -v -iR 10000 -Pn -p 80\n",
      "SEE THE MAN PAGE (https://nmap.org/book/man.html) FOR MORE OPTIONS AND EXAMPLES\n"
     ]
    }
   ],
   "source": [
    "%%bash\n",
    "nmap --help"
   ]
  },
  {
   "cell_type": "code",
   "execution_count": 6,
   "metadata": {},
   "outputs": [
    {
     "name": "stdout",
     "output_type": "stream",
     "text": [
      "lo\n"
     ]
    }
   ],
   "source": [
    "%%sh\n",
    "echo \"lo\""
   ]
  },
  {
   "cell_type": "code",
   "execution_count": null,
   "metadata": {},
   "outputs": [],
   "source": []
  }
 ],
 "metadata": {
  "kernelspec": {
   "display_name": "Python 3",
   "language": "python",
   "name": "python3"
  },
  "language_info": {
   "codemirror_mode": {
    "name": "ipython",
    "version": 3
   },
   "file_extension": ".py",
   "mimetype": "text/x-python",
   "name": "python",
   "nbconvert_exporter": "python",
   "pygments_lexer": "ipython3",
   "version": "3.8.7"
  }
 },
 "nbformat": 4,
 "nbformat_minor": 4
}
