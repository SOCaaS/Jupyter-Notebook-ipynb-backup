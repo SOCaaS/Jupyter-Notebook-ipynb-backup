{
 "cells": [
  {
   "cell_type": "markdown",
   "id": "automotive-machinery",
   "metadata": {},
   "source": [
    "# SOCaaS Demo Attack 25 February 2021"
   ]
  },
  {
   "cell_type": "markdown",
   "id": "olympic-oklahoma",
   "metadata": {},
   "source": [
    "## A bit on the Stack Network\n",
    "![stack network](img/StackNetwork.png)\n",
    "\n",
    "URLs:\n",
    "- https://jupyter-uow.1ez.xyz\n",
    "- https://kibana-uow.1ez.xyz\n",
    "- https://elasticsearch-uow.1ez.xyz\n",
    "- https://praeco-uow.1ez.xyz\n",
    "- https://blog-uow.1ez.xyz/blog/"
   ]
  },
  {
   "cell_type": "markdown",
   "id": "hollywood-tumor",
   "metadata": {},
   "source": [
    "### Attacker capability [9]\n",
    "- Jupyter Notebook\n",
    "```\n",
    "Kali Linux\n",
    "RAM Max 8gb\n",
    "```\n",
    "- Tools\n",
    "```\n",
    "nmap\n",
    "unicornscan \n",
    "nikto\n",
    "hping3\n",
    "xprobe2\n",
    "sqlmap\n",
    "wpscan\n",
    "iputils-ping \n",
    "metasploit-framework\n",
    "```"
   ]
  },
  {
   "cell_type": "markdown",
   "id": "assumed-killer",
   "metadata": {},
   "source": [
    "### Defender capability [10]\n",
    "- Filebeat Node\n",
    "```\n",
    "Ubuntu 20.04\n",
    "```\n",
    "- Tools\n",
    "```\n",
    "Filebeat\n",
    "MySQL\n",
    "Wordpress\n",
    "Tshark (~ wireshark)\n",
    "Suricata with DDOS rules\n",
    "```"
   ]
  },
  {
   "cell_type": "markdown",
   "id": "female-license",
   "metadata": {},
   "source": [
    "### Centralized Logging Management (or SOC) [2 -5]\n",
    "- Elasticsearch (2 Nodes)\n",
    "> Max JVM 4 gb ram /nodes\n",
    "- Kibana (1 Nodes)\n",
    "- Logstash (1 Nodes)"
   ]
  },
  {
   "cell_type": "markdown",
   "id": "conservative-marker",
   "metadata": {},
   "source": [
    "### First attack ~ NMAP\n",
    "This attack would be reflected on tshark"
   ]
  },
  {
   "cell_type": "code",
   "execution_count": 21,
   "id": "engaging-heritage",
   "metadata": {},
   "outputs": [
    {
     "name": "stdout",
     "output_type": "stream",
     "text": [
      "Starting Nmap 7.91 ( https://nmap.org ) at 2021-02-25 10:52 UTC\n",
      "Nmap scan report for filebeat2 (10.0.2.95)\n",
      "Host is up (0.000077s latency).\n",
      "rDNS record for 10.0.2.95: filebeat2_filebeat2_1.main-overlay\n",
      "Not shown: 999 closed ports\n",
      "PORT   STATE SERVICE\n",
      "80/tcp open  http\n",
      "MAC Address: 02:42:0A:00:02:5F (Unknown)\n",
      "No exact OS matches for host (If you know what OS is running on it, see https://nmap.org/submit/ ).\n",
      "TCP/IP fingerprint:\n",
      "OS:SCAN(V=7.91%E=4%D=2/25%OT=80%CT=1%CU=32917%PV=Y%DS=1%DC=D%G=Y%M=02420A%T\n",
      "OS:M=60378163%P=x86_64-pc-linux-gnu)SEQ(SP=104%GCD=1%ISR=10B%TI=Z%CI=Z%II=I\n",
      "OS:%TS=A)OPS(O1=M582ST11NW7%O2=M582ST11NW7%O3=M582NNT11NW7%O4=M582ST11NW7%O\n",
      "OS:5=M582ST11NW7%O6=M582ST11)WIN(W1=FB34%W2=FB34%W3=FB34%W4=FB34%W5=FB34%W6\n",
      "OS:=FB34)ECN(R=Y%DF=Y%T=40%W=FD5C%O=M582NNSNW7%CC=Y%Q=)T1(R=Y%DF=Y%T=40%S=O\n",
      "OS:%A=S+%F=AS%RD=0%Q=)T2(R=N)T3(R=N)T4(R=Y%DF=Y%T=40%W=0%S=A%A=Z%F=R%O=%RD=\n",
      "OS:0%Q=)T5(R=Y%DF=Y%T=40%W=0%S=Z%A=S+%F=AR%O=%RD=0%Q=)T6(R=Y%DF=Y%T=40%W=0%\n",
      "OS:S=A%A=Z%F=R%O=%RD=0%Q=)T7(R=Y%DF=Y%T=40%W=0%S=Z%A=S+%F=AR%O=%RD=0%Q=)U1(\n",
      "OS:R=Y%DF=N%T=40%IPL=164%UN=0%RIPL=G%RID=G%RIPCK=G%RUCK=G%RUD=G)IE(R=Y%DFI=\n",
      "OS:N%T=40%CD=S)\n",
      "\n",
      "Network Distance: 1 hop\n",
      "\n",
      "OS detection performed. Please report any incorrect results at https://nmap.org/submit/ .\n",
      "Nmap done: 1 IP address (1 host up) scanned in 11.96 seconds\n"
     ]
    }
   ],
   "source": [
    "%%bash\n",
    "sudo nmap -O filebeat2"
   ]
  },
  {
   "cell_type": "markdown",
   "id": "hydraulic-disclosure",
   "metadata": {},
   "source": [
    "## Second Attack ~ hping3\n",
    "This attack would be reflected on suricata with it ddos rule. (+) Tshark"
   ]
  },
  {
   "cell_type": "code",
   "execution_count": 22,
   "id": "deadly-dodge",
   "metadata": {
    "scrolled": true
   },
   "outputs": [
    {
     "name": "stdout",
     "output_type": "stream",
     "text": [
      "PING filebeat2 (10.0.2.95) 56(84) bytes of data.\n",
      "64 bytes from filebeat2_filebeat2_1.main-overlay (10.0.2.95): icmp_seq=1 ttl=64 time=0.053 ms\n",
      "64 bytes from filebeat2_filebeat2_1.main-overlay (10.0.2.95): icmp_seq=2 ttl=64 time=0.051 ms\n",
      "64 bytes from filebeat2_filebeat2_1.main-overlay (10.0.2.95): icmp_seq=3 ttl=64 time=0.055 ms\n",
      "64 bytes from filebeat2_filebeat2_1.main-overlay (10.0.2.95): icmp_seq=4 ttl=64 time=0.047 ms\n",
      "\n",
      "--- filebeat2 ping statistics ---\n",
      "4 packets transmitted, 4 received, 0% packet loss, time 3055ms\n",
      "rtt min/avg/max/mdev = 0.047/0.051/0.055/0.003 ms\n"
     ]
    }
   ],
   "source": [
    "%%bash \n",
    "ping -c 4 filebeat2"
   ]
  },
  {
   "cell_type": "code",
   "execution_count": 10,
   "id": "embedded-hypothesis",
   "metadata": {},
   "outputs": [
    {
     "name": "stdout",
     "output_type": "stream",
     "text": [
      "HPING filebeat2 (eth0 10.0.2.95): S set, 40 headers + 0 data bytes\n"
     ]
    },
    {
     "name": "stderr",
     "output_type": "stream",
     "text": [
      "\n",
      "--- filebeat2 hping statistic ---\n",
      "1000 packets transmitted, 0 packets received, 100% packet loss\n",
      "round-trip min/avg/max = 0.0/0.0/0.0 ms\n"
     ]
    },
    {
     "ename": "CalledProcessError",
     "evalue": "Command 'b'sudo hping3 -c 1000 -S -p 80 filebeat2 --faster\\n'' returned non-zero exit status 1.",
     "output_type": "error",
     "traceback": [
      "\u001b[0;31m---------------------------------------------------------------------------\u001b[0m",
      "\u001b[0;31mCalledProcessError\u001b[0m                        Traceback (most recent call last)",
      "\u001b[0;32m<ipython-input-10-31944d8f33b0>\u001b[0m in \u001b[0;36m<module>\u001b[0;34m\u001b[0m\n\u001b[0;32m----> 1\u001b[0;31m \u001b[0mget_ipython\u001b[0m\u001b[0;34m(\u001b[0m\u001b[0;34m)\u001b[0m\u001b[0;34m.\u001b[0m\u001b[0mrun_cell_magic\u001b[0m\u001b[0;34m(\u001b[0m\u001b[0;34m'bash'\u001b[0m\u001b[0;34m,\u001b[0m \u001b[0;34m''\u001b[0m\u001b[0;34m,\u001b[0m \u001b[0;34m'sudo hping3 -c 1000 -S -p 80 filebeat2 --faster\\n'\u001b[0m\u001b[0;34m)\u001b[0m\u001b[0;34m\u001b[0m\u001b[0;34m\u001b[0m\u001b[0m\n\u001b[0m",
      "\u001b[0;32m/usr/local/lib/python3.8/site-packages/IPython/core/interactiveshell.py\u001b[0m in \u001b[0;36mrun_cell_magic\u001b[0;34m(self, magic_name, line, cell)\u001b[0m\n\u001b[1;32m   2389\u001b[0m             \u001b[0;32mwith\u001b[0m \u001b[0mself\u001b[0m\u001b[0;34m.\u001b[0m\u001b[0mbuiltin_trap\u001b[0m\u001b[0;34m:\u001b[0m\u001b[0;34m\u001b[0m\u001b[0;34m\u001b[0m\u001b[0m\n\u001b[1;32m   2390\u001b[0m                 \u001b[0margs\u001b[0m \u001b[0;34m=\u001b[0m \u001b[0;34m(\u001b[0m\u001b[0mmagic_arg_s\u001b[0m\u001b[0;34m,\u001b[0m \u001b[0mcell\u001b[0m\u001b[0;34m)\u001b[0m\u001b[0;34m\u001b[0m\u001b[0;34m\u001b[0m\u001b[0m\n\u001b[0;32m-> 2391\u001b[0;31m                 \u001b[0mresult\u001b[0m \u001b[0;34m=\u001b[0m \u001b[0mfn\u001b[0m\u001b[0;34m(\u001b[0m\u001b[0;34m*\u001b[0m\u001b[0margs\u001b[0m\u001b[0;34m,\u001b[0m \u001b[0;34m**\u001b[0m\u001b[0mkwargs\u001b[0m\u001b[0;34m)\u001b[0m\u001b[0;34m\u001b[0m\u001b[0;34m\u001b[0m\u001b[0m\n\u001b[0m\u001b[1;32m   2392\u001b[0m             \u001b[0;32mreturn\u001b[0m \u001b[0mresult\u001b[0m\u001b[0;34m\u001b[0m\u001b[0;34m\u001b[0m\u001b[0m\n\u001b[1;32m   2393\u001b[0m \u001b[0;34m\u001b[0m\u001b[0m\n",
      "\u001b[0;32m/usr/local/lib/python3.8/site-packages/IPython/core/magics/script.py\u001b[0m in \u001b[0;36mnamed_script_magic\u001b[0;34m(line, cell)\u001b[0m\n\u001b[1;32m    140\u001b[0m             \u001b[0;32melse\u001b[0m\u001b[0;34m:\u001b[0m\u001b[0;34m\u001b[0m\u001b[0;34m\u001b[0m\u001b[0m\n\u001b[1;32m    141\u001b[0m                 \u001b[0mline\u001b[0m \u001b[0;34m=\u001b[0m \u001b[0mscript\u001b[0m\u001b[0;34m\u001b[0m\u001b[0;34m\u001b[0m\u001b[0m\n\u001b[0;32m--> 142\u001b[0;31m             \u001b[0;32mreturn\u001b[0m \u001b[0mself\u001b[0m\u001b[0;34m.\u001b[0m\u001b[0mshebang\u001b[0m\u001b[0;34m(\u001b[0m\u001b[0mline\u001b[0m\u001b[0;34m,\u001b[0m \u001b[0mcell\u001b[0m\u001b[0;34m)\u001b[0m\u001b[0;34m\u001b[0m\u001b[0;34m\u001b[0m\u001b[0m\n\u001b[0m\u001b[1;32m    143\u001b[0m \u001b[0;34m\u001b[0m\u001b[0m\n\u001b[1;32m    144\u001b[0m         \u001b[0;31m# write a basic docstring:\u001b[0m\u001b[0;34m\u001b[0m\u001b[0;34m\u001b[0m\u001b[0;34m\u001b[0m\u001b[0m\n",
      "\u001b[0;32m<decorator-gen-103>\u001b[0m in \u001b[0;36mshebang\u001b[0;34m(self, line, cell)\u001b[0m\n",
      "\u001b[0;32m/usr/local/lib/python3.8/site-packages/IPython/core/magic.py\u001b[0m in \u001b[0;36m<lambda>\u001b[0;34m(f, *a, **k)\u001b[0m\n\u001b[1;32m    185\u001b[0m     \u001b[0;31m# but it's overkill for just that one bit of state.\u001b[0m\u001b[0;34m\u001b[0m\u001b[0;34m\u001b[0m\u001b[0;34m\u001b[0m\u001b[0m\n\u001b[1;32m    186\u001b[0m     \u001b[0;32mdef\u001b[0m \u001b[0mmagic_deco\u001b[0m\u001b[0;34m(\u001b[0m\u001b[0marg\u001b[0m\u001b[0;34m)\u001b[0m\u001b[0;34m:\u001b[0m\u001b[0;34m\u001b[0m\u001b[0;34m\u001b[0m\u001b[0m\n\u001b[0;32m--> 187\u001b[0;31m         \u001b[0mcall\u001b[0m \u001b[0;34m=\u001b[0m \u001b[0;32mlambda\u001b[0m \u001b[0mf\u001b[0m\u001b[0;34m,\u001b[0m \u001b[0;34m*\u001b[0m\u001b[0ma\u001b[0m\u001b[0;34m,\u001b[0m \u001b[0;34m**\u001b[0m\u001b[0mk\u001b[0m\u001b[0;34m:\u001b[0m \u001b[0mf\u001b[0m\u001b[0;34m(\u001b[0m\u001b[0;34m*\u001b[0m\u001b[0ma\u001b[0m\u001b[0;34m,\u001b[0m \u001b[0;34m**\u001b[0m\u001b[0mk\u001b[0m\u001b[0;34m)\u001b[0m\u001b[0;34m\u001b[0m\u001b[0;34m\u001b[0m\u001b[0m\n\u001b[0m\u001b[1;32m    188\u001b[0m \u001b[0;34m\u001b[0m\u001b[0m\n\u001b[1;32m    189\u001b[0m         \u001b[0;32mif\u001b[0m \u001b[0mcallable\u001b[0m\u001b[0;34m(\u001b[0m\u001b[0marg\u001b[0m\u001b[0;34m)\u001b[0m\u001b[0;34m:\u001b[0m\u001b[0;34m\u001b[0m\u001b[0;34m\u001b[0m\u001b[0m\n",
      "\u001b[0;32m/usr/local/lib/python3.8/site-packages/IPython/core/magics/script.py\u001b[0m in \u001b[0;36mshebang\u001b[0;34m(self, line, cell)\u001b[0m\n\u001b[1;32m    243\u001b[0m             \u001b[0msys\u001b[0m\u001b[0;34m.\u001b[0m\u001b[0mstderr\u001b[0m\u001b[0;34m.\u001b[0m\u001b[0mflush\u001b[0m\u001b[0;34m(\u001b[0m\u001b[0;34m)\u001b[0m\u001b[0;34m\u001b[0m\u001b[0;34m\u001b[0m\u001b[0m\n\u001b[1;32m    244\u001b[0m         \u001b[0;32mif\u001b[0m \u001b[0margs\u001b[0m\u001b[0;34m.\u001b[0m\u001b[0mraise_error\u001b[0m \u001b[0;32mand\u001b[0m \u001b[0mp\u001b[0m\u001b[0;34m.\u001b[0m\u001b[0mreturncode\u001b[0m\u001b[0;34m!=\u001b[0m\u001b[0;36m0\u001b[0m\u001b[0;34m:\u001b[0m\u001b[0;34m\u001b[0m\u001b[0;34m\u001b[0m\u001b[0m\n\u001b[0;32m--> 245\u001b[0;31m             \u001b[0;32mraise\u001b[0m \u001b[0mCalledProcessError\u001b[0m\u001b[0;34m(\u001b[0m\u001b[0mp\u001b[0m\u001b[0;34m.\u001b[0m\u001b[0mreturncode\u001b[0m\u001b[0;34m,\u001b[0m \u001b[0mcell\u001b[0m\u001b[0;34m,\u001b[0m \u001b[0moutput\u001b[0m\u001b[0;34m=\u001b[0m\u001b[0mout\u001b[0m\u001b[0;34m,\u001b[0m \u001b[0mstderr\u001b[0m\u001b[0;34m=\u001b[0m\u001b[0merr\u001b[0m\u001b[0;34m)\u001b[0m\u001b[0;34m\u001b[0m\u001b[0;34m\u001b[0m\u001b[0m\n\u001b[0m\u001b[1;32m    246\u001b[0m \u001b[0;34m\u001b[0m\u001b[0m\n\u001b[1;32m    247\u001b[0m     \u001b[0;32mdef\u001b[0m \u001b[0m_run_script\u001b[0m\u001b[0;34m(\u001b[0m\u001b[0mself\u001b[0m\u001b[0;34m,\u001b[0m \u001b[0mp\u001b[0m\u001b[0;34m,\u001b[0m \u001b[0mcell\u001b[0m\u001b[0;34m,\u001b[0m \u001b[0mto_close\u001b[0m\u001b[0;34m)\u001b[0m\u001b[0;34m:\u001b[0m\u001b[0;34m\u001b[0m\u001b[0;34m\u001b[0m\u001b[0m\n",
      "\u001b[0;31mCalledProcessError\u001b[0m: Command 'b'sudo hping3 -c 1000 -S -p 80 filebeat2 --faster\\n'' returned non-zero exit status 1."
     ]
    }
   ],
   "source": [
    "%%bash\n",
    "sudo hping3 -c 1000 -S -p 80 filebeat2 --faster"
   ]
  },
  {
   "cell_type": "markdown",
   "id": "fantastic-iceland",
   "metadata": {},
   "source": [
    "## Third Attack ~ Application Attack\n",
    "This attack would be reflected in the applicaiton layer Apache Logs."
   ]
  },
  {
   "cell_type": "code",
   "execution_count": 11,
   "id": "linear-interval",
   "metadata": {},
   "outputs": [
    {
     "name": "stdout",
     "output_type": "stream",
     "text": [
      "_______________________________________________________________\n",
      "         __          _______   _____\n",
      "         \\ \\        / /  __ \\ / ____|\n",
      "          \\ \\  /\\  / /| |__) | (___   ___  __ _ _ __ ®\n",
      "           \\ \\/  \\/ / |  ___/ \\___ \\ / __|/ _` | '_ \\\n",
      "            \\  /\\  /  | |     ____) | (__| (_| | | | |\n",
      "             \\/  \\/   |_|    |_____/ \\___|\\__,_|_| |_|\n",
      "\n",
      "         WordPress Security Scanner by the WPScan Team\n",
      "                         Version 3.8.15\n",
      "       Sponsored by Automattic - https://automattic.com/\n",
      "       @_WPScan_, @ethicalhack3r, @erwan_lr, @firefart\n",
      "_______________________________________________________________\n",
      "\n",
      "\u001b[34m[i]\u001b[0m Updating the Database ...\n",
      "\u001b[34m[i]\u001b[0m Update completed.\n",
      "\n"
     ]
    }
   ],
   "source": [
    "%%bash\n",
    "wpscan --update"
   ]
  },
  {
   "cell_type": "code",
   "execution_count": 15,
   "id": "portuguese-excuse",
   "metadata": {},
   "outputs": [
    {
     "name": "stdout",
     "output_type": "stream",
     "text": [
      "_______________________________________________________________\n",
      "         __          _______   _____\n",
      "         \\ \\        / /  __ \\ / ____|\n",
      "          \\ \\  /\\  / /| |__) | (___   ___  __ _ _ __ ®\n",
      "           \\ \\/  \\/ / |  ___/ \\___ \\ / __|/ _` | '_ \\\n",
      "            \\  /\\  /  | |     ____) | (__| (_| | | | |\n",
      "             \\/  \\/   |_|    |_____/ \\___|\\__,_|_| |_|\n",
      "\n",
      "         WordPress Security Scanner by the WPScan Team\n",
      "                         Version 3.8.15\n",
      "       Sponsored by Automattic - https://automattic.com/\n",
      "       @_WPScan_, @ethicalhack3r, @erwan_lr, @firefart\n",
      "_______________________________________________________________\n",
      "\n",
      "\u001b[32m[+]\u001b[0m URL: http://blog-uow.1ez.xyz/blog/ [172.67.214.187]\n",
      "\u001b[32m[+]\u001b[0m Effective URL: https://blog-uow.1ez.xyz/blog/\n",
      "\u001b[32m[+]\u001b[0m Started: Thu Feb 25 09:23:48 2021\n",
      "\n",
      "Interesting Finding(s):\n",
      "\n",
      "\u001b[32m[+]\u001b[0m Headers\n",
      " | Interesting Entries:\n",
      " |  - cf-cache-status: DYNAMIC\n",
      " |  - cf-request-id: 087a197c600000d46b59025000000001\n",
      " |  - expect-ct: max-age=604800, report-uri=\"https://report-uri.cloudflare.com/cdn-cgi/beacon/expect-ct\"\n",
      " |  - report-to: {\"group\":\"cf-nel\",\"endpoints\":[{\"url\":\"https:\\/\\/a.nel.cloudflare.com\\/report?s=EH5zUYpfP5aQS3kxX3lK4ftNzmVTDc2MhacoVuCO9lsoJ7NAm0gMR0QJUq5zWU3E08rI2haO17pFCRjT3beYCwy3pXkg5W%2FqSkHZjUKzmx60\"}],\"max_age\":604800}\n",
      " |  - nel: {\"max_age\":604800,\"report_to\":\"cf-nel\"}\n",
      " |  - server: cloudflare\n",
      " |  - cf-ray: 62705ea70d1bd46b-HAM\n",
      " | Found By: Headers (Passive Detection)\n",
      " | Confidence: 100%\n",
      "\n",
      "\u001b[32m[+]\u001b[0m WordPress version 5.3.2 identified (Insecure, released on 2019-12-18).\n",
      " | Found By: Rss Generator (Passive Detection)\n",
      " |  - https://blog-uow.1ez.xyz/blog/index.php/feed/, <generator>https://wordpress.org/?v=5.3.2</generator>\n",
      " |  - https://blog-uow.1ez.xyz/blog/index.php/comments/feed/, <generator>https://wordpress.org/?v=5.3.2</generator>\n",
      "\n",
      "\u001b[32m[+]\u001b[0m WordPress theme in use: twentynineteen\n",
      " | Location: http://blog-uow.1ez.xyz/blog/wp-content/themes/twentynineteen/\n",
      " | Latest Version: 1.9 (up to date)\n",
      " | Last Updated: 2020-12-22T00:00:00.000Z\n",
      " | Style URL: https://blog-uow.1ez.xyz/blog/wp-content/themes/twentynineteen/style.css?ver=1.9\n",
      " | Style Name: Twenty Nineteen\n",
      " | Style URI: https://wordpress.org/themes/twentynineteen/\n",
      " | Description: Our 2019 default theme is designed to show off the power of the block editor. It features custom sty...\n",
      " | Author: the WordPress team\n",
      " | Author URI: https://wordpress.org/\n",
      " |\n",
      " | Found By: Css Style In Homepage (Passive Detection)\n",
      " |\n",
      " | Version: 1.9 (80% confidence)\n",
      " | Found By: Style (Passive Detection)\n",
      " |  - https://blog-uow.1ez.xyz/blog/wp-content/themes/twentynineteen/style.css?ver=1.9, Match: 'Version: 1.9'\n",
      "\n",
      "\u001b[32m[+]\u001b[0m Enumerating All Plugins (via Passive Methods)\n",
      "\n",
      "\u001b[34m[i]\u001b[0m No plugins Found.\n",
      "\n",
      "\u001b[32m[+]\u001b[0m Enumerating Config Backups (via Passive and Aggressive Methods)\n",
      "\n",
      " Checking Config Backups -: |==================================================|\n",
      "\n",
      "\u001b[34m[i]\u001b[0m No Config Backups Found.\n",
      "\n",
      "\u001b[33m[!]\u001b[0m No WPScan API Token given, as a result vulnerability data has not been output.\n",
      "\u001b[33m[!]\u001b[0m You can get a free API token with 25 daily requests by registering at https://wpscan.com/register\n",
      "\n",
      "\u001b[32m[+]\u001b[0m Finished: Thu Feb 25 09:23:53 2021\n",
      "\u001b[32m[+]\u001b[0m Requests Done: 60\n",
      "\u001b[32m[+]\u001b[0m Cached Requests: 3\n",
      "\u001b[32m[+]\u001b[0m Data Sent: 17.376 KB\n",
      "\u001b[32m[+]\u001b[0m Data Received: 299.884 KB\n",
      "\u001b[32m[+]\u001b[0m Memory used: 249.574 MB\n",
      "\u001b[32m[+]\u001b[0m Elapsed time: 00:00:04\n"
     ]
    }
   ],
   "source": [
    "%%bash\n",
    "wpscan --url http://blog-uow.1ez.xyz/blog/"
   ]
  },
  {
   "cell_type": "code",
   "execution_count": 24,
   "id": "finished-radical",
   "metadata": {},
   "outputs": [
    {
     "name": "stdout",
     "output_type": "stream",
     "text": [
      "- Nikto v2.1.6\n",
      "---------------------------------------------------------------------------\n",
      "+ Target IP:          10.0.2.95\n",
      "+ Target Hostname:    filebeat2\n",
      "+ Target Port:        80\n",
      "+ Start Time:         2021-02-25 11:01:10 (GMT0)\n",
      "---------------------------------------------------------------------------\n",
      "+ Server: Apache/2.4.41 (Ubuntu)\n",
      "+ The anti-clickjacking X-Frame-Options header is not present.\n",
      "+ The X-XSS-Protection header is not defined. This header can hint to the user agent to protect against some forms of XSS\n",
      "+ The X-Content-Type-Options header is not set. This could allow the user agent to render the content of the site in a different fashion to the MIME type\n",
      "+ No CGI Directories found (use '-C all' to force check all possible dirs)\n",
      "+ Server may leak inodes via ETags, header found with file /, inode: 2aa6, size: 5bc2521b6e740, mtime: gzip\n",
      "+ Allowed HTTP Methods: GET, POST, OPTIONS, HEAD \n",
      "+ 7683 requests: 0 error(s) and 5 item(s) reported on remote host\n",
      "+ End Time:           2021-02-25 11:01:52 (GMT0) (42 seconds)\n",
      "---------------------------------------------------------------------------\n",
      "+ 1 host(s) tested\n",
      "\n",
      "\n",
      "      *********************************************************************\n",
      "      Portions of the server's headers (Apache/2.4.41) are not in\n",
      "      the Nikto 2.1.6 database or are newer than the known string. Would you like\n",
      "      to submit this information (*no server specific data*) to CIRT.net\n",
      "      for a Nikto update (or you may email to sullo@cirt.net) (y/n)? \n"
     ]
    }
   ],
   "source": [
    "%%bash\n",
    "nikto -h http://filebeat2"
   ]
  }
 ],
 "metadata": {
  "kernelspec": {
   "display_name": "Python 3",
   "language": "python",
   "name": "python3"
  },
  "language_info": {
   "codemirror_mode": {
    "name": "ipython",
    "version": 3
   },
   "file_extension": ".py",
   "mimetype": "text/x-python",
   "name": "python",
   "nbconvert_exporter": "python",
   "pygments_lexer": "ipython3",
   "version": "3.8.2"
  }
 },
 "nbformat": 4,
 "nbformat_minor": 5
}
