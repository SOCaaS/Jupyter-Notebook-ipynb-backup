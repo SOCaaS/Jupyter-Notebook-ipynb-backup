{
 "cells": [
  {
   "cell_type": "markdown",
   "id": "automotive-machinery",
   "metadata": {},
   "source": [
    "# SOCaaS Demo Attack"
   ]
  },
  {
   "cell_type": "markdown",
   "id": "olympic-oklahoma",
   "metadata": {},
   "source": [
    "## A bit on the Stack Network\n",
    "![stack network](img/StackNetwork.png)\n",
    "\n",
    "URLs:\n",
    "- https://jupyter-uow.1ez.xyz\n",
    "- https://kibana-uow.1ez.xyz\n",
    "- https://elasticsearch-uow.1ez.xyz\n",
    "- https://praeco-uow.1ez.xyz\n",
    "- https://blog-uow.1ez.xyz/blog/"
   ]
  },
  {
   "cell_type": "markdown",
   "id": "hollywood-tumor",
   "metadata": {},
   "source": [
    "### Attacker capability [9]\n",
    "- Jupyter Notebook\n",
    "```\n",
    "Kali Linux\n",
    "RAM Max 8gb\n",
    "```\n",
    "- Tools\n",
    "```\n",
    "nmap\n",
    "unicornscan \n",
    "nikto\n",
    "hping3\n",
    "xprobe2\n",
    "sqlmap\n",
    "wpscan\n",
    "iputils-ping \n",
    "metasploit-framework\n",
    "```"
   ]
  },
  {
   "cell_type": "markdown",
   "id": "assumed-killer",
   "metadata": {},
   "source": [
    "### Defender capability [10]\n",
    "- Filebeat Node\n",
    "```\n",
    "Ubuntu 20.04\n",
    "```\n",
    "- Tools\n",
    "```\n",
    "Filebeat\n",
    "MySQL\n",
    "Wordpress\n",
    "Tshark (~ wireshark)\n",
    "Suricata with DDOS rules\n",
    "```"
   ]
  },
  {
   "cell_type": "markdown",
   "id": "female-license",
   "metadata": {},
   "source": [
    "### Centralized Logging Management (or SOC) [2 -5]\n",
    "- Elasticsearch (2 Nodes)\n",
    "> Max JVM 4 gb ram /nodes\n",
    "- Kibana (1 Nodes)\n",
    "- Logstash (1 Nodes)"
   ]
  },
  {
   "cell_type": "markdown",
   "id": "conservative-marker",
   "metadata": {},
   "source": [
    "### First attack ~ NMAP\n",
    "This attack would be reflected on tshark"
   ]
  },
  {
   "cell_type": "code",
   "execution_count": 1,
   "id": "engaging-heritage",
   "metadata": {},
   "outputs": [
    {
     "name": "stdout",
     "output_type": "stream",
     "text": [
      "Starting Nmap 7.91 ( https://nmap.org ) at 2021-03-01 09:03 UTC\n",
      "Nmap scan report for doblog-uow.1ez.xyz (104.248.152.201)\n",
      "Host is up (0.19s latency).\n",
      "Not shown: 998 closed ports\n",
      "PORT   STATE SERVICE\n",
      "22/tcp open  ssh\n",
      "80/tcp open  http\n",
      "Aggressive OS guesses: Linux 5.0 - 5.4 (99%), Linux 5.4 (98%), Linux 4.15 - 5.6 (97%), Linux 5.1 (96%), Linux 2.6.32 - 3.13 (96%), Linux 5.0 - 5.3 (95%), Linux 2.6.22 - 2.6.36 (95%), Linux 3.10 - 4.11 (95%), Linux 5.0 (94%), Linux 3.10 (94%)\n",
      "No exact OS matches for host (test conditions non-ideal).\n",
      "Network Distance: 20 hops\n",
      "\n",
      "OS detection performed. Please report any incorrect results at https://nmap.org/submit/ .\n",
      "Nmap done: 1 IP address (1 host up) scanned in 8.44 seconds\n"
     ]
    }
   ],
   "source": [
    "%%bash\n",
    "sudo nmap -O doblog-uow.1ez.xyz"
   ]
  },
  {
   "cell_type": "markdown",
   "id": "hydraulic-disclosure",
   "metadata": {},
   "source": [
    "## Second Attack ~ hping3\n",
    "This attack would be reflected on suricata with it ddos rule. (+) Tshark"
   ]
  },
  {
   "cell_type": "code",
   "execution_count": 2,
   "id": "deadly-dodge",
   "metadata": {
    "scrolled": true
   },
   "outputs": [
    {
     "name": "stdout",
     "output_type": "stream",
     "text": [
      "PING doblog-uow.1ez.xyz (104.248.152.201) 56(84) bytes of data.\n",
      "64 bytes from 104.248.152.201 (104.248.152.201): icmp_seq=1 ttl=47 time=195 ms\n",
      "64 bytes from 104.248.152.201 (104.248.152.201): icmp_seq=2 ttl=47 time=195 ms\n",
      "64 bytes from 104.248.152.201 (104.248.152.201): icmp_seq=3 ttl=47 time=195 ms\n",
      "64 bytes from 104.248.152.201 (104.248.152.201): icmp_seq=4 ttl=47 time=196 ms\n",
      "\n",
      "--- doblog-uow.1ez.xyz ping statistics ---\n",
      "4 packets transmitted, 4 received, 0% packet loss, time 3003ms\n",
      "rtt min/avg/max/mdev = 194.869/195.135/195.590/0.288 ms\n"
     ]
    }
   ],
   "source": [
    "%%bash \n",
    "ping -c 4 doblog-uow.1ez.xyz"
   ]
  },
  {
   "cell_type": "code",
   "execution_count": 3,
   "id": "embedded-hypothesis",
   "metadata": {},
   "outputs": [
    {
     "name": "stdout",
     "output_type": "stream",
     "text": [
      "HPING doblog-uow.1ez.xyz (eth1 104.248.152.201): S set, 40 headers + 0 data bytes\n"
     ]
    },
    {
     "name": "stderr",
     "output_type": "stream",
     "text": [
      "\n",
      "--- doblog-uow.1ez.xyz hping statistic ---\n",
      "1000 packets transmitted, 0 packets received, 100% packet loss\n",
      "round-trip min/avg/max = 0.0/0.0/0.0 ms\n"
     ]
    },
    {
     "ename": "CalledProcessError",
     "evalue": "Command 'b'sudo hping3 -c 1000 -S -p 80 doblog-uow.1ez.xyz --faster\\n'' returned non-zero exit status 1.",
     "output_type": "error",
     "traceback": [
      "\u001b[0;31m---------------------------------------------------------------------------\u001b[0m",
      "\u001b[0;31mCalledProcessError\u001b[0m                        Traceback (most recent call last)",
      "\u001b[0;32m<ipython-input-3-a151a77c71e3>\u001b[0m in \u001b[0;36m<module>\u001b[0;34m\u001b[0m\n\u001b[0;32m----> 1\u001b[0;31m \u001b[0mget_ipython\u001b[0m\u001b[0;34m(\u001b[0m\u001b[0;34m)\u001b[0m\u001b[0;34m.\u001b[0m\u001b[0mrun_cell_magic\u001b[0m\u001b[0;34m(\u001b[0m\u001b[0;34m'bash'\u001b[0m\u001b[0;34m,\u001b[0m \u001b[0;34m''\u001b[0m\u001b[0;34m,\u001b[0m \u001b[0;34m'sudo hping3 -c 1000 -S -p 80 doblog-uow.1ez.xyz --faster\\n'\u001b[0m\u001b[0;34m)\u001b[0m\u001b[0;34m\u001b[0m\u001b[0;34m\u001b[0m\u001b[0m\n\u001b[0m",
      "\u001b[0;32m/usr/local/lib/python3.8/site-packages/IPython/core/interactiveshell.py\u001b[0m in \u001b[0;36mrun_cell_magic\u001b[0;34m(self, magic_name, line, cell)\u001b[0m\n\u001b[1;32m   2397\u001b[0m             \u001b[0;32mwith\u001b[0m \u001b[0mself\u001b[0m\u001b[0;34m.\u001b[0m\u001b[0mbuiltin_trap\u001b[0m\u001b[0;34m:\u001b[0m\u001b[0;34m\u001b[0m\u001b[0;34m\u001b[0m\u001b[0m\n\u001b[1;32m   2398\u001b[0m                 \u001b[0margs\u001b[0m \u001b[0;34m=\u001b[0m \u001b[0;34m(\u001b[0m\u001b[0mmagic_arg_s\u001b[0m\u001b[0;34m,\u001b[0m \u001b[0mcell\u001b[0m\u001b[0;34m)\u001b[0m\u001b[0;34m\u001b[0m\u001b[0;34m\u001b[0m\u001b[0m\n\u001b[0;32m-> 2399\u001b[0;31m                 \u001b[0mresult\u001b[0m \u001b[0;34m=\u001b[0m \u001b[0mfn\u001b[0m\u001b[0;34m(\u001b[0m\u001b[0;34m*\u001b[0m\u001b[0margs\u001b[0m\u001b[0;34m,\u001b[0m \u001b[0;34m**\u001b[0m\u001b[0mkwargs\u001b[0m\u001b[0;34m)\u001b[0m\u001b[0;34m\u001b[0m\u001b[0;34m\u001b[0m\u001b[0m\n\u001b[0m\u001b[1;32m   2400\u001b[0m             \u001b[0;32mreturn\u001b[0m \u001b[0mresult\u001b[0m\u001b[0;34m\u001b[0m\u001b[0;34m\u001b[0m\u001b[0m\n\u001b[1;32m   2401\u001b[0m \u001b[0;34m\u001b[0m\u001b[0m\n",
      "\u001b[0;32m/usr/local/lib/python3.8/site-packages/IPython/core/magics/script.py\u001b[0m in \u001b[0;36mnamed_script_magic\u001b[0;34m(line, cell)\u001b[0m\n\u001b[1;32m    140\u001b[0m             \u001b[0;32melse\u001b[0m\u001b[0;34m:\u001b[0m\u001b[0;34m\u001b[0m\u001b[0;34m\u001b[0m\u001b[0m\n\u001b[1;32m    141\u001b[0m                 \u001b[0mline\u001b[0m \u001b[0;34m=\u001b[0m \u001b[0mscript\u001b[0m\u001b[0;34m\u001b[0m\u001b[0;34m\u001b[0m\u001b[0m\n\u001b[0;32m--> 142\u001b[0;31m             \u001b[0;32mreturn\u001b[0m \u001b[0mself\u001b[0m\u001b[0;34m.\u001b[0m\u001b[0mshebang\u001b[0m\u001b[0;34m(\u001b[0m\u001b[0mline\u001b[0m\u001b[0;34m,\u001b[0m \u001b[0mcell\u001b[0m\u001b[0;34m)\u001b[0m\u001b[0;34m\u001b[0m\u001b[0;34m\u001b[0m\u001b[0m\n\u001b[0m\u001b[1;32m    143\u001b[0m \u001b[0;34m\u001b[0m\u001b[0m\n\u001b[1;32m    144\u001b[0m         \u001b[0;31m# write a basic docstring:\u001b[0m\u001b[0;34m\u001b[0m\u001b[0;34m\u001b[0m\u001b[0;34m\u001b[0m\u001b[0m\n",
      "\u001b[0;32m<decorator-gen-103>\u001b[0m in \u001b[0;36mshebang\u001b[0;34m(self, line, cell)\u001b[0m\n",
      "\u001b[0;32m/usr/local/lib/python3.8/site-packages/IPython/core/magic.py\u001b[0m in \u001b[0;36m<lambda>\u001b[0;34m(f, *a, **k)\u001b[0m\n\u001b[1;32m    185\u001b[0m     \u001b[0;31m# but it's overkill for just that one bit of state.\u001b[0m\u001b[0;34m\u001b[0m\u001b[0;34m\u001b[0m\u001b[0;34m\u001b[0m\u001b[0m\n\u001b[1;32m    186\u001b[0m     \u001b[0;32mdef\u001b[0m \u001b[0mmagic_deco\u001b[0m\u001b[0;34m(\u001b[0m\u001b[0marg\u001b[0m\u001b[0;34m)\u001b[0m\u001b[0;34m:\u001b[0m\u001b[0;34m\u001b[0m\u001b[0;34m\u001b[0m\u001b[0m\n\u001b[0;32m--> 187\u001b[0;31m         \u001b[0mcall\u001b[0m \u001b[0;34m=\u001b[0m \u001b[0;32mlambda\u001b[0m \u001b[0mf\u001b[0m\u001b[0;34m,\u001b[0m \u001b[0;34m*\u001b[0m\u001b[0ma\u001b[0m\u001b[0;34m,\u001b[0m \u001b[0;34m**\u001b[0m\u001b[0mk\u001b[0m\u001b[0;34m:\u001b[0m \u001b[0mf\u001b[0m\u001b[0;34m(\u001b[0m\u001b[0;34m*\u001b[0m\u001b[0ma\u001b[0m\u001b[0;34m,\u001b[0m \u001b[0;34m**\u001b[0m\u001b[0mk\u001b[0m\u001b[0;34m)\u001b[0m\u001b[0;34m\u001b[0m\u001b[0;34m\u001b[0m\u001b[0m\n\u001b[0m\u001b[1;32m    188\u001b[0m \u001b[0;34m\u001b[0m\u001b[0m\n\u001b[1;32m    189\u001b[0m         \u001b[0;32mif\u001b[0m \u001b[0mcallable\u001b[0m\u001b[0;34m(\u001b[0m\u001b[0marg\u001b[0m\u001b[0;34m)\u001b[0m\u001b[0;34m:\u001b[0m\u001b[0;34m\u001b[0m\u001b[0;34m\u001b[0m\u001b[0m\n",
      "\u001b[0;32m/usr/local/lib/python3.8/site-packages/IPython/core/magics/script.py\u001b[0m in \u001b[0;36mshebang\u001b[0;34m(self, line, cell)\u001b[0m\n\u001b[1;32m    243\u001b[0m             \u001b[0msys\u001b[0m\u001b[0;34m.\u001b[0m\u001b[0mstderr\u001b[0m\u001b[0;34m.\u001b[0m\u001b[0mflush\u001b[0m\u001b[0;34m(\u001b[0m\u001b[0;34m)\u001b[0m\u001b[0;34m\u001b[0m\u001b[0;34m\u001b[0m\u001b[0m\n\u001b[1;32m    244\u001b[0m         \u001b[0;32mif\u001b[0m \u001b[0margs\u001b[0m\u001b[0;34m.\u001b[0m\u001b[0mraise_error\u001b[0m \u001b[0;32mand\u001b[0m \u001b[0mp\u001b[0m\u001b[0;34m.\u001b[0m\u001b[0mreturncode\u001b[0m\u001b[0;34m!=\u001b[0m\u001b[0;36m0\u001b[0m\u001b[0;34m:\u001b[0m\u001b[0;34m\u001b[0m\u001b[0;34m\u001b[0m\u001b[0m\n\u001b[0;32m--> 245\u001b[0;31m             \u001b[0;32mraise\u001b[0m \u001b[0mCalledProcessError\u001b[0m\u001b[0;34m(\u001b[0m\u001b[0mp\u001b[0m\u001b[0;34m.\u001b[0m\u001b[0mreturncode\u001b[0m\u001b[0;34m,\u001b[0m \u001b[0mcell\u001b[0m\u001b[0;34m,\u001b[0m \u001b[0moutput\u001b[0m\u001b[0;34m=\u001b[0m\u001b[0mout\u001b[0m\u001b[0;34m,\u001b[0m \u001b[0mstderr\u001b[0m\u001b[0;34m=\u001b[0m\u001b[0merr\u001b[0m\u001b[0;34m)\u001b[0m\u001b[0;34m\u001b[0m\u001b[0;34m\u001b[0m\u001b[0m\n\u001b[0m\u001b[1;32m    246\u001b[0m \u001b[0;34m\u001b[0m\u001b[0m\n\u001b[1;32m    247\u001b[0m     \u001b[0;32mdef\u001b[0m \u001b[0m_run_script\u001b[0m\u001b[0;34m(\u001b[0m\u001b[0mself\u001b[0m\u001b[0;34m,\u001b[0m \u001b[0mp\u001b[0m\u001b[0;34m,\u001b[0m \u001b[0mcell\u001b[0m\u001b[0;34m,\u001b[0m \u001b[0mto_close\u001b[0m\u001b[0;34m)\u001b[0m\u001b[0;34m:\u001b[0m\u001b[0;34m\u001b[0m\u001b[0;34m\u001b[0m\u001b[0m\n",
      "\u001b[0;31mCalledProcessError\u001b[0m: Command 'b'sudo hping3 -c 1000 -S -p 80 doblog-uow.1ez.xyz --faster\\n'' returned non-zero exit status 1."
     ]
    }
   ],
   "source": [
    "%%bash\n",
    "sudo hping3 -c 1000 -S -p 80 doblog-uow.1ez.xyz"
   ]
  },
  {
   "cell_type": "markdown",
   "id": "fantastic-iceland",
   "metadata": {},
   "source": [
    "## Third Attack ~ Application Attack\n",
    "This attack would be reflected in the applicaiton layer Apache Logs."
   ]
  },
  {
   "cell_type": "code",
   "execution_count": 4,
   "id": "linear-interval",
   "metadata": {},
   "outputs": [
    {
     "name": "stdout",
     "output_type": "stream",
     "text": [
      "_______________________________________________________________\n",
      "         __          _______   _____\n",
      "         \\ \\        / /  __ \\ / ____|\n",
      "          \\ \\  /\\  / /| |__) | (___   ___  __ _ _ __ ®\n",
      "           \\ \\/  \\/ / |  ___/ \\___ \\ / __|/ _` | '_ \\\n",
      "            \\  /\\  /  | |     ____) | (__| (_| | | | |\n",
      "             \\/  \\/   |_|    |_____/ \\___|\\__,_|_| |_|\n",
      "\n",
      "         WordPress Security Scanner by the WPScan Team\n",
      "                         Version 3.8.15\n",
      "       Sponsored by Automattic - https://automattic.com/\n",
      "       @_WPScan_, @ethicalhack3r, @erwan_lr, @firefart\n",
      "_______________________________________________________________\n",
      "\n",
      "\u001b[34m[i]\u001b[0m Updating the Database ...\n",
      "\u001b[34m[i]\u001b[0m Update completed.\n",
      "\n"
     ]
    }
   ],
   "source": [
    "%%bash\n",
    "wpscan --update"
   ]
  },
  {
   "cell_type": "code",
   "execution_count": 6,
   "id": "portuguese-excuse",
   "metadata": {},
   "outputs": [
    {
     "name": "stdout",
     "output_type": "stream",
     "text": [
      "_______________________________________________________________\n",
      "         __          _______   _____\n",
      "         \\ \\        / /  __ \\ / ____|\n",
      "          \\ \\  /\\  / /| |__) | (___   ___  __ _ _ __ ®\n",
      "           \\ \\/  \\/ / |  ___/ \\___ \\ / __|/ _` | '_ \\\n",
      "            \\  /\\  /  | |     ____) | (__| (_| | | | |\n",
      "             \\/  \\/   |_|    |_____/ \\___|\\__,_|_| |_|\n",
      "\n",
      "         WordPress Security Scanner by the WPScan Team\n",
      "                         Version 3.8.15\n",
      "       Sponsored by Automattic - https://automattic.com/\n",
      "       @_WPScan_, @ethicalhack3r, @erwan_lr, @firefart\n",
      "_______________________________________________________________\n",
      "\n",
      "\u001b[32m[+]\u001b[0m URL: http://doblog-uow.1ez.xyz/blog/ [104.248.152.201]\n",
      "\u001b[32m[+]\u001b[0m Started: Mon Mar  1 09:03:53 2021\n",
      "\n",
      "Interesting Finding(s):\n",
      "\n",
      "\u001b[32m[+]\u001b[0m Headers\n",
      " | Interesting Entry: Server: Apache/2.4.41 (Ubuntu)\n",
      " | Found By: Headers (Passive Detection)\n",
      " | Confidence: 100%\n",
      "\n",
      "\u001b[32m[+]\u001b[0m XML-RPC seems to be enabled: http://doblog-uow.1ez.xyz/blog/xmlrpc.php\n",
      " | Found By: Direct Access (Aggressive Detection)\n",
      " | Confidence: 100%\n",
      " | References:\n",
      " |  - http://codex.wordpress.org/XML-RPC_Pingback_API\n",
      " |  - https://www.rapid7.com/db/modules/auxiliary/scanner/http/wordpress_ghost_scanner\n",
      " |  - https://www.rapid7.com/db/modules/auxiliary/dos/http/wordpress_xmlrpc_dos\n",
      " |  - https://www.rapid7.com/db/modules/auxiliary/scanner/http/wordpress_xmlrpc_login\n",
      " |  - https://www.rapid7.com/db/modules/auxiliary/scanner/http/wordpress_pingback_access\n",
      "\n",
      "\u001b[32m[+]\u001b[0m WordPress readme found: http://doblog-uow.1ez.xyz/blog/readme.html\n",
      " | Found By: Direct Access (Aggressive Detection)\n",
      " | Confidence: 100%\n",
      "\n",
      "\u001b[32m[+]\u001b[0m The external WP-Cron seems to be enabled: http://doblog-uow.1ez.xyz/blog/wp-cron.php\n",
      " | Found By: Direct Access (Aggressive Detection)\n",
      " | Confidence: 60%\n",
      " | References:\n",
      " |  - https://www.iplocation.net/defend-wordpress-from-ddos\n",
      " |  - https://github.com/wpscanteam/wpscan/issues/1299\n",
      "\n",
      "\u001b[32m[+]\u001b[0m WordPress version 5.3.6 identified (Latest, released on 2020-10-30).\n",
      " | Found By: Rss Generator (Passive Detection)\n",
      " |  - http://doblog-uow.1ez.xyz/blog/index.php/feed/, <generator>https://wordpress.org/?v=5.3.6</generator>\n",
      " |  - http://doblog-uow.1ez.xyz/blog/index.php/comments/feed/, <generator>https://wordpress.org/?v=5.3.6</generator>\n",
      "\n",
      "\u001b[32m[+]\u001b[0m WordPress theme in use: twentynineteen\n",
      " | Location: http://doblog-uow.1ez.xyz/blog/wp-content/themes/twentynineteen/\n",
      " | Last Updated: 2020-12-22T00:00:00.000Z\n",
      " | Readme: http://doblog-uow.1ez.xyz/blog/wp-content/themes/twentynineteen/readme.txt\n",
      " | \u001b[33m[!]\u001b[0m The version is out of date, the latest version is 1.9\n",
      " | Style URL: http://doblog-uow.1ez.xyz/blog/wp-content/themes/twentynineteen/style.css?ver=1.4\n",
      " | Style Name: Twenty Nineteen\n",
      " | Style URI: https://wordpress.org/themes/twentynineteen/\n",
      " | Description: Our 2019 default theme is designed to show off the power of the block editor. It features custom sty...\n",
      " | Author: the WordPress team\n",
      " | Author URI: https://wordpress.org/\n",
      " |\n",
      " | Found By: Css Style In Homepage (Passive Detection)\n",
      " |\n",
      " | Version: 1.4 (80% confidence)\n",
      " | Found By: Style (Passive Detection)\n",
      " |  - http://doblog-uow.1ez.xyz/blog/wp-content/themes/twentynineteen/style.css?ver=1.4, Match: 'Version: 1.4'\n",
      "\n",
      "\u001b[32m[+]\u001b[0m Enumerating All Plugins (via Passive Methods)\n",
      "\n",
      "\u001b[34m[i]\u001b[0m No plugins Found.\n",
      "\n",
      "\u001b[32m[+]\u001b[0m Enumerating Config Backups (via Passive and Aggressive Methods)\n",
      "\n",
      " Checking Config Backups -: |==================================================|\n",
      "\n",
      "\u001b[34m[i]\u001b[0m No Config Backups Found.\n",
      "\n",
      "\u001b[33m[!]\u001b[0m No WPScan API Token given, as a result vulnerability data has not been output.\n",
      "\u001b[33m[!]\u001b[0m You can get a free API token with 25 daily requests by registering at https://wpscan.com/register\n",
      "\n",
      "\u001b[32m[+]\u001b[0m Finished: Mon Mar  1 09:04:04 2021\n",
      "\u001b[32m[+]\u001b[0m Requests Done: 53\n",
      "\u001b[32m[+]\u001b[0m Cached Requests: 5\n",
      "\u001b[32m[+]\u001b[0m Data Sent: 14.184 KB\n",
      "\u001b[32m[+]\u001b[0m Data Received: 478.538 KB\n",
      "\u001b[32m[+]\u001b[0m Memory used: 248.219 MB\n",
      "\u001b[32m[+]\u001b[0m Elapsed time: 00:00:11\n"
     ]
    }
   ],
   "source": [
    "%%bash\n",
    "wpscan --url http://doblog-uow.1ez.xyz/blog/"
   ]
  }
 ],
 "metadata": {
  "kernelspec": {
   "display_name": "Python 3",
   "language": "python",
   "name": "python3"
  },
  "language_info": {
   "codemirror_mode": {
    "name": "ipython",
    "version": 3
   },
   "file_extension": ".py",
   "mimetype": "text/x-python",
   "name": "python",
   "nbconvert_exporter": "python",
   "pygments_lexer": "ipython3",
   "version": "3.8.2"
  }
 },
 "nbformat": 4,
 "nbformat_minor": 5
}
