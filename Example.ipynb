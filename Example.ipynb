{
 "cells": [
  {
   "cell_type": "markdown",
   "metadata": {},
   "source": [
    "# This is an example\n",
    "This would tell you on how to execute kali linux command on the server."
   ]
  },
  {
   "cell_type": "code",
   "execution_count": 3,
   "metadata": {},
   "outputs": [
    {
     "name": "stdout",
     "output_type": "stream",
     "text": [
      "lol\n"
     ]
    }
   ],
   "source": [
    "%%bash\n",
    "echo lol;"
   ]
  },
  {
   "cell_type": "code",
   "execution_count": 1,
   "metadata": {},
   "outputs": [
    {
     "name": "stdout",
     "output_type": "stream",
     "text": [
      "hello\n"
     ]
    }
   ],
   "source": [
    "print(\"hello\")"
   ]
  },
  {
   "cell_type": "code",
   "execution_count": 1,
   "metadata": {},
   "outputs": [
    {
     "name": "stdout",
     "output_type": "stream",
     "text": [
      "1.5#stable\n"
     ]
    }
   ],
   "source": [
    "%%bash\n",
    "sqlmap --version"
   ]
  },
  {
   "cell_type": "code",
   "execution_count": 2,
   "metadata": {
    "scrolled": true
   },
   "outputs": [
    {
     "name": "stdout",
     "output_type": "stream",
     "text": [
      "        ___\n",
      "       __H__\n",
      " ___ ___[,]_____ ___ ___  {1.5#stable}\n",
      "|_ -| . [']     | .'| . |\n",
      "|___|_  [)]_|_|_|__,|  _|\n",
      "      |_|V...       |_|   http://sqlmap.org\n",
      "\n",
      "Usage: python3 sqlmap [options]\n",
      "\n",
      "Options:\n",
      "  -h, --help            Show basic help message and exit\n",
      "  -hh                   Show advanced help message and exit\n",
      "  --version             Show program's version number and exit\n",
      "  -v VERBOSE            Verbosity level: 0-6 (default 1)\n",
      "\n",
      "  Target:\n",
      "    At least one of these options has to be provided to define the\n",
      "    target(s)\n",
      "\n",
      "    -u URL, --url=URL   Target URL (e.g. \"http://www.site.com/vuln.php?id=1\")\n",
      "    -g GOOGLEDORK       Process Google dork results as target URLs\n",
      "\n",
      "  Request:\n",
      "    These options can be used to specify how to connect to the target URL\n",
      "\n",
      "    --data=DATA         Data string to be sent through POST (e.g. \"id=1\")\n",
      "    --cookie=COOKIE     HTTP Cookie header value (e.g. \"PHPSESSID=a8d127e..\")\n",
      "    --random-agent      Use randomly selected HTTP User-Agent header value\n",
      "    --proxy=PROXY       Use a proxy to connect to the target URL\n",
      "    --tor               Use Tor anonymity network\n",
      "    --check-tor         Check to see if Tor is used properly\n",
      "\n",
      "  Injection:\n",
      "    These options can be used to specify which parameters to test for,\n",
      "    provide custom injection payloads and optional tampering scripts\n",
      "\n",
      "    -p TESTPARAMETER    Testable parameter(s)\n",
      "    --dbms=DBMS         Force back-end DBMS to provided value\n",
      "\n",
      "  Detection:\n",
      "    These options can be used to customize the detection phase\n",
      "\n",
      "    --level=LEVEL       Level of tests to perform (1-5, default 1)\n",
      "    --risk=RISK         Risk of tests to perform (1-3, default 1)\n",
      "\n",
      "  Techniques:\n",
      "    These options can be used to tweak testing of specific SQL injection\n",
      "    techniques\n",
      "\n",
      "    --technique=TECH..  SQL injection techniques to use (default \"BEUSTQ\")\n",
      "\n",
      "  Enumeration:\n",
      "    These options can be used to enumerate the back-end database\n",
      "    management system information, structure and data contained in the\n",
      "    tables\n",
      "\n",
      "    -a, --all           Retrieve everything\n",
      "    -b, --banner        Retrieve DBMS banner\n",
      "    --current-user      Retrieve DBMS current user\n",
      "    --current-db        Retrieve DBMS current database\n",
      "    --passwords         Enumerate DBMS users password hashes\n",
      "    --tables            Enumerate DBMS database tables\n",
      "    --columns           Enumerate DBMS database table columns\n",
      "    --schema            Enumerate DBMS schema\n",
      "    --dump              Dump DBMS database table entries\n",
      "    --dump-all          Dump all DBMS databases tables entries\n",
      "    -D DB               DBMS database to enumerate\n",
      "    -T TBL              DBMS database table(s) to enumerate\n",
      "    -C COL              DBMS database table column(s) to enumerate\n",
      "\n",
      "  Operating system access:\n",
      "    These options can be used to access the back-end database management\n",
      "    system underlying operating system\n",
      "\n",
      "    --os-shell          Prompt for an interactive operating system shell\n",
      "    --os-pwn            Prompt for an OOB shell, Meterpreter or VNC\n",
      "\n",
      "  General:\n",
      "    These options can be used to set some general working parameters\n",
      "\n",
      "    --batch             Never ask for user input, use the default behavior\n",
      "    --flush-session     Flush session files for current target\n",
      "\n",
      "  Miscellaneous:\n",
      "    These options do not fit into any other category\n",
      "\n",
      "    --sqlmap-shell      Prompt for an interactive sqlmap shell\n",
      "    --wizard            Simple wizard interface for beginner users\n"
     ]
    }
   ],
   "source": [
    "%%bash\n",
    "sqlmap --help"
   ]
  },
  {
   "cell_type": "code",
   "execution_count": 4,
   "metadata": {
    "scrolled": true
   },
   "outputs": [
    {
     "name": "stdout",
     "output_type": "stream",
     "text": [
      "Reading package lists...\n",
      "Building dependency tree...\n",
      "Reading state information...\n",
      "The following additional packages will be installed:\n",
      "  libblas3 liblinear4 lua-lpeg nmap-common\n",
      "Suggested packages:\n",
      "  liblinear-tools liblinear-dev ncat ndiff zenmap\n",
      "The following NEW packages will be installed:\n",
      "  libblas3 liblinear4 lua-lpeg nmap nmap-common\n",
      "0 upgraded, 5 newly installed, 0 to remove and 14 not upgraded.\n",
      "Need to get 6278 kB of archives.\n",
      "After this operation, 27.1 MB of additional disk space will be used.\n",
      "Get:1 http://kali.download/kali kali-rolling/main amd64 libblas3 amd64 3.9.0-3 [153 kB]\n",
      "Get:2 http://kali.download/kali kali-rolling/main amd64 liblinear4 amd64 2.3.0+dfsg-5 [43.6 kB]\n",
      "Get:3 http://kali.download/kali kali-rolling/main amd64 lua-lpeg amd64 1.0.2-1 [33.3 kB]\n",
      "Get:4 http://kali.download/kali kali-rolling/main amd64 nmap-common all 7.91+dfsg1-1kali1 [4040 kB]\n",
      "Get:5 http://kali.download/kali kali-rolling/main amd64 nmap amd64 7.91+dfsg1-1kali1 [2007 kB]\n",
      "Fetched 6278 kB in 1s (6272 kB/s)\n",
      "Selecting previously unselected package libblas3:amd64.\r\n",
      "(Reading database ... \r",
      "(Reading database ... 5%\r",
      "(Reading database ... 10%\r",
      "(Reading database ... 15%\r",
      "(Reading database ... 20%\r",
      "(Reading database ... 25%\r",
      "(Reading database ... 30%\r",
      "(Reading database ... 35%\r",
      "(Reading database ... 40%\r",
      "(Reading database ... 45%\r",
      "(Reading database ... 50%\r",
      "(Reading database ... 55%\r",
      "(Reading database ... 60%\r",
      "(Reading database ... 65%\r",
      "(Reading database ... 70%\r",
      "(Reading database ... 75%\r",
      "(Reading database ... 80%\r",
      "(Reading database ... 85%\r",
      "(Reading database ... 90%\r",
      "(Reading database ... 95%\r",
      "(Reading database ... 100%\r",
      "(Reading database ... 66807 files and directories currently installed.)\r\n",
      "Preparing to unpack .../libblas3_3.9.0-3_amd64.deb ...\r\n",
      "Unpacking libblas3:amd64 (3.9.0-3) ...\r\n",
      "Selecting previously unselected package liblinear4:amd64.\r\n",
      "Preparing to unpack .../liblinear4_2.3.0+dfsg-5_amd64.deb ...\r\n",
      "Unpacking liblinear4:amd64 (2.3.0+dfsg-5) ...\r\n",
      "Selecting previously unselected package lua-lpeg:amd64.\r\n",
      "Preparing to unpack .../lua-lpeg_1.0.2-1_amd64.deb ...\r\n",
      "Unpacking lua-lpeg:amd64 (1.0.2-1) ...\r\n",
      "Selecting previously unselected package nmap-common.\r\n",
      "Preparing to unpack .../nmap-common_7.91+dfsg1-1kali1_all.deb ...\r\n",
      "Unpacking nmap-common (7.91+dfsg1-1kali1) ...\r\n",
      "Selecting previously unselected package nmap.\r\n",
      "Preparing to unpack .../nmap_7.91+dfsg1-1kali1_amd64.deb ...\r\n",
      "Unpacking nmap (7.91+dfsg1-1kali1) ...\r\n",
      "Setting up lua-lpeg:amd64 (1.0.2-1) ...\r\n",
      "Setting up libblas3:amd64 (3.9.0-3) ...\r\n",
      "update-alternatives: using /usr/lib/x86_64-linux-gnu/blas/libblas.so.3 to provide /usr/lib/x86_64-linux-gnu/libblas.so.3 (libblas.so.3-x86_64-linux-gnu) in auto mode\r\n",
      "Setting up nmap-common (7.91+dfsg1-1kali1) ...\r\n",
      "Setting up liblinear4:amd64 (2.3.0+dfsg-5) ...\r\n",
      "Setting up nmap (7.91+dfsg1-1kali1) ...\r\n",
      "Processing triggers for libc-bin (2.31-5) ...\r\n"
     ]
    },
    {
     "name": "stderr",
     "output_type": "stream",
     "text": [
      "\n",
      "WARNING: apt does not have a stable CLI interface. Use with caution in scripts.\n",
      "\n",
      "debconf: delaying package configuration, since apt-utils is not installed\n"
     ]
    }
   ],
   "source": [
    "%%bash\n",
    "sudo apt -y install nmap"
   ]
  },
  {
   "cell_type": "code",
   "execution_count": 5,
   "metadata": {},
   "outputs": [
    {
     "name": "stdout",
     "output_type": "stream",
     "text": [
      "Nmap 7.91 ( https://nmap.org )\n",
      "Usage: nmap [Scan Type(s)] [Options] {target specification}\n",
      "TARGET SPECIFICATION:\n",
      "  Can pass hostnames, IP addresses, networks, etc.\n",
      "  Ex: scanme.nmap.org, microsoft.com/24, 192.168.0.1; 10.0.0-255.1-254\n",
      "  -iL <inputfilename>: Input from list of hosts/networks\n",
      "  -iR <num hosts>: Choose random targets\n",
      "  --exclude <host1[,host2][,host3],...>: Exclude hosts/networks\n",
      "  --excludefile <exclude_file>: Exclude list from file\n",
      "HOST DISCOVERY:\n",
      "  -sL: List Scan - simply list targets to scan\n",
      "  -sn: Ping Scan - disable port scan\n",
      "  -Pn: Treat all hosts as online -- skip host discovery\n",
      "  -PS/PA/PU/PY[portlist]: TCP SYN/ACK, UDP or SCTP discovery to given ports\n",
      "  -PE/PP/PM: ICMP echo, timestamp, and netmask request discovery probes\n",
      "  -PO[protocol list]: IP Protocol Ping\n",
      "  -n/-R: Never do DNS resolution/Always resolve [default: sometimes]\n",
      "  --dns-servers <serv1[,serv2],...>: Specify custom DNS servers\n",
      "  --system-dns: Use OS's DNS resolver\n",
      "  --traceroute: Trace hop path to each host\n",
      "SCAN TECHNIQUES:\n",
      "  -sS/sT/sA/sW/sM: TCP SYN/Connect()/ACK/Window/Maimon scans\n",
      "  -sU: UDP Scan\n",
      "  -sN/sF/sX: TCP Null, FIN, and Xmas scans\n",
      "  --scanflags <flags>: Customize TCP scan flags\n",
      "  -sI <zombie host[:probeport]>: Idle scan\n",
      "  -sY/sZ: SCTP INIT/COOKIE-ECHO scans\n",
      "  -sO: IP protocol scan\n",
      "  -b <FTP relay host>: FTP bounce scan\n",
      "PORT SPECIFICATION AND SCAN ORDER:\n",
      "  -p <port ranges>: Only scan specified ports\n",
      "    Ex: -p22; -p1-65535; -p U:53,111,137,T:21-25,80,139,8080,S:9\n",
      "  --exclude-ports <port ranges>: Exclude the specified ports from scanning\n",
      "  -F: Fast mode - Scan fewer ports than the default scan\n",
      "  -r: Scan ports consecutively - don't randomize\n",
      "  --top-ports <number>: Scan <number> most common ports\n",
      "  --port-ratio <ratio>: Scan ports more common than <ratio>\n",
      "SERVICE/VERSION DETECTION:\n",
      "  -sV: Probe open ports to determine service/version info\n",
      "  --version-intensity <level>: Set from 0 (light) to 9 (try all probes)\n",
      "  --version-light: Limit to most likely probes (intensity 2)\n",
      "  --version-all: Try every single probe (intensity 9)\n",
      "  --version-trace: Show detailed version scan activity (for debugging)\n",
      "SCRIPT SCAN:\n",
      "  -sC: equivalent to --script=default\n",
      "  --script=<Lua scripts>: <Lua scripts> is a comma separated list of\n",
      "           directories, script-files or script-categories\n",
      "  --script-args=<n1=v1,[n2=v2,...]>: provide arguments to scripts\n",
      "  --script-args-file=filename: provide NSE script args in a file\n",
      "  --script-trace: Show all data sent and received\n",
      "  --script-updatedb: Update the script database.\n",
      "  --script-help=<Lua scripts>: Show help about scripts.\n",
      "           <Lua scripts> is a comma-separated list of script-files or\n",
      "           script-categories.\n",
      "OS DETECTION:\n",
      "  -O: Enable OS detection\n",
      "  --osscan-limit: Limit OS detection to promising targets\n",
      "  --osscan-guess: Guess OS more aggressively\n",
      "TIMING AND PERFORMANCE:\n",
      "  Options which take <time> are in seconds, or append 'ms' (milliseconds),\n",
      "  's' (seconds), 'm' (minutes), or 'h' (hours) to the value (e.g. 30m).\n",
      "  -T<0-5>: Set timing template (higher is faster)\n",
      "  --min-hostgroup/max-hostgroup <size>: Parallel host scan group sizes\n",
      "  --min-parallelism/max-parallelism <numprobes>: Probe parallelization\n",
      "  --min-rtt-timeout/max-rtt-timeout/initial-rtt-timeout <time>: Specifies\n",
      "      probe round trip time.\n",
      "  --max-retries <tries>: Caps number of port scan probe retransmissions.\n",
      "  --host-timeout <time>: Give up on target after this long\n",
      "  --scan-delay/--max-scan-delay <time>: Adjust delay between probes\n",
      "  --min-rate <number>: Send packets no slower than <number> per second\n",
      "  --max-rate <number>: Send packets no faster than <number> per second\n",
      "FIREWALL/IDS EVASION AND SPOOFING:\n",
      "  -f; --mtu <val>: fragment packets (optionally w/given MTU)\n",
      "  -D <decoy1,decoy2[,ME],...>: Cloak a scan with decoys\n",
      "  -S <IP_Address>: Spoof source address\n",
      "  -e <iface>: Use specified interface\n",
      "  -g/--source-port <portnum>: Use given port number\n",
      "  --proxies <url1,[url2],...>: Relay connections through HTTP/SOCKS4 proxies\n",
      "  --data <hex string>: Append a custom payload to sent packets\n",
      "  --data-string <string>: Append a custom ASCII string to sent packets\n",
      "  --data-length <num>: Append random data to sent packets\n",
      "  --ip-options <options>: Send packets with specified ip options\n",
      "  --ttl <val>: Set IP time-to-live field\n",
      "  --spoof-mac <mac address/prefix/vendor name>: Spoof your MAC address\n",
      "  --badsum: Send packets with a bogus TCP/UDP/SCTP checksum\n",
      "OUTPUT:\n",
      "  -oN/-oX/-oS/-oG <file>: Output scan in normal, XML, s|<rIpt kIddi3,\n",
      "     and Grepable format, respectively, to the given filename.\n",
      "  -oA <basename>: Output in the three major formats at once\n",
      "  -v: Increase verbosity level (use -vv or more for greater effect)\n",
      "  -d: Increase debugging level (use -dd or more for greater effect)\n",
      "  --reason: Display the reason a port is in a particular state\n",
      "  --open: Only show open (or possibly open) ports\n",
      "  --packet-trace: Show all packets sent and received\n",
      "  --iflist: Print host interfaces and routes (for debugging)\n",
      "  --append-output: Append to rather than clobber specified output files\n",
      "  --resume <filename>: Resume an aborted scan\n",
      "  --stylesheet <path/URL>: XSL stylesheet to transform XML output to HTML\n",
      "  --webxml: Reference stylesheet from Nmap.Org for more portable XML\n",
      "  --no-stylesheet: Prevent associating of XSL stylesheet w/XML output\n",
      "MISC:\n",
      "  -6: Enable IPv6 scanning\n",
      "  -A: Enable OS detection, version detection, script scanning, and traceroute\n",
      "  --datadir <dirname>: Specify custom Nmap data file location\n",
      "  --send-eth/--send-ip: Send using raw ethernet frames or IP packets\n",
      "  --privileged: Assume that the user is fully privileged\n",
      "  --unprivileged: Assume the user lacks raw socket privileges\n",
      "  -V: Print version number\n",
      "  -h: Print this help summary page.\n",
      "EXAMPLES:\n",
      "  nmap -v -A scanme.nmap.org\n",
      "  nmap -v -sn 192.168.0.0/16 10.0.0.0/8\n",
      "  nmap -v -iR 10000 -Pn -p 80\n",
      "SEE THE MAN PAGE (https://nmap.org/book/man.html) FOR MORE OPTIONS AND EXAMPLES\n"
     ]
    }
   ],
   "source": [
    "%%bash\n",
    "nmap --help"
   ]
  },
  {
   "cell_type": "code",
   "execution_count": 6,
   "metadata": {},
   "outputs": [
    {
     "name": "stdout",
     "output_type": "stream",
     "text": [
      "lo\n"
     ]
    }
   ],
   "source": [
    "%%sh\n",
    "echo \"lo\""
   ]
  },
  {
   "cell_type": "code",
   "execution_count": 8,
   "metadata": {},
   "outputs": [
    {
     "name": "stdout",
     "output_type": "stream",
     "text": [
      "Reading package lists...\n",
      "Building dependency tree...\n",
      "Reading state information...\n",
      "The following additional packages will be installed:\n",
      "  curl libcurl4 libncurses6 libprocps8 libxslt1.1 procps psmisc\n",
      "  ruby-activesupport ruby-addressable ruby-atomic ruby-cms-scanner\n",
      "  ruby-concurrent ruby-ethon ruby-ffi ruby-get-process-mem ruby-i18n\n",
      "  ruby-mime-types ruby-mime-types-data ruby-nokogiri ruby-opt-parse-validator\n",
      "  ruby-pkg-config ruby-progressbar ruby-public-suffix ruby-thread-safe\n",
      "  ruby-typhoeus ruby-tzinfo ruby-yajl ruby-zeitwerk\n",
      "The following NEW packages will be installed:\n",
      "  curl libcurl4 libncurses6 libprocps8 libxslt1.1 procps psmisc\n",
      "  ruby-activesupport ruby-addressable ruby-atomic ruby-cms-scanner\n",
      "  ruby-concurrent ruby-ethon ruby-ffi ruby-get-process-mem ruby-i18n\n",
      "  ruby-mime-types ruby-mime-types-data ruby-nokogiri ruby-opt-parse-validator\n",
      "  ruby-pkg-config ruby-progressbar ruby-public-suffix ruby-thread-safe\n",
      "  ruby-typhoeus ruby-tzinfo ruby-yajl ruby-zeitwerk wpscan\n",
      "0 upgraded, 29 newly installed, 0 to remove and 14 not upgraded.\n",
      "Need to get 2552 kB of archives.\n",
      "After this operation, 9718 kB of additional disk space will be used.\n",
      "Get:1 http://kali.download/kali kali-rolling/main amd64 libncurses6 amd64 6.2+20201114-1 [102 kB]\n",
      "Get:2 http://kali.download/kali kali-rolling/main amd64 libprocps8 amd64 2:3.3.16-5 [62.7 kB]\n",
      "Get:3 http://kali.download/kali kali-rolling/main amd64 procps amd64 2:3.3.16-5 [262 kB]\n",
      "Get:4 http://kali.download/kali kali-rolling/main amd64 libcurl4 amd64 7.72.0-1 [336 kB]\n",
      "Get:5 http://kali.download/kali kali-rolling/main amd64 curl amd64 7.72.0-1 [264 kB]\n",
      "Get:6 http://kali.download/kali kali-rolling/main amd64 libxslt1.1 amd64 1.1.34-4 [239 kB]\n",
      "Get:7 http://kali.download/kali kali-rolling/main amd64 psmisc amd64 23.3-1 [131 kB]\n",
      "Get:8 http://kali.download/kali kali-rolling/main amd64 ruby-concurrent all 1.1.6+dfsg-3 [179 kB]\n",
      "Get:9 http://kali.download/kali kali-rolling/main amd64 ruby-i18n all 1.8.5-1 [39.6 kB]\n",
      "Get:10 http://kali.download/kali kali-rolling/main amd64 ruby-atomic amd64 1.1.16-3+b1 [10.6 kB]\n",
      "Get:11 http://kali.download/kali kali-rolling/main amd64 ruby-thread-safe all 0.3.6-1 [26.4 kB]\n",
      "Get:12 http://kali.download/kali kali-rolling/main amd64 ruby-tzinfo all 1.2.6-1 [45.4 kB]\n",
      "Get:13 http://kali.download/kali kali-rolling/main amd64 ruby-zeitwerk all 2.4.2-1 [29.0 kB]\n",
      "Get:14 http://kali.download/kali kali-rolling/main amd64 ruby-activesupport all 2:6.0.3.4+dfsg-2 [198 kB]\n",
      "Get:15 http://kali.download/kali kali-rolling/main amd64 ruby-public-suffix all 4.0.3+ds-0kali1 [16.3 kB]\n",
      "Get:16 http://kali.download/kali kali-rolling/main amd64 ruby-addressable all 2.7.0-1 [51.1 kB]\n",
      "Get:17 http://kali.download/kali kali-rolling/main amd64 ruby-ffi amd64 1.12.2+dfsg-2+b3 [85.0 kB]\n",
      "Get:18 http://kali.download/kali kali-rolling/main amd64 ruby-get-process-mem all 0.2.5-1 [6432 B]\n",
      "Get:19 http://kali.download/kali kali-rolling/main amd64 ruby-pkg-config all 1.4.4-1 [9276 B]\n",
      "Get:20 http://kali.download/kali kali-rolling/main amd64 ruby-nokogiri amd64 1.10.9+dfsg-1+b1 [116 kB]\n",
      "Get:21 http://kali.download/kali kali-rolling/main amd64 ruby-opt-parse-validator all 1.9.3-0kali1 [13.0 kB]\n",
      "Get:22 http://kali.download/kali kali-rolling/main amd64 ruby-progressbar all 1.10.1-1 [23.9 kB]\n",
      "Get:23 http://kali.download/kali kali-rolling/main amd64 ruby-mime-types-data all 3.2015.1120-1.1 [71.8 kB]\n",
      "Get:24 http://kali.download/kali kali-rolling/main amd64 ruby-mime-types all 3.3.1-1 [24.6 kB]\n",
      "Get:25 http://kali.download/kali kali-rolling/main amd64 ruby-ethon all 0.9.0-2 [33.6 kB]\n",
      "Get:26 http://kali.download/kali kali-rolling/main amd64 ruby-typhoeus all 1.4.0-1 [36.2 kB]\n",
      "Get:27 http://kali.download/kali kali-rolling/main amd64 ruby-yajl amd64 1.4.1-1+b1 [46.4 kB]\n",
      "Get:28 http://kali.download/kali kali-rolling/main amd64 ruby-cms-scanner all 0.12.2-0kali1 [33.7 kB]\n",
      "Get:29 http://kali.download/kali kali-rolling/non-free amd64 wpscan all 3.8.12-0kali1 [59.2 kB]\n",
      "Fetched 2552 kB in 3s (765 kB/s)\n",
      "Selecting previously unselected package libncurses6:amd64.\r\n",
      "(Reading database ... \r",
      "(Reading database ... 5%\r",
      "(Reading database ... 10%\r",
      "(Reading database ... 15%\r",
      "(Reading database ... 20%\r",
      "(Reading database ... 25%\r",
      "(Reading database ... 30%\r",
      "(Reading database ... 35%\r",
      "(Reading database ... 40%\r",
      "(Reading database ... 45%\r",
      "(Reading database ... 50%\r",
      "(Reading database ... 55%\r",
      "(Reading database ... 60%\r",
      "(Reading database ... 65%\r",
      "(Reading database ... 70%\r",
      "(Reading database ... 75%\r",
      "(Reading database ... 80%\r",
      "(Reading database ... 85%\r",
      "(Reading database ... 90%\r",
      "(Reading database ... 95%\r",
      "(Reading database ... 100%\r",
      "(Reading database ... 67696 files and directories currently installed.)\r\n",
      "Preparing to unpack .../00-libncurses6_6.2+20201114-1_amd64.deb ...\r\n",
      "Unpacking libncurses6:amd64 (6.2+20201114-1) ...\r\n",
      "Selecting previously unselected package libprocps8:amd64.\r\n",
      "Preparing to unpack .../01-libprocps8_2%3a3.3.16-5_amd64.deb ...\r\n",
      "Unpacking libprocps8:amd64 (2:3.3.16-5) ...\r\n",
      "Selecting previously unselected package procps.\r\n",
      "Preparing to unpack .../02-procps_2%3a3.3.16-5_amd64.deb ...\r\n",
      "Unpacking procps (2:3.3.16-5) ...\r\n",
      "Selecting previously unselected package libcurl4:amd64.\r\n",
      "Preparing to unpack .../03-libcurl4_7.72.0-1_amd64.deb ...\r\n",
      "Unpacking libcurl4:amd64 (7.72.0-1) ...\r\n",
      "Selecting previously unselected package curl.\r\n",
      "Preparing to unpack .../04-curl_7.72.0-1_amd64.deb ...\r\n",
      "Unpacking curl (7.72.0-1) ...\r\n",
      "Selecting previously unselected package libxslt1.1:amd64.\r\n",
      "Preparing to unpack .../05-libxslt1.1_1.1.34-4_amd64.deb ...\r\n",
      "Unpacking libxslt1.1:amd64 (1.1.34-4) ...\r\n",
      "Selecting previously unselected package psmisc.\r\n",
      "Preparing to unpack .../06-psmisc_23.3-1_amd64.deb ...\r\n",
      "Unpacking psmisc (23.3-1) ...\r\n",
      "Selecting previously unselected package ruby-concurrent.\r\n",
      "Preparing to unpack .../07-ruby-concurrent_1.1.6+dfsg-3_all.deb ...\r\n",
      "Unpacking ruby-concurrent (1.1.6+dfsg-3) ...\r\n",
      "Selecting previously unselected package ruby-i18n.\r\n",
      "Preparing to unpack .../08-ruby-i18n_1.8.5-1_all.deb ...\r\n",
      "Unpacking ruby-i18n (1.8.5-1) ...\r\n",
      "Selecting previously unselected package ruby-atomic.\r\n",
      "Preparing to unpack .../09-ruby-atomic_1.1.16-3+b1_amd64.deb ...\r\n",
      "Unpacking ruby-atomic (1.1.16-3+b1) ...\r\n",
      "Selecting previously unselected package ruby-thread-safe.\r\n",
      "Preparing to unpack .../10-ruby-thread-safe_0.3.6-1_all.deb ...\r\n",
      "Unpacking ruby-thread-safe (0.3.6-1) ...\r\n",
      "Selecting previously unselected package ruby-tzinfo.\r\n",
      "Preparing to unpack .../11-ruby-tzinfo_1.2.6-1_all.deb ...\r\n",
      "Unpacking ruby-tzinfo (1.2.6-1) ...\r\n",
      "Selecting previously unselected package ruby-zeitwerk.\r\n",
      "Preparing to unpack .../12-ruby-zeitwerk_2.4.2-1_all.deb ...\r\n",
      "Unpacking ruby-zeitwerk (2.4.2-1) ...\r\n",
      "Selecting previously unselected package ruby-activesupport.\r\n",
      "Preparing to unpack .../13-ruby-activesupport_2%3a6.0.3.4+dfsg-2_all.deb ...\r\n",
      "Unpacking ruby-activesupport (2:6.0.3.4+dfsg-2) ...\r\n",
      "Selecting previously unselected package ruby-public-suffix.\r\n",
      "Preparing to unpack .../14-ruby-public-suffix_4.0.3+ds-0kali1_all.deb ...\r\n",
      "Unpacking ruby-public-suffix (4.0.3+ds-0kali1) ...\r\n",
      "Selecting previously unselected package ruby-addressable.\r\n",
      "Preparing to unpack .../15-ruby-addressable_2.7.0-1_all.deb ...\r\n",
      "Unpacking ruby-addressable (2.7.0-1) ...\r\n",
      "Selecting previously unselected package ruby-ffi.\r\n",
      "Preparing to unpack .../16-ruby-ffi_1.12.2+dfsg-2+b3_amd64.deb ...\r\n",
      "Unpacking ruby-ffi (1.12.2+dfsg-2+b3) ...\r\n",
      "Selecting previously unselected package ruby-get-process-mem.\r\n",
      "Preparing to unpack .../17-ruby-get-process-mem_0.2.5-1_all.deb ...\r\n",
      "Unpacking ruby-get-process-mem (0.2.5-1) ...\r\n",
      "Selecting previously unselected package ruby-pkg-config.\r\n",
      "Preparing to unpack .../18-ruby-pkg-config_1.4.4-1_all.deb ...\r\n",
      "Unpacking ruby-pkg-config (1.4.4-1) ...\r\n",
      "Selecting previously unselected package ruby-nokogiri.\r\n",
      "Preparing to unpack .../19-ruby-nokogiri_1.10.9+dfsg-1+b1_amd64.deb ...\r\n",
      "Unpacking ruby-nokogiri (1.10.9+dfsg-1+b1) ...\r\n",
      "Selecting previously unselected package ruby-opt-parse-validator.\r\n",
      "Preparing to unpack .../20-ruby-opt-parse-validator_1.9.3-0kali1_all.deb ...\r\n",
      "Unpacking ruby-opt-parse-validator (1.9.3-0kali1) ...\r\n",
      "Selecting previously unselected package ruby-progressbar.\r\n",
      "Preparing to unpack .../21-ruby-progressbar_1.10.1-1_all.deb ...\r\n",
      "Unpacking ruby-progressbar (1.10.1-1) ...\r\n",
      "Selecting previously unselected package ruby-mime-types-data.\r\n",
      "Preparing to unpack .../22-ruby-mime-types-data_3.2015.1120-1.1_all.deb ...\r\n",
      "Unpacking ruby-mime-types-data (3.2015.1120-1.1) ...\r\n",
      "Selecting previously unselected package ruby-mime-types.\r\n",
      "Preparing to unpack .../23-ruby-mime-types_3.3.1-1_all.deb ...\r\n",
      "Unpacking ruby-mime-types (3.3.1-1) ...\r\n",
      "Selecting previously unselected package ruby-ethon.\r\n",
      "Preparing to unpack .../24-ruby-ethon_0.9.0-2_all.deb ...\r\n",
      "Unpacking ruby-ethon (0.9.0-2) ...\r\n",
      "Selecting previously unselected package ruby-typhoeus.\r\n",
      "Preparing to unpack .../25-ruby-typhoeus_1.4.0-1_all.deb ...\r\n",
      "Unpacking ruby-typhoeus (1.4.0-1) ...\r\n",
      "Selecting previously unselected package ruby-yajl.\r\n",
      "Preparing to unpack .../26-ruby-yajl_1.4.1-1+b1_amd64.deb ...\r\n",
      "Unpacking ruby-yajl (1.4.1-1+b1) ...\r\n",
      "Selecting previously unselected package ruby-cms-scanner.\r\n",
      "Preparing to unpack .../27-ruby-cms-scanner_0.12.2-0kali1_all.deb ...\r\n",
      "Unpacking ruby-cms-scanner (0.12.2-0kali1) ...\r\n",
      "Selecting previously unselected package wpscan.\r\n",
      "Preparing to unpack .../28-wpscan_3.8.12-0kali1_all.deb ...\r\n",
      "Unpacking wpscan (3.8.12-0kali1) ...\r\n",
      "Setting up ruby-atomic (1.1.16-3+b1) ...\r\n",
      "Setting up psmisc (23.3-1) ...\r\n",
      "Setting up ruby-public-suffix (4.0.3+ds-0kali1) ...\r\n",
      "Setting up ruby-concurrent (1.1.6+dfsg-3) ...\r\n",
      "Setting up ruby-pkg-config (1.4.4-1) ...\r\n",
      "Setting up libncurses6:amd64 (6.2+20201114-1) ...\r\n",
      "Setting up ruby-thread-safe (0.3.6-1) ...\r\n",
      "Setting up ruby-i18n (1.8.5-1) ...\r\n",
      "Setting up ruby-progressbar (1.10.1-1) ...\r\n",
      "Setting up libxslt1.1:amd64 (1.1.34-4) ...\r\n",
      "Setting up ruby-mime-types-data (3.2015.1120-1.1) ...\r\n",
      "Setting up libcurl4:amd64 (7.72.0-1) ...\r\n",
      "Setting up curl (7.72.0-1) ...\r\n",
      "Setting up ruby-yajl (1.4.1-1+b1) ...\r\n",
      "Setting up ruby-zeitwerk (2.4.2-1) ...\r\n",
      "Setting up libprocps8:amd64 (2:3.3.16-5) ...\r\n",
      "Setting up ruby-ffi (1.12.2+dfsg-2+b3) ...\r\n",
      "Setting up ruby-addressable (2.7.0-1) ...\r\n",
      "Setting up ruby-nokogiri (1.10.9+dfsg-1+b1) ...\r\n",
      "Setting up ruby-tzinfo (1.2.6-1) ...\r\n",
      "Setting up ruby-activesupport (2:6.0.3.4+dfsg-2) ...\r\n",
      "Setting up ruby-opt-parse-validator (1.9.3-0kali1) ...\r\n",
      "Setting up ruby-get-process-mem (0.2.5-1) ...\r\n",
      "Setting up ruby-mime-types (3.3.1-1) ...\r\n",
      "Setting up ruby-ethon (0.9.0-2) ...\r\n",
      "Setting up procps (2:3.3.16-5) ...\r\n",
      "update-alternatives: using /usr/bin/w.procps to provide /usr/bin/w (w) in auto mode\r\n",
      "Setting up ruby-typhoeus (1.4.0-1) ...\r\n",
      "Setting up ruby-cms-scanner (0.12.2-0kali1) ...\r\n",
      "Setting up wpscan (3.8.12-0kali1) ...\r\n",
      "Processing triggers for libc-bin (2.31-5) ...\r\n"
     ]
    },
    {
     "name": "stderr",
     "output_type": "stream",
     "text": [
      "\n",
      "WARNING: apt does not have a stable CLI interface. Use with caution in scripts.\n",
      "\n",
      "debconf: delaying package configuration, since apt-utils is not installed\n"
     ]
    }
   ],
   "source": [
    "%%bash\n",
    "sudo apt -y install wpscan"
   ]
  },
  {
   "cell_type": "code",
   "execution_count": 13,
   "metadata": {},
   "outputs": [
    {
     "name": "stdout",
     "output_type": "stream",
     "text": [
      "_______________________________________________________________\n",
      "         __          _______   _____\n",
      "         \\ \\        / /  __ \\ / ____|\n",
      "          \\ \\  /\\  / /| |__) | (___   ___  __ _ _ __ ®\n",
      "           \\ \\/  \\/ / |  ___/ \\___ \\ / __|/ _` | '_ \\\n",
      "            \\  /\\  /  | |     ____) | (__| (_| | | | |\n",
      "             \\/  \\/   |_|    |_____/ \\___|\\__,_|_| |_|\n",
      "\n",
      "         WordPress Security Scanner by the WPScan Team\n",
      "                         Version 3.8.12\n",
      "                               \n",
      "       @_WPScan_, @ethicalhack3r, @erwan_lr, @firefart\n",
      "_______________________________________________________________\n",
      "\n",
      "Current Version: 3.8.12\n",
      "\n"
     ]
    }
   ],
   "source": [
    "%%bash\n",
    "sudo wpscan --version"
   ]
  },
  {
   "cell_type": "code",
   "execution_count": 14,
   "metadata": {},
   "outputs": [
    {
     "name": "stdout",
     "output_type": "stream",
     "text": [
      "Python 3.8.7\n"
     ]
    }
   ],
   "source": [
    "%%bash\n",
    "python3 --version"
   ]
  },
  {
   "cell_type": "code",
   "execution_count": 4,
   "metadata": {},
   "outputs": [
    {
     "name": "stdout",
     "output_type": "stream",
     "text": [
      "HTTP/1.1 200 OK\r\n",
      "Content-Type: text/html; charset=UTF-8\r\n",
      "Last-Modified: Thu, 17 Oct 2019 07:18:26 GMT\r\n",
      "Server: ECS (dcb/7EA3)\r\n",
      "Vary: Accept-Encoding\r\n",
      "Set-Cookie: sess_uuid=c086958d-91f3-47ad-ae93-14b27282ff39\r\n",
      "Content-Length: 1224\r\n",
      "Date: Fri, 15 Jan 2021 09:21:45 GMT\r\n",
      "\r\n",
      "<!DOCTYPE doctype html>\n",
      "\n",
      "<html>\n",
      "<head>\n",
      "<title>Example Domain</title>\n",
      "<meta charset=\"utf-8\"/>\n",
      "<meta content=\"text/html; charset=utf-8\" http-equiv=\"Content-type\"/>\n",
      "<meta content=\"width=device-width, initial-scale=1\" name=\"viewport\"/>\n",
      "<style type=\"text/css\">\n",
      "    body {\n",
      "        background-color: #f0f0f2;\n",
      "        margin: 0;\n",
      "        padding: 0;\n",
      "        font-family: -apple-system, system-ui, BlinkMacSystemFont, \"Segoe UI\", \"Open Sans\", \"Helvetica Neue\", Helvetica, Arial, sans-serif;\n",
      "        \n",
      "    }\n",
      "    div {\n",
      "        width: 600px;\n",
      "        margin: 5em auto;\n",
      "        padding: 2em;\n",
      "        background-color: #fdfdff;\n",
      "        border-radius: 0.5em;\n",
      "        box-shadow: 2px 3px 7px 2px rgba(0,0,0,0.02);\n",
      "    }\n",
      "    a:link, a:visited {\n",
      "        color: #38488f;\n",
      "        text-decoration: none;\n",
      "    }\n",
      "    @media (max-width: 700px) {\n",
      "        div {\n",
      "            margin: 0 auto;\n",
      "            width: auto;\n",
      "        }\n",
      "    }\n",
      "    </style>\n",
      "</head>\n",
      "<body>\n",
      "<div>\n",
      "<h1>Example Domain</h1>\n",
      "<p>This domain is for use in illustrative examples in documents. You may use this\n",
      "    domain in literature without prior coordination or asking for permission.</p>\n",
      "<p><a href=\"https://www.iana.org/domains/example\">More information...</a></p>\n",
      "</div>\n",
      "</body>\n",
      "</html>\n"
     ]
    },
    {
     "name": "stderr",
     "output_type": "stream",
     "text": [
      "  % Total    % Received % Xferd  Average Speed   Time    Time     Time  Current\n",
      "                                 Dload  Upload   Total   Spent    Left  Speed\n",
      "\r",
      "  0     0    0     0    0     0      0      0 --:--:-- --:--:-- --:--:--     0\r",
      "100  1224  100  1224    0     0  15493      0 --:--:-- --:--:-- --:--:-- 15493\n"
     ]
    }
   ],
   "source": [
    "%%bash\n",
    "curl -i snare:80"
   ]
  },
  {
   "cell_type": "code",
   "execution_count": 22,
   "metadata": {},
   "outputs": [
    {
     "name": "stdout",
     "output_type": "stream",
     "text": [
      "{\n",
      "  \"name\" : \"bbed973cb4e9\",\n",
      "  \"cluster_name\" : \"docker-cluster\",\n",
      "  \"cluster_uuid\" : \"aU2mgTnJQtairhrLjESI4w\",\n",
      "  \"version\" : {\n",
      "    \"number\" : \"7.10.1\",\n",
      "    \"build_flavor\" : \"default\",\n",
      "    \"build_type\" : \"docker\",\n",
      "    \"build_hash\" : \"1c34507e66d7db1211f66f3513706fdf548736aa\",\n",
      "    \"build_date\" : \"2020-12-05T01:00:33.671820Z\",\n",
      "    \"build_snapshot\" : false,\n",
      "    \"lucene_version\" : \"8.7.0\",\n",
      "    \"minimum_wire_compatibility_version\" : \"6.8.0\",\n",
      "    \"minimum_index_compatibility_version\" : \"6.0.0-beta1\"\n",
      "  },\n",
      "  \"tagline\" : \"You Know, for Search\"\n",
      "}\n"
     ]
    },
    {
     "name": "stderr",
     "output_type": "stream",
     "text": [
      "  % Total    % Received % Xferd  Average Speed   Time    Time     Time  Current\n",
      "                                 Dload  Upload   Total   Spent    Left  Speed\n",
      "\r",
      "  0     0    0     0    0     0      0      0 --:--:-- --:--:-- --:--:--     0\r",
      "100   542  100   542    0     0   529k      0 --:--:-- --:--:-- --:--:--  529k\n"
     ]
    }
   ],
   "source": [
    "%%bash\n",
    "curl -u elastic:whenguardian2021 10.0.2.15:9200"
   ]
  },
  {
   "cell_type": "code",
   "execution_count": 29,
   "metadata": {},
   "outputs": [
    {
     "name": "stdout",
     "output_type": "stream",
     "text": [
      "Hit:1 http://kali.download/kali kali-rolling InRelease\n",
      "Reading package lists...\n",
      "Building dependency tree...\n",
      "Reading state information...\n",
      "86 packages can be upgraded. Run 'apt list --upgradable' to see them.\n",
      "Reading package lists...\n",
      "Building dependency tree...\n",
      "Reading state information...\n",
      "The following additional packages will be installed:\n",
      "  libcap2-bin libpam-cap\n",
      "The following NEW packages will be installed:\n",
      "  iputils-ping libcap2-bin libpam-cap\n",
      "0 upgraded, 3 newly installed, 0 to remove and 86 not upgraded.\n",
      "Need to get 97.2 kB of archives.\n",
      "After this operation, 282 kB of additional disk space will be used.\n",
      "Get:1 http://kali.download/kali kali-rolling/main amd64 libcap2-bin amd64 1:2.44-1 [32.6 kB]\n",
      "Get:2 http://kali.download/kali kali-rolling/main amd64 iputils-ping amd64 3:20200821-2 [49.2 kB]\n",
      "Get:3 http://kali.download/kali kali-rolling/main amd64 libpam-cap amd64 1:2.44-1 [15.4 kB]\n",
      "Fetched 97.2 kB in 1s (158 kB/s)\n",
      "Selecting previously unselected package libcap2-bin.\r\n",
      "(Reading database ... \r",
      "(Reading database ... 5%\r",
      "(Reading database ... 10%\r",
      "(Reading database ... 15%\r",
      "(Reading database ... 20%\r",
      "(Reading database ... 25%\r",
      "(Reading database ... 30%\r",
      "(Reading database ... 35%\r",
      "(Reading database ... 40%\r",
      "(Reading database ... 45%\r",
      "(Reading database ... 50%\r",
      "(Reading database ... 55%\r",
      "(Reading database ... 60%\r",
      "(Reading database ... 65%\r",
      "(Reading database ... 70%\r",
      "(Reading database ... 75%\r",
      "(Reading database ... 80%\r",
      "(Reading database ... 85%\r",
      "(Reading database ... 90%\r",
      "(Reading database ... 95%\r",
      "(Reading database ... 100%\r",
      "(Reading database ... 69487 files and directories currently installed.)\r\n",
      "Preparing to unpack .../libcap2-bin_1%3a2.44-1_amd64.deb ...\r\n",
      "Unpacking libcap2-bin (1:2.44-1) ...\r\n",
      "Selecting previously unselected package iputils-ping.\r\n",
      "Preparing to unpack .../iputils-ping_3%3a20200821-2_amd64.deb ...\r\n",
      "Unpacking iputils-ping (3:20200821-2) ...\r\n",
      "Selecting previously unselected package libpam-cap:amd64.\r\n",
      "Preparing to unpack .../libpam-cap_1%3a2.44-1_amd64.deb ...\r\n",
      "Unpacking libpam-cap:amd64 (1:2.44-1) ...\r\n",
      "Setting up libcap2-bin (1:2.44-1) ...\r\n",
      "Setting up libpam-cap:amd64 (1:2.44-1) ...\r\n",
      "debconf: unable to initialize frontend: Dialog\r\n",
      "debconf: (No usable dialog-like program is installed, so the dialog based frontend cannot be used. at /usr/share/perl5/Debconf/FrontEnd/Dialog.pm line 76.)\r\n",
      "debconf: falling back to frontend: Readline\r\n",
      "Setting up iputils-ping (3:20200821-2) ...\r\n"
     ]
    },
    {
     "name": "stderr",
     "output_type": "stream",
     "text": [
      "\n",
      "WARNING: apt does not have a stable CLI interface. Use with caution in scripts.\n",
      "\n",
      "\n",
      "WARNING: apt does not have a stable CLI interface. Use with caution in scripts.\n",
      "\n",
      "debconf: delaying package configuration, since apt-utils is not installed\n"
     ]
    }
   ],
   "source": [
    "%%bash\n",
    "sudo apt update\n",
    "sudo apt -y install iputils-ping"
   ]
  },
  {
   "cell_type": "code",
   "execution_count": 30,
   "metadata": {},
   "outputs": [
    {
     "name": "stdout",
     "output_type": "stream",
     "text": [
      "PING wordpress (10.0.2.30) 56(84) bytes of data.\n",
      "64 bytes from socaas_jenkins-testing_master2_wordpress_1.main-overlay (10.0.2.30): icmp_seq=1 ttl=64 time=0.035 ms\n",
      "64 bytes from socaas_jenkins-testing_master2_wordpress_1.main-overlay (10.0.2.30): icmp_seq=2 ttl=64 time=0.079 ms\n",
      "64 bytes from socaas_jenkins-testing_master2_wordpress_1.main-overlay (10.0.2.30): icmp_seq=3 ttl=64 time=0.066 ms\n",
      "64 bytes from socaas_jenkins-testing_master2_wordpress_1.main-overlay (10.0.2.30): icmp_seq=4 ttl=64 time=0.069 ms\n",
      "\n",
      "--- wordpress ping statistics ---\n",
      "4 packets transmitted, 4 received, 0% packet loss, time 3080ms\n",
      "rtt min/avg/max/mdev = 0.035/0.062/0.079/0.016 ms\n"
     ]
    }
   ],
   "source": [
    "%%bash\n",
    "ping -c 4 wordpress"
   ]
  },
  {
   "cell_type": "code",
   "execution_count": 1,
   "metadata": {},
   "outputs": [
    {
     "name": "stdout",
     "output_type": "stream",
     "text": [
      "PING 10.0.2.30 (10.0.2.30) 56(84) bytes of data.\n",
      "64 bytes from 10.0.2.30: icmp_seq=1 ttl=64 time=0.105 ms\n",
      "64 bytes from 10.0.2.30: icmp_seq=2 ttl=64 time=0.052 ms\n",
      "64 bytes from 10.0.2.30: icmp_seq=3 ttl=64 time=0.067 ms\n",
      "64 bytes from 10.0.2.30: icmp_seq=4 ttl=64 time=0.073 ms\n",
      "\n",
      "--- 10.0.2.30 ping statistics ---\n",
      "4 packets transmitted, 4 received, 0% packet loss, time 3078ms\n",
      "rtt min/avg/max/mdev = 0.052/0.074/0.105/0.019 ms\n"
     ]
    }
   ],
   "source": [
    "%%bash\n",
    "ping -c 4 10.0.2.30"
   ]
  },
  {
   "cell_type": "code",
   "execution_count": 3,
   "metadata": {},
   "outputs": [
    {
     "name": "stdout",
     "output_type": "stream",
     "text": [
      "HTTP/1.1 301 Moved Permanently\r\n",
      "Date: Thu, 14 Jan 2021 07:22:45 GMT\r\n",
      "Server: Apache/2.4.38 (Debian)\r\n",
      "X-Powered-By: PHP/7.4.14\r\n",
      "cf-edge-cache: cache,platform=wordpress\r\n",
      "X-Redirect-By: WordPress\r\n",
      "Location: https://wordpress-uow.1ez.xyz/\r\n",
      "Content-Length: 0\r\n",
      "Content-Type: text/html; charset=UTF-8\r\n",
      "\r\n"
     ]
    },
    {
     "name": "stderr",
     "output_type": "stream",
     "text": [
      "  % Total    % Received % Xferd  Average Speed   Time    Time     Time  Current\n",
      "                                 Dload  Upload   Total   Spent    Left  Speed\n",
      "\r",
      "  0     0    0     0    0     0      0      0 --:--:-- --:--:-- --:--:--     0\r",
      "  0     0    0     0    0     0      0      0 --:--:-- --:--:-- --:--:--     0\n"
     ]
    }
   ],
   "source": [
    "%%bash\n",
    "curl -i 10.0.2.30"
   ]
  },
  {
   "cell_type": "code",
   "execution_count": 2,
   "metadata": {},
   "outputs": [
    {
     "name": "stdout",
     "output_type": "stream",
     "text": [
      "Starting Nmap 7.91 ( https://nmap.org ) at 2021-01-15 12:17 UTC\n",
      "Nmap scan report for ezechial.ddns.net (139.255.134.56)\n",
      "Host is up (0.20s latency).\n",
      "rDNS record for 139.255.134.56: ln-static-139-255-134-56.link.net.id\n",
      "Not shown: 999 filtered ports\n",
      "PORT     STATE SERVICE VERSION\n",
      "2022/tcp open  ssh     MikroTik RouterOS sshd (protocol 2.0)\n",
      "| ssh-hostkey: \n",
      "|   1024 ed:01:0c:d7:d9:13:57:f9:87:19:97:04:87:6c:d7:df (DSA)\n",
      "|_  2048 df:1a:ca:a5:bf:98:11:cf:14:00:38:5b:a5:97:2c:8f (RSA)\n",
      "Service Info: OS: Linux; Device: router; CPE: cpe:/o:mikrotik:routeros\n",
      "\n",
      "Service detection performed. Please report any incorrect results at https://nmap.org/submit/ .\n",
      "Nmap done: 1 IP address (1 host up) scanned in 94.24 seconds\n"
     ]
    },
    {
     "name": "stderr",
     "output_type": "stream",
     "text": [
      "Host discovery disabled (-Pn). All addresses will be marked 'up' and scan times will be slower.\n"
     ]
    }
   ],
   "source": [
    "%%bash\n",
    "nmap -A -Pn ezechial.ddns.net"
   ]
  },
  {
   "cell_type": "code",
   "execution_count": null,
   "metadata": {},
   "outputs": [],
   "source": []
  }
 ],
 "metadata": {
  "kernelspec": {
   "display_name": "Python 3",
   "language": "python",
   "name": "python3"
  },
  "language_info": {
   "codemirror_mode": {
    "name": "ipython",
    "version": 3
   },
   "file_extension": ".py",
   "mimetype": "text/x-python",
   "name": "python",
   "nbconvert_exporter": "python",
   "pygments_lexer": "ipython3",
   "version": "3.8.7"
  }
 },
 "nbformat": 4,
 "nbformat_minor": 4
}
