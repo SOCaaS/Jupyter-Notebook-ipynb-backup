{
 "cells": [
  {
   "cell_type": "markdown",
   "metadata": {},
   "source": [
    "# Attack the filebeat\n",
    "To get log data support on ELK Stack\n",
    "\n",
    "## Installing Nmap"
   ]
  },
  {
   "cell_type": "code",
   "execution_count": 2,
   "metadata": {
    "scrolled": true
   },
   "outputs": [
    {
     "name": "stdout",
     "output_type": "stream",
     "text": [
      "Get:1 http://kali.download/kali kali-rolling InRelease [30.5 kB]\n",
      "Get:2 http://kali.download/kali kali-rolling/contrib amd64 Packages [104 kB]\n",
      "Get:3 http://kali.download/kali kali-rolling/non-free amd64 Packages [203 kB]\n",
      "Get:4 http://kali.download/kali kali-rolling/main amd64 Packages [17.6 MB]\n",
      "Fetched 17.9 MB in 2s (9548 kB/s)\n",
      "Reading package lists...\n",
      "Building dependency tree...\n",
      "Reading state information...\n",
      "162 packages can be upgraded. Run 'apt list --upgradable' to see them.\n",
      "Reading package lists...\n",
      "Building dependency tree...\n",
      "Reading state information...\n",
      "The following additional packages will be installed:\n",
      "  libblas3 liblinear4 lua-lpeg nmap-common\n",
      "Suggested packages:\n",
      "  liblinear-tools liblinear-dev ncat ndiff zenmap\n",
      "The following NEW packages will be installed:\n",
      "  libblas3 liblinear4 lua-lpeg nmap nmap-common\n",
      "0 upgraded, 5 newly installed, 0 to remove and 162 not upgraded.\n",
      "Need to get 6278 kB of archives.\n",
      "After this operation, 27.1 MB of additional disk space will be used.\n",
      "Get:1 http://kali.download/kali kali-rolling/main amd64 libblas3 amd64 3.9.0-3 [153 kB]\n",
      "Get:2 http://kali.download/kali kali-rolling/main amd64 liblinear4 amd64 2.3.0+dfsg-5 [43.6 kB]\n",
      "Get:3 http://kali.download/kali kali-rolling/main amd64 lua-lpeg amd64 1.0.2-1 [33.3 kB]\n",
      "Get:4 http://kali.download/kali kali-rolling/main amd64 nmap-common all 7.91+dfsg1-1kali1 [4040 kB]\n",
      "Get:5 http://kali.download/kali kali-rolling/main amd64 nmap amd64 7.91+dfsg1-1kali1 [2007 kB]\n",
      "Fetched 6278 kB in 1s (7040 kB/s)\n",
      "Selecting previously unselected package libblas3:amd64.\r\n",
      "(Reading database ... \r",
      "(Reading database ... 5%\r",
      "(Reading database ... 10%\r",
      "(Reading database ... 15%\r",
      "(Reading database ... 20%\r",
      "(Reading database ... 25%\r",
      "(Reading database ... 30%\r",
      "(Reading database ... 35%\r",
      "(Reading database ... 40%\r",
      "(Reading database ... 45%\r",
      "(Reading database ... 50%\r",
      "(Reading database ... 55%\r",
      "(Reading database ... 60%\r",
      "(Reading database ... 65%\r",
      "(Reading database ... 70%\r",
      "(Reading database ... 75%\r",
      "(Reading database ... 80%\r",
      "(Reading database ... 85%\r",
      "(Reading database ... 90%\r",
      "(Reading database ... 95%\r",
      "(Reading database ... 100%\r",
      "(Reading database ... 66147 files and directories currently installed.)\r\n",
      "Preparing to unpack .../libblas3_3.9.0-3_amd64.deb ...\r\n",
      "Unpacking libblas3:amd64 (3.9.0-3) ...\r\n",
      "Selecting previously unselected package liblinear4:amd64.\r\n",
      "Preparing to unpack .../liblinear4_2.3.0+dfsg-5_amd64.deb ...\r\n",
      "Unpacking liblinear4:amd64 (2.3.0+dfsg-5) ...\r\n",
      "Selecting previously unselected package lua-lpeg:amd64.\r\n",
      "Preparing to unpack .../lua-lpeg_1.0.2-1_amd64.deb ...\r\n",
      "Unpacking lua-lpeg:amd64 (1.0.2-1) ...\r\n",
      "Selecting previously unselected package nmap-common.\r\n",
      "Preparing to unpack .../nmap-common_7.91+dfsg1-1kali1_all.deb ...\r\n",
      "Unpacking nmap-common (7.91+dfsg1-1kali1) ...\r\n",
      "Selecting previously unselected package nmap.\r\n",
      "Preparing to unpack .../nmap_7.91+dfsg1-1kali1_amd64.deb ...\r\n",
      "Unpacking nmap (7.91+dfsg1-1kali1) ...\r\n",
      "Setting up lua-lpeg:amd64 (1.0.2-1) ...\r\n",
      "Setting up libblas3:amd64 (3.9.0-3) ...\r\n",
      "update-alternatives: using /usr/lib/x86_64-linux-gnu/blas/libblas.so.3 to provide /usr/lib/x86_64-linux-gnu/libblas.so.3 (libblas.so.3-x86_64-linux-gnu) in auto mode\r\n",
      "Setting up nmap-common (7.91+dfsg1-1kali1) ...\r\n",
      "Setting up liblinear4:amd64 (2.3.0+dfsg-5) ...\r\n",
      "Setting up nmap (7.91+dfsg1-1kali1) ...\r\n",
      "Processing triggers for libc-bin (2.31-5) ...\r\n"
     ]
    },
    {
     "name": "stderr",
     "output_type": "stream",
     "text": [
      "\n",
      "WARNING: apt does not have a stable CLI interface. Use with caution in scripts.\n",
      "\n",
      "\n",
      "WARNING: apt does not have a stable CLI interface. Use with caution in scripts.\n",
      "\n",
      "debconf: delaying package configuration, since apt-utils is not installed\n"
     ]
    }
   ],
   "source": [
    "%%bash\n",
    "sudo apt update\n",
    "sudo apt -y install nmap"
   ]
  },
  {
   "cell_type": "markdown",
   "metadata": {},
   "source": [
    "## Do an Nmap to Server"
   ]
  },
  {
   "cell_type": "code",
   "execution_count": 5,
   "metadata": {},
   "outputs": [
    {
     "name": "stdout",
     "output_type": "stream",
     "text": [
      "Starting Nmap 7.91 ( https://nmap.org ) at 2021-01-30 06:19 UTC\n",
      "NSE: Loaded 153 scripts for scanning.\n",
      "NSE: Script Pre-scanning.\n",
      "Initiating NSE at 06:19\n",
      "Completed NSE at 06:19, 0.00s elapsed\n",
      "Initiating NSE at 06:19\n",
      "Completed NSE at 06:19, 0.00s elapsed\n",
      "Initiating NSE at 06:19\n",
      "Completed NSE at 06:19, 0.00s elapsed\n",
      "Initiating Ping Scan at 06:19\n",
      "Scanning filebeat (10.0.2.90) [2 ports]\n",
      "Completed Ping Scan at 06:19, 0.00s elapsed (1 total hosts)\n",
      "Initiating Parallel DNS resolution of 1 host. at 06:19\n",
      "Completed Parallel DNS resolution of 1 host. at 06:19, 0.00s elapsed\n",
      "Initiating Connect Scan at 06:19\n",
      "Scanning filebeat (10.0.2.90) [1000 ports]\n",
      "Completed Connect Scan at 06:19, 0.02s elapsed (1000 total ports)\n",
      "Initiating Service scan at 06:19\n",
      "NSE: Script scanning 10.0.2.90.\n",
      "Initiating NSE at 06:19\n",
      "Completed NSE at 06:19, 0.00s elapsed\n",
      "Initiating NSE at 06:19\n",
      "Completed NSE at 06:19, 0.00s elapsed\n",
      "Initiating NSE at 06:19\n",
      "Completed NSE at 06:19, 0.00s elapsed\n",
      "Nmap scan report for filebeat (10.0.2.90)\n",
      "Host is up (0.000096s latency).\n",
      "rDNS record for 10.0.2.90: filebeat_filebeat_1.main-overlay\n",
      "All 1000 scanned ports on filebeat (10.0.2.90) are closed\n",
      "\n",
      "NSE: Script Post-scanning.\n",
      "Initiating NSE at 06:19\n",
      "Completed NSE at 06:19, 0.00s elapsed\n",
      "Initiating NSE at 06:19\n",
      "Completed NSE at 06:19, 0.00s elapsed\n",
      "Initiating NSE at 06:19\n",
      "Completed NSE at 06:19, 0.00s elapsed\n",
      "Read data files from: /usr/bin/../share/nmap\n",
      "Service detection performed. Please report any incorrect results at https://nmap.org/submit/ .\n",
      "Nmap done: 1 IP address (1 host up) scanned in 0.41 seconds\n"
     ]
    }
   ],
   "source": [
    "%%bash\n",
    "nmap -v -A filebeat"
   ]
  },
  {
   "cell_type": "markdown",
   "metadata": {},
   "source": [
    "## Install Curl"
   ]
  },
  {
   "cell_type": "code",
   "execution_count": 7,
   "metadata": {},
   "outputs": [
    {
     "name": "stdout",
     "output_type": "stream",
     "text": [
      "Hit:1 http://kali.download/kali kali-rolling InRelease\n",
      "Reading package lists...\n",
      "Building dependency tree...\n",
      "Reading state information...\n",
      "162 packages can be upgraded. Run 'apt list --upgradable' to see them.\n",
      "Reading package lists...\n",
      "Building dependency tree...\n",
      "Reading state information...\n",
      "The following additional packages will be installed:\n",
      "  libcurl4\n",
      "The following NEW packages will be installed:\n",
      "  curl libcurl4\n",
      "0 upgraded, 2 newly installed, 0 to remove and 162 not upgraded.\n",
      "Need to get 608 kB of archives.\n",
      "After this operation, 1186 kB of additional disk space will be used.\n",
      "Get:1 http://kali.download/kali kali-rolling/main amd64 libcurl4 amd64 7.74.0-1 [341 kB]\n",
      "Get:2 http://kali.download/kali kali-rolling/main amd64 curl amd64 7.74.0-1 [267 kB]\n",
      "Fetched 608 kB in 0s (1233 kB/s)\n",
      "Selecting previously unselected package libcurl4:amd64.\r\n",
      "(Reading database ... \r",
      "(Reading database ... 5%\r",
      "(Reading database ... 10%\r",
      "(Reading database ... 15%\r",
      "(Reading database ... 20%\r",
      "(Reading database ... 25%\r",
      "(Reading database ... 30%\r",
      "(Reading database ... 35%\r",
      "(Reading database ... 40%\r",
      "(Reading database ... 45%\r",
      "(Reading database ... 50%\r",
      "(Reading database ... 55%\r",
      "(Reading database ... 60%\r",
      "(Reading database ... 65%\r",
      "(Reading database ... 70%\r",
      "(Reading database ... 75%\r",
      "(Reading database ... 80%\r",
      "(Reading database ... 85%\r",
      "(Reading database ... 90%\r",
      "(Reading database ... 95%\r",
      "(Reading database ... 100%\r",
      "(Reading database ... 67036 files and directories currently installed.)\r\n",
      "Preparing to unpack .../libcurl4_7.74.0-1_amd64.deb ...\r\n",
      "Unpacking libcurl4:amd64 (7.74.0-1) ...\r\n",
      "Selecting previously unselected package curl.\r\n",
      "Preparing to unpack .../curl_7.74.0-1_amd64.deb ...\r\n",
      "Unpacking curl (7.74.0-1) ...\r\n",
      "Setting up libcurl4:amd64 (7.74.0-1) ...\r\n",
      "Setting up curl (7.74.0-1) ...\r\n",
      "Processing triggers for libc-bin (2.31-5) ...\r\n"
     ]
    },
    {
     "name": "stderr",
     "output_type": "stream",
     "text": [
      "\n",
      "WARNING: apt does not have a stable CLI interface. Use with caution in scripts.\n",
      "\n",
      "\n",
      "WARNING: apt does not have a stable CLI interface. Use with caution in scripts.\n",
      "\n",
      "debconf: delaying package configuration, since apt-utils is not installed\n"
     ]
    }
   ],
   "source": [
    "%%bash\n",
    "sudo apt update\n",
    "sudo apt install curl -y"
   ]
  },
  {
   "cell_type": "code",
   "execution_count": 8,
   "metadata": {},
   "outputs": [
    {
     "name": "stderr",
     "output_type": "stream",
     "text": [
      "  % Total    % Received % Xferd  Average Speed   Time    Time     Time  Current\n",
      "                                 Dload  Upload   Total   Spent    Left  Speed\n",
      "\r",
      "  0     0    0     0    0     0      0      0 --:--:-- --:--:-- --:--:--     0\r",
      "  0     0    0     0    0     0      0      0 --:--:-- --:--:-- --:--:--     0\n",
      "curl: (7) Failed to connect to filebeat port 80: Connection refused\n"
     ]
    },
    {
     "ename": "CalledProcessError",
     "evalue": "Command 'b'curl http://filebeat\\n'' returned non-zero exit status 7.",
     "output_type": "error",
     "traceback": [
      "\u001b[0;31m---------------------------------------------------------------------------\u001b[0m",
      "\u001b[0;31mCalledProcessError\u001b[0m                        Traceback (most recent call last)",
      "\u001b[0;32m<ipython-input-8-eba5f3655b01>\u001b[0m in \u001b[0;36m<module>\u001b[0;34m\u001b[0m\n\u001b[0;32m----> 1\u001b[0;31m \u001b[0mget_ipython\u001b[0m\u001b[0;34m(\u001b[0m\u001b[0;34m)\u001b[0m\u001b[0;34m.\u001b[0m\u001b[0mrun_cell_magic\u001b[0m\u001b[0;34m(\u001b[0m\u001b[0;34m'bash'\u001b[0m\u001b[0;34m,\u001b[0m \u001b[0;34m''\u001b[0m\u001b[0;34m,\u001b[0m \u001b[0;34m'curl http://filebeat\\n'\u001b[0m\u001b[0;34m)\u001b[0m\u001b[0;34m\u001b[0m\u001b[0;34m\u001b[0m\u001b[0m\n\u001b[0m",
      "\u001b[0;32m/usr/local/lib/python3.8/dist-packages/IPython/core/interactiveshell.py\u001b[0m in \u001b[0;36mrun_cell_magic\u001b[0;34m(self, magic_name, line, cell)\u001b[0m\n\u001b[1;32m   2380\u001b[0m             \u001b[0;32mwith\u001b[0m \u001b[0mself\u001b[0m\u001b[0;34m.\u001b[0m\u001b[0mbuiltin_trap\u001b[0m\u001b[0;34m:\u001b[0m\u001b[0;34m\u001b[0m\u001b[0;34m\u001b[0m\u001b[0m\n\u001b[1;32m   2381\u001b[0m                 \u001b[0margs\u001b[0m \u001b[0;34m=\u001b[0m \u001b[0;34m(\u001b[0m\u001b[0mmagic_arg_s\u001b[0m\u001b[0;34m,\u001b[0m \u001b[0mcell\u001b[0m\u001b[0;34m)\u001b[0m\u001b[0;34m\u001b[0m\u001b[0;34m\u001b[0m\u001b[0m\n\u001b[0;32m-> 2382\u001b[0;31m                 \u001b[0mresult\u001b[0m \u001b[0;34m=\u001b[0m \u001b[0mfn\u001b[0m\u001b[0;34m(\u001b[0m\u001b[0;34m*\u001b[0m\u001b[0margs\u001b[0m\u001b[0;34m,\u001b[0m \u001b[0;34m**\u001b[0m\u001b[0mkwargs\u001b[0m\u001b[0;34m)\u001b[0m\u001b[0;34m\u001b[0m\u001b[0;34m\u001b[0m\u001b[0m\n\u001b[0m\u001b[1;32m   2383\u001b[0m             \u001b[0;32mreturn\u001b[0m \u001b[0mresult\u001b[0m\u001b[0;34m\u001b[0m\u001b[0;34m\u001b[0m\u001b[0m\n\u001b[1;32m   2384\u001b[0m \u001b[0;34m\u001b[0m\u001b[0m\n",
      "\u001b[0;32m/usr/local/lib/python3.8/dist-packages/IPython/core/magics/script.py\u001b[0m in \u001b[0;36mnamed_script_magic\u001b[0;34m(line, cell)\u001b[0m\n\u001b[1;32m    140\u001b[0m             \u001b[0;32melse\u001b[0m\u001b[0;34m:\u001b[0m\u001b[0;34m\u001b[0m\u001b[0;34m\u001b[0m\u001b[0m\n\u001b[1;32m    141\u001b[0m                 \u001b[0mline\u001b[0m \u001b[0;34m=\u001b[0m \u001b[0mscript\u001b[0m\u001b[0;34m\u001b[0m\u001b[0;34m\u001b[0m\u001b[0m\n\u001b[0;32m--> 142\u001b[0;31m             \u001b[0;32mreturn\u001b[0m \u001b[0mself\u001b[0m\u001b[0;34m.\u001b[0m\u001b[0mshebang\u001b[0m\u001b[0;34m(\u001b[0m\u001b[0mline\u001b[0m\u001b[0;34m,\u001b[0m \u001b[0mcell\u001b[0m\u001b[0;34m)\u001b[0m\u001b[0;34m\u001b[0m\u001b[0;34m\u001b[0m\u001b[0m\n\u001b[0m\u001b[1;32m    143\u001b[0m \u001b[0;34m\u001b[0m\u001b[0m\n\u001b[1;32m    144\u001b[0m         \u001b[0;31m# write a basic docstring:\u001b[0m\u001b[0;34m\u001b[0m\u001b[0;34m\u001b[0m\u001b[0;34m\u001b[0m\u001b[0m\n",
      "\u001b[0;32m<decorator-gen-103>\u001b[0m in \u001b[0;36mshebang\u001b[0;34m(self, line, cell)\u001b[0m\n",
      "\u001b[0;32m/usr/local/lib/python3.8/dist-packages/IPython/core/magic.py\u001b[0m in \u001b[0;36m<lambda>\u001b[0;34m(f, *a, **k)\u001b[0m\n\u001b[1;32m    185\u001b[0m     \u001b[0;31m# but it's overkill for just that one bit of state.\u001b[0m\u001b[0;34m\u001b[0m\u001b[0;34m\u001b[0m\u001b[0;34m\u001b[0m\u001b[0m\n\u001b[1;32m    186\u001b[0m     \u001b[0;32mdef\u001b[0m \u001b[0mmagic_deco\u001b[0m\u001b[0;34m(\u001b[0m\u001b[0marg\u001b[0m\u001b[0;34m)\u001b[0m\u001b[0;34m:\u001b[0m\u001b[0;34m\u001b[0m\u001b[0;34m\u001b[0m\u001b[0m\n\u001b[0;32m--> 187\u001b[0;31m         \u001b[0mcall\u001b[0m \u001b[0;34m=\u001b[0m \u001b[0;32mlambda\u001b[0m \u001b[0mf\u001b[0m\u001b[0;34m,\u001b[0m \u001b[0;34m*\u001b[0m\u001b[0ma\u001b[0m\u001b[0;34m,\u001b[0m \u001b[0;34m**\u001b[0m\u001b[0mk\u001b[0m\u001b[0;34m:\u001b[0m \u001b[0mf\u001b[0m\u001b[0;34m(\u001b[0m\u001b[0;34m*\u001b[0m\u001b[0ma\u001b[0m\u001b[0;34m,\u001b[0m \u001b[0;34m**\u001b[0m\u001b[0mk\u001b[0m\u001b[0;34m)\u001b[0m\u001b[0;34m\u001b[0m\u001b[0;34m\u001b[0m\u001b[0m\n\u001b[0m\u001b[1;32m    188\u001b[0m \u001b[0;34m\u001b[0m\u001b[0m\n\u001b[1;32m    189\u001b[0m         \u001b[0;32mif\u001b[0m \u001b[0mcallable\u001b[0m\u001b[0;34m(\u001b[0m\u001b[0marg\u001b[0m\u001b[0;34m)\u001b[0m\u001b[0;34m:\u001b[0m\u001b[0;34m\u001b[0m\u001b[0;34m\u001b[0m\u001b[0m\n",
      "\u001b[0;32m/usr/local/lib/python3.8/dist-packages/IPython/core/magics/script.py\u001b[0m in \u001b[0;36mshebang\u001b[0;34m(self, line, cell)\u001b[0m\n\u001b[1;32m    243\u001b[0m             \u001b[0msys\u001b[0m\u001b[0;34m.\u001b[0m\u001b[0mstderr\u001b[0m\u001b[0;34m.\u001b[0m\u001b[0mflush\u001b[0m\u001b[0;34m(\u001b[0m\u001b[0;34m)\u001b[0m\u001b[0;34m\u001b[0m\u001b[0;34m\u001b[0m\u001b[0m\n\u001b[1;32m    244\u001b[0m         \u001b[0;32mif\u001b[0m \u001b[0margs\u001b[0m\u001b[0;34m.\u001b[0m\u001b[0mraise_error\u001b[0m \u001b[0;32mand\u001b[0m \u001b[0mp\u001b[0m\u001b[0;34m.\u001b[0m\u001b[0mreturncode\u001b[0m\u001b[0;34m!=\u001b[0m\u001b[0;36m0\u001b[0m\u001b[0;34m:\u001b[0m\u001b[0;34m\u001b[0m\u001b[0;34m\u001b[0m\u001b[0m\n\u001b[0;32m--> 245\u001b[0;31m             \u001b[0;32mraise\u001b[0m \u001b[0mCalledProcessError\u001b[0m\u001b[0;34m(\u001b[0m\u001b[0mp\u001b[0m\u001b[0;34m.\u001b[0m\u001b[0mreturncode\u001b[0m\u001b[0;34m,\u001b[0m \u001b[0mcell\u001b[0m\u001b[0;34m,\u001b[0m \u001b[0moutput\u001b[0m\u001b[0;34m=\u001b[0m\u001b[0mout\u001b[0m\u001b[0;34m,\u001b[0m \u001b[0mstderr\u001b[0m\u001b[0;34m=\u001b[0m\u001b[0merr\u001b[0m\u001b[0;34m)\u001b[0m\u001b[0;34m\u001b[0m\u001b[0;34m\u001b[0m\u001b[0m\n\u001b[0m\u001b[1;32m    246\u001b[0m \u001b[0;34m\u001b[0m\u001b[0m\n\u001b[1;32m    247\u001b[0m     \u001b[0;32mdef\u001b[0m \u001b[0m_run_script\u001b[0m\u001b[0;34m(\u001b[0m\u001b[0mself\u001b[0m\u001b[0;34m,\u001b[0m \u001b[0mp\u001b[0m\u001b[0;34m,\u001b[0m \u001b[0mcell\u001b[0m\u001b[0;34m,\u001b[0m \u001b[0mto_close\u001b[0m\u001b[0;34m)\u001b[0m\u001b[0;34m:\u001b[0m\u001b[0;34m\u001b[0m\u001b[0;34m\u001b[0m\u001b[0m\n",
      "\u001b[0;31mCalledProcessError\u001b[0m: Command 'b'curl http://filebeat\\n'' returned non-zero exit status 7."
     ]
    }
   ],
   "source": [
    "%%bash\n",
    "curl http://filebeat"
   ]
  },
  {
   "cell_type": "code",
   "execution_count": null,
   "metadata": {},
   "outputs": [],
   "source": []
  }
 ],
 "metadata": {
  "kernelspec": {
   "display_name": "Python 3",
   "language": "python",
   "name": "python3"
  },
  "language_info": {
   "codemirror_mode": {
    "name": "ipython",
    "version": 3
   },
   "file_extension": ".py",
   "mimetype": "text/x-python",
   "name": "python",
   "nbconvert_exporter": "python",
   "pygments_lexer": "ipython3",
   "version": "3.8.7"
  }
 },
 "nbformat": 4,
 "nbformat_minor": 4
}
