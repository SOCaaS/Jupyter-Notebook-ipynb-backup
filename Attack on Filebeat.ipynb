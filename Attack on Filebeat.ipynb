{
 "cells": [
  {
   "cell_type": "markdown",
   "metadata": {},
   "source": [
    "# Attack the filebeat\n",
    "To get log data support on ELK Stack\n",
    "\n",
    "## Installing Nmap"
   ]
  },
  {
   "cell_type": "code",
   "execution_count": 2,
   "metadata": {
    "scrolled": true
   },
   "outputs": [
    {
     "name": "stdout",
     "output_type": "stream",
     "text": [
      "Get:1 http://kali.download/kali kali-rolling InRelease [30.5 kB]\n",
      "Get:2 http://kali.download/kali kali-rolling/contrib amd64 Packages [104 kB]\n",
      "Get:3 http://kali.download/kali kali-rolling/non-free amd64 Packages [203 kB]\n",
      "Get:4 http://kali.download/kali kali-rolling/main amd64 Packages [17.6 MB]\n",
      "Fetched 17.9 MB in 2s (9548 kB/s)\n",
      "Reading package lists...\n",
      "Building dependency tree...\n",
      "Reading state information...\n",
      "162 packages can be upgraded. Run 'apt list --upgradable' to see them.\n",
      "Reading package lists...\n",
      "Building dependency tree...\n",
      "Reading state information...\n",
      "The following additional packages will be installed:\n",
      "  libblas3 liblinear4 lua-lpeg nmap-common\n",
      "Suggested packages:\n",
      "  liblinear-tools liblinear-dev ncat ndiff zenmap\n",
      "The following NEW packages will be installed:\n",
      "  libblas3 liblinear4 lua-lpeg nmap nmap-common\n",
      "0 upgraded, 5 newly installed, 0 to remove and 162 not upgraded.\n",
      "Need to get 6278 kB of archives.\n",
      "After this operation, 27.1 MB of additional disk space will be used.\n",
      "Get:1 http://kali.download/kali kali-rolling/main amd64 libblas3 amd64 3.9.0-3 [153 kB]\n",
      "Get:2 http://kali.download/kali kali-rolling/main amd64 liblinear4 amd64 2.3.0+dfsg-5 [43.6 kB]\n",
      "Get:3 http://kali.download/kali kali-rolling/main amd64 lua-lpeg amd64 1.0.2-1 [33.3 kB]\n",
      "Get:4 http://kali.download/kali kali-rolling/main amd64 nmap-common all 7.91+dfsg1-1kali1 [4040 kB]\n",
      "Get:5 http://kali.download/kali kali-rolling/main amd64 nmap amd64 7.91+dfsg1-1kali1 [2007 kB]\n",
      "Fetched 6278 kB in 1s (7040 kB/s)\n",
      "Selecting previously unselected package libblas3:amd64.\r\n",
      "(Reading database ... \r",
      "(Reading database ... 5%\r",
      "(Reading database ... 10%\r",
      "(Reading database ... 15%\r",
      "(Reading database ... 20%\r",
      "(Reading database ... 25%\r",
      "(Reading database ... 30%\r",
      "(Reading database ... 35%\r",
      "(Reading database ... 40%\r",
      "(Reading database ... 45%\r",
      "(Reading database ... 50%\r",
      "(Reading database ... 55%\r",
      "(Reading database ... 60%\r",
      "(Reading database ... 65%\r",
      "(Reading database ... 70%\r",
      "(Reading database ... 75%\r",
      "(Reading database ... 80%\r",
      "(Reading database ... 85%\r",
      "(Reading database ... 90%\r",
      "(Reading database ... 95%\r",
      "(Reading database ... 100%\r",
      "(Reading database ... 66147 files and directories currently installed.)\r\n",
      "Preparing to unpack .../libblas3_3.9.0-3_amd64.deb ...\r\n",
      "Unpacking libblas3:amd64 (3.9.0-3) ...\r\n",
      "Selecting previously unselected package liblinear4:amd64.\r\n",
      "Preparing to unpack .../liblinear4_2.3.0+dfsg-5_amd64.deb ...\r\n",
      "Unpacking liblinear4:amd64 (2.3.0+dfsg-5) ...\r\n",
      "Selecting previously unselected package lua-lpeg:amd64.\r\n",
      "Preparing to unpack .../lua-lpeg_1.0.2-1_amd64.deb ...\r\n",
      "Unpacking lua-lpeg:amd64 (1.0.2-1) ...\r\n",
      "Selecting previously unselected package nmap-common.\r\n",
      "Preparing to unpack .../nmap-common_7.91+dfsg1-1kali1_all.deb ...\r\n",
      "Unpacking nmap-common (7.91+dfsg1-1kali1) ...\r\n",
      "Selecting previously unselected package nmap.\r\n",
      "Preparing to unpack .../nmap_7.91+dfsg1-1kali1_amd64.deb ...\r\n",
      "Unpacking nmap (7.91+dfsg1-1kali1) ...\r\n",
      "Setting up lua-lpeg:amd64 (1.0.2-1) ...\r\n",
      "Setting up libblas3:amd64 (3.9.0-3) ...\r\n",
      "update-alternatives: using /usr/lib/x86_64-linux-gnu/blas/libblas.so.3 to provide /usr/lib/x86_64-linux-gnu/libblas.so.3 (libblas.so.3-x86_64-linux-gnu) in auto mode\r\n",
      "Setting up nmap-common (7.91+dfsg1-1kali1) ...\r\n",
      "Setting up liblinear4:amd64 (2.3.0+dfsg-5) ...\r\n",
      "Setting up nmap (7.91+dfsg1-1kali1) ...\r\n",
      "Processing triggers for libc-bin (2.31-5) ...\r\n"
     ]
    },
    {
     "name": "stderr",
     "output_type": "stream",
     "text": [
      "\n",
      "WARNING: apt does not have a stable CLI interface. Use with caution in scripts.\n",
      "\n",
      "\n",
      "WARNING: apt does not have a stable CLI interface. Use with caution in scripts.\n",
      "\n",
      "debconf: delaying package configuration, since apt-utils is not installed\n"
     ]
    }
   ],
   "source": [
    "%%bash\n",
    "sudo apt update\n",
    "sudo apt -y install nmap"
   ]
  },
  {
   "cell_type": "markdown",
   "metadata": {},
   "source": [
    "## Do an Nmap to Server"
   ]
  },
  {
   "cell_type": "code",
   "execution_count": 4,
   "metadata": {
    "scrolled": true
   },
   "outputs": [
    {
     "name": "stdout",
     "output_type": "stream",
     "text": [
      "Starting Nmap 7.91 ( https://nmap.org ) at 2021-02-08 07:44 UTC\n",
      "NSE: Loaded 153 scripts for scanning.\n",
      "NSE: Script Pre-scanning.\n",
      "Initiating NSE at 07:44\n",
      "Completed NSE at 07:44, 0.00s elapsed\n",
      "Initiating NSE at 07:44\n",
      "Completed NSE at 07:44, 0.00s elapsed\n",
      "Initiating NSE at 07:44\n",
      "Completed NSE at 07:44, 0.00s elapsed\n",
      "Initiating Ping Scan at 07:44\n",
      "Scanning filebeat (10.0.2.90) [2 ports]\n",
      "Completed Ping Scan at 07:44, 0.00s elapsed (1 total hosts)\n",
      "Initiating Parallel DNS resolution of 1 host. at 07:44\n",
      "Completed Parallel DNS resolution of 1 host. at 07:44, 0.00s elapsed\n",
      "Initiating Connect Scan at 07:44\n",
      "Scanning filebeat (10.0.2.90) [1000 ports]\n",
      "Completed Connect Scan at 07:44, 0.01s elapsed (1000 total ports)\n",
      "Initiating Service scan at 07:45\n",
      "NSE: Script scanning 10.0.2.90.\n",
      "Initiating NSE at 07:45\n",
      "Completed NSE at 07:45, 0.00s elapsed\n",
      "Initiating NSE at 07:45\n",
      "Completed NSE at 07:45, 0.00s elapsed\n",
      "Initiating NSE at 07:45\n",
      "Completed NSE at 07:45, 0.00s elapsed\n",
      "Nmap scan report for filebeat (10.0.2.90)\n",
      "Host is up (0.000097s latency).\n",
      "rDNS record for 10.0.2.90: filebeat_filebeat_1.main-overlay\n",
      "All 1000 scanned ports on filebeat (10.0.2.90) are closed\n",
      "\n",
      "NSE: Script Post-scanning.\n",
      "Initiating NSE at 07:45\n",
      "Completed NSE at 07:45, 0.00s elapsed\n",
      "Initiating NSE at 07:45\n",
      "Completed NSE at 07:45, 0.00s elapsed\n",
      "Initiating NSE at 07:45\n",
      "Completed NSE at 07:45, 0.00s elapsed\n",
      "Read data files from: /usr/bin/../share/nmap\n",
      "Service detection performed. Please report any incorrect results at https://nmap.org/submit/ .\n",
      "Nmap done: 1 IP address (1 host up) scanned in 0.42 seconds\n"
     ]
    }
   ],
   "source": [
    "%%bash\n",
    "nmap -v -A filebeat"
   ]
  },
  {
   "cell_type": "code",
   "execution_count": 1,
   "metadata": {
    "scrolled": false
   },
   "outputs": [
    {
     "name": "stdout",
     "output_type": "stream",
     "text": [
      "Starting Nmap 7.91 ( https://nmap.org ) at 2021-02-16 07:42 UTC\n",
      "Nmap scan report for filebeat (10.0.2.90)\n",
      "Host is up (0.000017s latency).\n",
      "rDNS record for 10.0.2.90: filebeat_filebeat_1.main-overlay\n",
      "All 65535 scanned ports on filebeat (10.0.2.90) are closed\n",
      "MAC Address: 02:42:0A:00:02:5A (Unknown)\n",
      "\n",
      "Nmap done: 1 IP address (1 host up) scanned in 1.67 seconds\n"
     ]
    }
   ],
   "source": [
    "%%bash\n",
    "sudo nmap -p- -sS -T4 filebeat"
   ]
  },
  {
   "cell_type": "code",
   "execution_count": 3,
   "metadata": {
    "scrolled": true
   },
   "outputs": [
    {
     "name": "stdout",
     "output_type": "stream",
     "text": [
      "Starting Nmap 7.91 ( https://nmap.org ) at 2021-02-11 10:54 UTC\n",
      "Nmap scan report for filebeat (10.0.2.90)\n",
      "Host is up (0.000050s latency).\n",
      "rDNS record for 10.0.2.90: filebeat_filebeat_1.main-overlay\n",
      "All 1000 scanned ports on filebeat (10.0.2.90) are closed\n",
      "MAC Address: 02:42:0A:00:02:5A (Unknown)\n",
      "Too many fingerprints match this host to give specific OS details\n",
      "Network Distance: 1 hop\n",
      "\n",
      "OS detection performed. Please report any incorrect results at https://nmap.org/submit/ .\n",
      "Nmap done: 1 IP address (1 host up) scanned in 1.85 seconds\n"
     ]
    }
   ],
   "source": [
    "%%bash\n",
    "#XMas Attack Nmap\n",
    "sudo nmap -O -T4 filebeat"
   ]
  },
  {
   "cell_type": "code",
   "execution_count": 2,
   "metadata": {},
   "outputs": [
    {
     "name": "stdout",
     "output_type": "stream",
     "text": [
      "Starting Nmap 7.91 ( https://nmap.org ) at 2021-02-16 07:48 UTC\n",
      "Nmap scan report for filebeat (10.0.2.90)\n",
      "Host is up (0.000022s latency).\n",
      "rDNS record for 10.0.2.90: filebeat_filebeat_1.main-overlay\n",
      "All 1000 scanned ports on filebeat (10.0.2.90) are closed\n",
      "MAC Address: 02:42:0A:00:02:5A (Unknown)\n",
      "\n",
      "Nmap done: 1 IP address (1 host up) scanned in 10.61 seconds\n"
     ]
    },
    {
     "name": "stderr",
     "output_type": "stream",
     "text": [
      "Host discovery disabled (-Pn). All addresses will be marked 'up' and scan times will be slower.\n"
     ]
    }
   ],
   "source": [
    "%%bash\n",
    "sudo nmap --script dos -sS -Pn filebeat"
   ]
  },
  {
   "cell_type": "markdown",
   "metadata": {},
   "source": [
    "## Install Curl"
   ]
  },
  {
   "cell_type": "code",
   "execution_count": 7,
   "metadata": {},
   "outputs": [
    {
     "name": "stdout",
     "output_type": "stream",
     "text": [
      "Hit:1 http://kali.download/kali kali-rolling InRelease\n",
      "Reading package lists...\n",
      "Building dependency tree...\n",
      "Reading state information...\n",
      "162 packages can be upgraded. Run 'apt list --upgradable' to see them.\n",
      "Reading package lists...\n",
      "Building dependency tree...\n",
      "Reading state information...\n",
      "The following additional packages will be installed:\n",
      "  libcurl4\n",
      "The following NEW packages will be installed:\n",
      "  curl libcurl4\n",
      "0 upgraded, 2 newly installed, 0 to remove and 162 not upgraded.\n",
      "Need to get 608 kB of archives.\n",
      "After this operation, 1186 kB of additional disk space will be used.\n",
      "Get:1 http://kali.download/kali kali-rolling/main amd64 libcurl4 amd64 7.74.0-1 [341 kB]\n",
      "Get:2 http://kali.download/kali kali-rolling/main amd64 curl amd64 7.74.0-1 [267 kB]\n",
      "Fetched 608 kB in 0s (1233 kB/s)\n",
      "Selecting previously unselected package libcurl4:amd64.\r\n",
      "(Reading database ... \r",
      "(Reading database ... 5%\r",
      "(Reading database ... 10%\r",
      "(Reading database ... 15%\r",
      "(Reading database ... 20%\r",
      "(Reading database ... 25%\r",
      "(Reading database ... 30%\r",
      "(Reading database ... 35%\r",
      "(Reading database ... 40%\r",
      "(Reading database ... 45%\r",
      "(Reading database ... 50%\r",
      "(Reading database ... 55%\r",
      "(Reading database ... 60%\r",
      "(Reading database ... 65%\r",
      "(Reading database ... 70%\r",
      "(Reading database ... 75%\r",
      "(Reading database ... 80%\r",
      "(Reading database ... 85%\r",
      "(Reading database ... 90%\r",
      "(Reading database ... 95%\r",
      "(Reading database ... 100%\r",
      "(Reading database ... 67036 files and directories currently installed.)\r\n",
      "Preparing to unpack .../libcurl4_7.74.0-1_amd64.deb ...\r\n",
      "Unpacking libcurl4:amd64 (7.74.0-1) ...\r\n",
      "Selecting previously unselected package curl.\r\n",
      "Preparing to unpack .../curl_7.74.0-1_amd64.deb ...\r\n",
      "Unpacking curl (7.74.0-1) ...\r\n",
      "Setting up libcurl4:amd64 (7.74.0-1) ...\r\n",
      "Setting up curl (7.74.0-1) ...\r\n",
      "Processing triggers for libc-bin (2.31-5) ...\r\n"
     ]
    },
    {
     "name": "stderr",
     "output_type": "stream",
     "text": [
      "\n",
      "WARNING: apt does not have a stable CLI interface. Use with caution in scripts.\n",
      "\n",
      "\n",
      "WARNING: apt does not have a stable CLI interface. Use with caution in scripts.\n",
      "\n",
      "debconf: delaying package configuration, since apt-utils is not installed\n"
     ]
    }
   ],
   "source": [
    "%%bash\n",
    "sudo apt update\n",
    "sudo apt install curl -y"
   ]
  },
  {
   "cell_type": "code",
   "execution_count": 4,
   "metadata": {},
   "outputs": [
    {
     "name": "stderr",
     "output_type": "stream",
     "text": [
      "  % Total    % Received % Xferd  Average Speed   Time    Time     Time  Current\n",
      "                                 Dload  Upload   Total   Spent    Left  Speed\n",
      "\r",
      "  0     0    0     0    0     0      0      0 --:--:-- --:--:-- --:--:--     0\r",
      "  0     0    0     0    0     0      0      0 --:--:-- --:--:-- --:--:--     0\n",
      "curl: (7) Failed to connect to filebeat port 80: Connection refused\n"
     ]
    },
    {
     "ename": "CalledProcessError",
     "evalue": "Command 'b'curl http://filebeat\\n'' returned non-zero exit status 7.",
     "output_type": "error",
     "traceback": [
      "\u001b[0;31m---------------------------------------------------------------------------\u001b[0m",
      "\u001b[0;31mCalledProcessError\u001b[0m                        Traceback (most recent call last)",
      "\u001b[0;32m<ipython-input-4-eba5f3655b01>\u001b[0m in \u001b[0;36m<module>\u001b[0;34m\u001b[0m\n\u001b[0;32m----> 1\u001b[0;31m \u001b[0mget_ipython\u001b[0m\u001b[0;34m(\u001b[0m\u001b[0;34m)\u001b[0m\u001b[0;34m.\u001b[0m\u001b[0mrun_cell_magic\u001b[0m\u001b[0;34m(\u001b[0m\u001b[0;34m'bash'\u001b[0m\u001b[0;34m,\u001b[0m \u001b[0;34m''\u001b[0m\u001b[0;34m,\u001b[0m \u001b[0;34m'curl http://filebeat\\n'\u001b[0m\u001b[0;34m)\u001b[0m\u001b[0;34m\u001b[0m\u001b[0;34m\u001b[0m\u001b[0m\n\u001b[0m",
      "\u001b[0;32m/usr/local/lib/python3.8/dist-packages/IPython/core/interactiveshell.py\u001b[0m in \u001b[0;36mrun_cell_magic\u001b[0;34m(self, magic_name, line, cell)\u001b[0m\n\u001b[1;32m   2380\u001b[0m             \u001b[0;32mwith\u001b[0m \u001b[0mself\u001b[0m\u001b[0;34m.\u001b[0m\u001b[0mbuiltin_trap\u001b[0m\u001b[0;34m:\u001b[0m\u001b[0;34m\u001b[0m\u001b[0;34m\u001b[0m\u001b[0m\n\u001b[1;32m   2381\u001b[0m                 \u001b[0margs\u001b[0m \u001b[0;34m=\u001b[0m \u001b[0;34m(\u001b[0m\u001b[0mmagic_arg_s\u001b[0m\u001b[0;34m,\u001b[0m \u001b[0mcell\u001b[0m\u001b[0;34m)\u001b[0m\u001b[0;34m\u001b[0m\u001b[0;34m\u001b[0m\u001b[0m\n\u001b[0;32m-> 2382\u001b[0;31m                 \u001b[0mresult\u001b[0m \u001b[0;34m=\u001b[0m \u001b[0mfn\u001b[0m\u001b[0;34m(\u001b[0m\u001b[0;34m*\u001b[0m\u001b[0margs\u001b[0m\u001b[0;34m,\u001b[0m \u001b[0;34m**\u001b[0m\u001b[0mkwargs\u001b[0m\u001b[0;34m)\u001b[0m\u001b[0;34m\u001b[0m\u001b[0;34m\u001b[0m\u001b[0m\n\u001b[0m\u001b[1;32m   2383\u001b[0m             \u001b[0;32mreturn\u001b[0m \u001b[0mresult\u001b[0m\u001b[0;34m\u001b[0m\u001b[0;34m\u001b[0m\u001b[0m\n\u001b[1;32m   2384\u001b[0m \u001b[0;34m\u001b[0m\u001b[0m\n",
      "\u001b[0;32m/usr/local/lib/python3.8/dist-packages/IPython/core/magics/script.py\u001b[0m in \u001b[0;36mnamed_script_magic\u001b[0;34m(line, cell)\u001b[0m\n\u001b[1;32m    140\u001b[0m             \u001b[0;32melse\u001b[0m\u001b[0;34m:\u001b[0m\u001b[0;34m\u001b[0m\u001b[0;34m\u001b[0m\u001b[0m\n\u001b[1;32m    141\u001b[0m                 \u001b[0mline\u001b[0m \u001b[0;34m=\u001b[0m \u001b[0mscript\u001b[0m\u001b[0;34m\u001b[0m\u001b[0;34m\u001b[0m\u001b[0m\n\u001b[0;32m--> 142\u001b[0;31m             \u001b[0;32mreturn\u001b[0m \u001b[0mself\u001b[0m\u001b[0;34m.\u001b[0m\u001b[0mshebang\u001b[0m\u001b[0;34m(\u001b[0m\u001b[0mline\u001b[0m\u001b[0;34m,\u001b[0m \u001b[0mcell\u001b[0m\u001b[0;34m)\u001b[0m\u001b[0;34m\u001b[0m\u001b[0;34m\u001b[0m\u001b[0m\n\u001b[0m\u001b[1;32m    143\u001b[0m \u001b[0;34m\u001b[0m\u001b[0m\n\u001b[1;32m    144\u001b[0m         \u001b[0;31m# write a basic docstring:\u001b[0m\u001b[0;34m\u001b[0m\u001b[0;34m\u001b[0m\u001b[0;34m\u001b[0m\u001b[0m\n",
      "\u001b[0;32m<decorator-gen-103>\u001b[0m in \u001b[0;36mshebang\u001b[0;34m(self, line, cell)\u001b[0m\n",
      "\u001b[0;32m/usr/local/lib/python3.8/dist-packages/IPython/core/magic.py\u001b[0m in \u001b[0;36m<lambda>\u001b[0;34m(f, *a, **k)\u001b[0m\n\u001b[1;32m    185\u001b[0m     \u001b[0;31m# but it's overkill for just that one bit of state.\u001b[0m\u001b[0;34m\u001b[0m\u001b[0;34m\u001b[0m\u001b[0;34m\u001b[0m\u001b[0m\n\u001b[1;32m    186\u001b[0m     \u001b[0;32mdef\u001b[0m \u001b[0mmagic_deco\u001b[0m\u001b[0;34m(\u001b[0m\u001b[0marg\u001b[0m\u001b[0;34m)\u001b[0m\u001b[0;34m:\u001b[0m\u001b[0;34m\u001b[0m\u001b[0;34m\u001b[0m\u001b[0m\n\u001b[0;32m--> 187\u001b[0;31m         \u001b[0mcall\u001b[0m \u001b[0;34m=\u001b[0m \u001b[0;32mlambda\u001b[0m \u001b[0mf\u001b[0m\u001b[0;34m,\u001b[0m \u001b[0;34m*\u001b[0m\u001b[0ma\u001b[0m\u001b[0;34m,\u001b[0m \u001b[0;34m**\u001b[0m\u001b[0mk\u001b[0m\u001b[0;34m:\u001b[0m \u001b[0mf\u001b[0m\u001b[0;34m(\u001b[0m\u001b[0;34m*\u001b[0m\u001b[0ma\u001b[0m\u001b[0;34m,\u001b[0m \u001b[0;34m**\u001b[0m\u001b[0mk\u001b[0m\u001b[0;34m)\u001b[0m\u001b[0;34m\u001b[0m\u001b[0;34m\u001b[0m\u001b[0m\n\u001b[0m\u001b[1;32m    188\u001b[0m \u001b[0;34m\u001b[0m\u001b[0m\n\u001b[1;32m    189\u001b[0m         \u001b[0;32mif\u001b[0m \u001b[0mcallable\u001b[0m\u001b[0;34m(\u001b[0m\u001b[0marg\u001b[0m\u001b[0;34m)\u001b[0m\u001b[0;34m:\u001b[0m\u001b[0;34m\u001b[0m\u001b[0;34m\u001b[0m\u001b[0m\n",
      "\u001b[0;32m/usr/local/lib/python3.8/dist-packages/IPython/core/magics/script.py\u001b[0m in \u001b[0;36mshebang\u001b[0;34m(self, line, cell)\u001b[0m\n\u001b[1;32m    243\u001b[0m             \u001b[0msys\u001b[0m\u001b[0;34m.\u001b[0m\u001b[0mstderr\u001b[0m\u001b[0;34m.\u001b[0m\u001b[0mflush\u001b[0m\u001b[0;34m(\u001b[0m\u001b[0;34m)\u001b[0m\u001b[0;34m\u001b[0m\u001b[0;34m\u001b[0m\u001b[0m\n\u001b[1;32m    244\u001b[0m         \u001b[0;32mif\u001b[0m \u001b[0margs\u001b[0m\u001b[0;34m.\u001b[0m\u001b[0mraise_error\u001b[0m \u001b[0;32mand\u001b[0m \u001b[0mp\u001b[0m\u001b[0;34m.\u001b[0m\u001b[0mreturncode\u001b[0m\u001b[0;34m!=\u001b[0m\u001b[0;36m0\u001b[0m\u001b[0;34m:\u001b[0m\u001b[0;34m\u001b[0m\u001b[0;34m\u001b[0m\u001b[0m\n\u001b[0;32m--> 245\u001b[0;31m             \u001b[0;32mraise\u001b[0m \u001b[0mCalledProcessError\u001b[0m\u001b[0;34m(\u001b[0m\u001b[0mp\u001b[0m\u001b[0;34m.\u001b[0m\u001b[0mreturncode\u001b[0m\u001b[0;34m,\u001b[0m \u001b[0mcell\u001b[0m\u001b[0;34m,\u001b[0m \u001b[0moutput\u001b[0m\u001b[0;34m=\u001b[0m\u001b[0mout\u001b[0m\u001b[0;34m,\u001b[0m \u001b[0mstderr\u001b[0m\u001b[0;34m=\u001b[0m\u001b[0merr\u001b[0m\u001b[0;34m)\u001b[0m\u001b[0;34m\u001b[0m\u001b[0;34m\u001b[0m\u001b[0m\n\u001b[0m\u001b[1;32m    246\u001b[0m \u001b[0;34m\u001b[0m\u001b[0m\n\u001b[1;32m    247\u001b[0m     \u001b[0;32mdef\u001b[0m \u001b[0m_run_script\u001b[0m\u001b[0;34m(\u001b[0m\u001b[0mself\u001b[0m\u001b[0;34m,\u001b[0m \u001b[0mp\u001b[0m\u001b[0;34m,\u001b[0m \u001b[0mcell\u001b[0m\u001b[0;34m,\u001b[0m \u001b[0mto_close\u001b[0m\u001b[0;34m)\u001b[0m\u001b[0;34m:\u001b[0m\u001b[0;34m\u001b[0m\u001b[0;34m\u001b[0m\u001b[0m\n",
      "\u001b[0;31mCalledProcessError\u001b[0m: Command 'b'curl http://filebeat\\n'' returned non-zero exit status 7."
     ]
    }
   ],
   "source": [
    "%%bash\n",
    "curl http://filebeat"
   ]
  },
  {
   "cell_type": "code",
   "execution_count": 6,
   "metadata": {},
   "outputs": [
    {
     "name": "stdout",
     "output_type": "stream",
     "text": [
      "Get:1 http://kali.download/kali kali-rolling InRelease [30.5 kB]\n",
      "Get:2 http://kali.download/kali kali-rolling/contrib amd64 Packages [105 kB]\n",
      "Get:3 http://kali.download/kali kali-rolling/non-free amd64 Packages [209 kB]\n",
      "Get:4 http://kali.download/kali kali-rolling/main amd64 Packages [17.6 MB]\n",
      "Fetched 17.9 MB in 2s (8780 kB/s)\n",
      "Reading package lists...\n",
      "Building dependency tree...\n",
      "Reading state information...\n",
      "188 packages can be upgraded. Run 'apt list --upgradable' to see them.\n",
      "Reading package lists...\n",
      "Building dependency tree...\n",
      "Reading state information...\n",
      "The following NEW packages will be installed:\n",
      "  nikto\n",
      "0 upgraded, 1 newly installed, 0 to remove and 188 not upgraded.\n",
      "Need to get 413 kB of archives.\n",
      "After this operation, 2500 kB of additional disk space will be used.\n",
      "Get:1 http://kali.download/kali kali-rolling/non-free amd64 nikto all 1:2.1.6+git20190310-0kali3 [413 kB]\n",
      "Fetched 413 kB in 0s (1287 kB/s)\n",
      "Selecting previously unselected package nikto.\r\n",
      "(Reading database ... \r",
      "(Reading database ... 5%\r",
      "(Reading database ... 10%\r",
      "(Reading database ... 15%\r",
      "(Reading database ... 20%\r",
      "(Reading database ... 25%\r",
      "(Reading database ... 30%\r",
      "(Reading database ... 35%\r",
      "(Reading database ... 40%\r",
      "(Reading database ... 45%\r",
      "(Reading database ... 50%\r",
      "(Reading database ... 55%\r",
      "(Reading database ... 60%\r",
      "(Reading database ... 65%\r",
      "(Reading database ... 70%\r",
      "(Reading database ... 75%\r",
      "(Reading database ... 80%\r",
      "(Reading database ... 85%\r",
      "(Reading database ... 90%\r",
      "(Reading database ... 95%\r",
      "(Reading database ... 100%\r",
      "(Reading database ... 67051 files and directories currently installed.)\r\n",
      "Preparing to unpack .../nikto_1%3a2.1.6+git20190310-0kali3_all.deb ...\r\n",
      "Unpacking nikto (1:2.1.6+git20190310-0kali3) ...\r\n",
      "Setting up nikto (1:2.1.6+git20190310-0kali3) ...\r\n"
     ]
    },
    {
     "name": "stderr",
     "output_type": "stream",
     "text": [
      "\n",
      "WARNING: apt does not have a stable CLI interface. Use with caution in scripts.\n",
      "\n",
      "\n",
      "WARNING: apt does not have a stable CLI interface. Use with caution in scripts.\n",
      "\n",
      "debconf: delaying package configuration, since apt-utils is not installed\n"
     ]
    }
   ],
   "source": [
    "%%bash\n",
    "sudo apt update\n",
    "sudo apt -y install nikto"
   ]
  },
  {
   "cell_type": "code",
   "execution_count": 1,
   "metadata": {},
   "outputs": [
    {
     "name": "stdout",
     "output_type": "stream",
     "text": [
      "- Nikto v2.1.6\n",
      "---------------------------------------------------------------------------\n",
      "+ No web server found on filebeat:80\n",
      "---------------------------------------------------------------------------\n",
      "+ 0 host(s) tested\n"
     ]
    }
   ],
   "source": [
    "%%bash\n",
    "nikto -h filebeat"
   ]
  },
  {
   "cell_type": "code",
   "execution_count": 11,
   "metadata": {},
   "outputs": [
    {
     "name": "stdout",
     "output_type": "stream",
     "text": [
      "Hit:1 http://kali.download/kali kali-rolling InRelease\n",
      "Reading package lists...\n",
      "Building dependency tree...\n",
      "Reading state information...\n",
      "188 packages can be upgraded. Run 'apt list --upgradable' to see them.\n",
      "Reading package lists...\n",
      "Building dependency tree...\n",
      "Reading state information...\n",
      "The following additional packages will be installed:\n",
      "  netcat-openbsd\n",
      "The following NEW packages will be installed:\n",
      "  netcat netcat-openbsd\n",
      "0 upgraded, 2 newly installed, 0 to remove and 188 not upgraded.\n",
      "Need to get 50.8 kB of archives.\n",
      "After this operation, 130 kB of additional disk space will be used.\n",
      "Get:1 http://kali.download/kali kali-rolling/main amd64 netcat-openbsd amd64 1.217-3 [41.1 kB]\n",
      "Get:2 http://kali.download/kali kali-rolling/main amd64 netcat all 1.10-46 [9728 B]\n",
      "Fetched 50.8 kB in 1s (100 kB/s)\n",
      "Selecting previously unselected package netcat-openbsd.\r\n",
      "(Reading database ... \r",
      "(Reading database ... 5%\r",
      "(Reading database ... 10%\r",
      "(Reading database ... 15%\r",
      "(Reading database ... 20%\r",
      "(Reading database ... 25%\r",
      "(Reading database ... 30%\r",
      "(Reading database ... 35%\r",
      "(Reading database ... 40%\r",
      "(Reading database ... 45%\r",
      "(Reading database ... 50%\r",
      "(Reading database ... 55%\r",
      "(Reading database ... 60%\r",
      "(Reading database ... 65%\r",
      "(Reading database ... 70%\r",
      "(Reading database ... 75%\r",
      "(Reading database ... 80%\r",
      "(Reading database ... 85%\r",
      "(Reading database ... 90%\r",
      "(Reading database ... 95%\r",
      "(Reading database ... 100%\r",
      "(Reading database ... 67163 files and directories currently installed.)\r\n",
      "Preparing to unpack .../netcat-openbsd_1.217-3_amd64.deb ...\r\n",
      "Unpacking netcat-openbsd (1.217-3) ...\r\n",
      "Selecting previously unselected package netcat.\r\n",
      "Preparing to unpack .../netcat_1.10-46_all.deb ...\r\n",
      "Unpacking netcat (1.10-46) ...\r\n",
      "Setting up netcat-openbsd (1.217-3) ...\r\n",
      "update-alternatives: using /bin/nc.openbsd to provide /bin/nc (nc) in auto mode\r\n",
      "Setting up netcat (1.10-46) ...\r\n"
     ]
    },
    {
     "name": "stderr",
     "output_type": "stream",
     "text": [
      "\n",
      "WARNING: apt does not have a stable CLI interface. Use with caution in scripts.\n",
      "\n",
      "\n",
      "WARNING: apt does not have a stable CLI interface. Use with caution in scripts.\n",
      "\n",
      "debconf: delaying package configuration, since apt-utils is not installed\n"
     ]
    }
   ],
   "source": []
  },
  {
   "cell_type": "code",
   "execution_count": 17,
   "metadata": {},
   "outputs": [
    {
     "name": "stdout",
     "output_type": "stream",
     "text": [
      "Reading package lists...\n",
      "Building dependency tree...\n",
      "Reading state information...\n",
      "The following additional packages will be installed:\n",
      "  flex libfl-dev libfl2 libsigsegv2 m4\n",
      "Suggested packages:\n",
      "  bison flex-doc m4-doc\n",
      "The following NEW packages will be installed:\n",
      "  flex libfl-dev libfl2 libsigsegv2 m4 unicornscan\n",
      "0 upgraded, 6 newly installed, 0 to remove and 188 not upgraded.\n",
      "Need to get 1383 kB of archives.\n",
      "After this operation, 4997 kB of additional disk space will be used.\n",
      "Get:1 http://kali.download/kali kali-rolling/main amd64 libsigsegv2 amd64 2.12-3 [33.0 kB]\n",
      "Get:2 http://kali.download/kali kali-rolling/main amd64 m4 amd64 1.4.18-5 [204 kB]\n",
      "Get:3 http://kali.download/kali kali-rolling/main amd64 flex amd64 2.6.4-8 [440 kB]\n",
      "Get:4 http://kali.download/kali kali-rolling/main amd64 libfl2 amd64 2.6.4-8 [103 kB]\n",
      "Get:5 http://kali.download/kali kali-rolling/main amd64 libfl-dev amd64 2.6.4-8 [104 kB]\n",
      "Get:6 http://kali.download/kali kali-rolling/main amd64 unicornscan amd64 0.4.7-1kali3 [498 kB]\n",
      "Fetched 1383 kB in 1s (1460 kB/s)\n",
      "Selecting previously unselected package libsigsegv2:amd64.\r\n",
      "(Reading database ... \r",
      "(Reading database ... 5%\r",
      "(Reading database ... 10%\r",
      "(Reading database ... 15%\r",
      "(Reading database ... 20%\r",
      "(Reading database ... 25%\r",
      "(Reading database ... 30%\r",
      "(Reading database ... 35%\r",
      "(Reading database ... 40%\r",
      "(Reading database ... 45%\r",
      "(Reading database ... 50%\r",
      "(Reading database ... 55%\r",
      "(Reading database ... 60%\r",
      "(Reading database ... 65%\r",
      "(Reading database ... 70%\r",
      "(Reading database ... 75%\r",
      "(Reading database ... 80%\r",
      "(Reading database ... 85%\r",
      "(Reading database ... 90%\r",
      "(Reading database ... 95%\r",
      "(Reading database ... 100%\r",
      "(Reading database ... 67190 files and directories currently installed.)\r\n",
      "Preparing to unpack .../0-libsigsegv2_2.12-3_amd64.deb ...\r\n",
      "Unpacking libsigsegv2:amd64 (2.12-3) ...\r\n",
      "Selecting previously unselected package m4.\r\n",
      "Preparing to unpack .../1-m4_1.4.18-5_amd64.deb ...\r\n",
      "Unpacking m4 (1.4.18-5) ...\r\n",
      "Selecting previously unselected package flex.\r\n",
      "Preparing to unpack .../2-flex_2.6.4-8_amd64.deb ...\r\n",
      "Unpacking flex (2.6.4-8) ...\r\n",
      "Selecting previously unselected package libfl2:amd64.\r\n",
      "Preparing to unpack .../3-libfl2_2.6.4-8_amd64.deb ...\r\n",
      "Unpacking libfl2:amd64 (2.6.4-8) ...\r\n",
      "Selecting previously unselected package libfl-dev:amd64.\r\n",
      "Preparing to unpack .../4-libfl-dev_2.6.4-8_amd64.deb ...\r\n",
      "Unpacking libfl-dev:amd64 (2.6.4-8) ...\r\n",
      "Selecting previously unselected package unicornscan.\r\n",
      "Preparing to unpack .../5-unicornscan_0.4.7-1kali3_amd64.deb ...\r\n",
      "Unpacking unicornscan (0.4.7-1kali3) ...\r\n",
      "Setting up libsigsegv2:amd64 (2.12-3) ...\r\n",
      "Setting up libfl2:amd64 (2.6.4-8) ...\r\n",
      "Setting up m4 (1.4.18-5) ...\r\n",
      "Setting up flex (2.6.4-8) ...\r\n",
      "Setting up libfl-dev:amd64 (2.6.4-8) ...\r\n",
      "Setting up unicornscan (0.4.7-1kali3) ...\r\n",
      "Processing triggers for libc-bin (2.31-5) ...\r\n"
     ]
    },
    {
     "name": "stderr",
     "output_type": "stream",
     "text": [
      "\n",
      "WARNING: apt does not have a stable CLI interface. Use with caution in scripts.\n",
      "\n",
      "debconf: delaying package configuration, since apt-utils is not installed\n"
     ]
    }
   ],
   "source": [
    "%%bash\n",
    "sudo apt install -y unicornscan"
   ]
  },
  {
   "cell_type": "code",
   "execution_count": 19,
   "metadata": {},
   "outputs": [
    {
     "name": "stdout",
     "output_type": "stream",
     "text": [
      "unicornscan (version 0.4.7)\n",
      "usage: unicornscan [options `b:B:cd:De:EFG:hHi:Ij:l:L:m:M:o:p:P:q:Qr:R:s:St:T:u:Uw:W:vVzZ:' ] X.X.X.X/YY:S-E\n",
      "\t-b, --broken-crc     *set broken crc sums on [T]ransport layer, [N]etwork layer, or both[TN]\n",
      "\t-B, --source-port    *set source port? or whatever the scan module expects as a number\n",
      "\t-c, --proc-duplicates process duplicate replies\n",
      "\t-d, --delay-type     *set delay type (numeric value, valid options are `1:tsc 2:gtod 3:sleep')\n",
      "\t-D, --no-defpayload   no default Payload, only probe known protocols\n",
      "\t-e, --enable-module  *enable modules listed as arguments (output and report currently)\n",
      "\t-E, --proc-errors     for processing `non-open' responses (icmp errors, tcp rsts...)\n",
      "\t-F, --try-frags       \n",
      "\t-G, --payload-group\t*payload group (numeric) for tcp/udp type payload selection (default all)\n",
      "\t-h, --help            help\n",
      "\t-H, --do-dns          resolve hostnames during the reporting phase\n",
      "\t-i, --interface      *interface name, like eth0 or fxp1, not normally required\n",
      "\t-I, --immediate       immediate mode, display things as we find them\n",
      "\t-j, --ignore-seq     *ignore `A'll, 'R'eset sequence numbers for tcp header validation\n",
      "\t-l, --logfile        *write to this file not my terminal\n",
      "\t-L, --packet-timeout *wait this long for packets to come back (default 7 secs)\n",
      "\t-m, --mode           *scan mode, tcp (syn) scan is default, U for udp T for tcp `sf' for tcp connect scan and A for arp\n",
      "\t                       for -mT you can also specify tcp flags following the T like -mTsFpU for example\n",
      "\t                       that would send tcp syn packets with (NO Syn|FIN|NO Push|URG)\n",
      "\t-M, --module-dir     *directory modules are found at (defaults to /usr/lib/unicornscan/modules)\n",
      "\t-o, --format         *format of what to display for replies, see man page for format specification\n",
      "\t-p, --ports           global ports to scan, if not specified in target options\n",
      "\t-P, --pcap-filter    *extra pcap filter string for reciever\n",
      "\t-q, --covertness     *covertness value from 0 to 255\n",
      "\t-Q, --quiet           dont use output to screen, its going somewhere else (a database say...)\n",
      "\t-r, --pps            *packets per second (total, not per host, and as you go higher it gets less accurate)\n",
      "\t-R, --repeats        *repeat packet scan N times\n",
      "\t-s, --source-addr    *source address for packets `r' for random\n",
      "\t-S, --no-shuffle      do not shuffle ports\n",
      "\t-t, --ip-ttl         *set TTL on sent packets as in 62 or 6-16 or r64-128\n",
      "\t-T, --ip-tos         *set TOS on sent packets\n",
      "\t-u, --debug\t\t*debug mask\n",
      "\t-U, --no-openclosed\t dont say open or closed\n",
      "\t-w, --safefile       *write pcap file of recieved packets\n",
      "\t-W, --fingerprint    *OS fingerprint 0=cisco(def) 1=openbsd 2=WindowsXP 3=p0fsendsyn 4=FreeBSD 5=nmap\n",
      "\t                      6=linux 7:strangetcp\n",
      "\t-v, --verbose         verbose (each time more verbose so -vvvvv is really verbose)\n",
      "\t-V, --version         display version\n",
      "\t-z, --sniff           sniff alike\n",
      "\t-Z, --drone-str      *drone String\n",
      "*:\toptions with `*' require an argument following them\n",
      "\n",
      "  address ranges are cidr like 1.2.3.4/8 for all of 1.?.?.?\n",
      "  if you omit the cidr mask then /32 is implied\n",
      "  port ranges are like 1-4096 with 53 only scanning one port, a for all 65k and p for 1-1024\n",
      "example: unicornscan -i eth1 -Ir 160 -E 192.168.1.0/24:1-4000 gateway:a\n"
     ]
    }
   ],
   "source": [
    "%%bash\n",
    "unicornscan -h"
   ]
  },
  {
   "cell_type": "code",
   "execution_count": null,
   "metadata": {},
   "outputs": [],
   "source": [
    "%%bash\n",
    "unicornscan 45.77.251.0\n"
   ]
  },
  {
   "cell_type": "code",
   "execution_count": null,
   "metadata": {},
   "outputs": [],
   "source": [
    "%%bash \n",
    "curl 207.148.70.232"
   ]
  },
  {
   "cell_type": "markdown",
   "metadata": {},
   "source": [
    "## Hping"
   ]
  },
  {
   "cell_type": "code",
   "execution_count": 2,
   "metadata": {},
   "outputs": [
    {
     "name": "stderr",
     "output_type": "stream",
     "text": [
      "Unable to resolve 'filebeat'\n"
     ]
    },
    {
     "ename": "CalledProcessError",
     "evalue": "Command 'b'sudo hping3 -c 1000 -S -p 80 filebeat --faster\\n'' returned non-zero exit status 1.",
     "output_type": "error",
     "traceback": [
      "\u001b[0;31m---------------------------------------------------------------------------\u001b[0m",
      "\u001b[0;31mCalledProcessError\u001b[0m                        Traceback (most recent call last)",
      "\u001b[0;32m<ipython-input-2-d682b9ebe379>\u001b[0m in \u001b[0;36m<module>\u001b[0;34m\u001b[0m\n\u001b[0;32m----> 1\u001b[0;31m \u001b[0mget_ipython\u001b[0m\u001b[0;34m(\u001b[0m\u001b[0;34m)\u001b[0m\u001b[0;34m.\u001b[0m\u001b[0mrun_cell_magic\u001b[0m\u001b[0;34m(\u001b[0m\u001b[0;34m'bash'\u001b[0m\u001b[0;34m,\u001b[0m \u001b[0;34m''\u001b[0m\u001b[0;34m,\u001b[0m \u001b[0;34m'sudo hping3 -c 1000 -S -p 80 filebeat --faster\\n'\u001b[0m\u001b[0;34m)\u001b[0m\u001b[0;34m\u001b[0m\u001b[0;34m\u001b[0m\u001b[0m\n\u001b[0m",
      "\u001b[0;32m/usr/local/lib/python3.8/site-packages/IPython/core/interactiveshell.py\u001b[0m in \u001b[0;36mrun_cell_magic\u001b[0;34m(self, magic_name, line, cell)\u001b[0m\n\u001b[1;32m   2389\u001b[0m             \u001b[0;32mwith\u001b[0m \u001b[0mself\u001b[0m\u001b[0;34m.\u001b[0m\u001b[0mbuiltin_trap\u001b[0m\u001b[0;34m:\u001b[0m\u001b[0;34m\u001b[0m\u001b[0;34m\u001b[0m\u001b[0m\n\u001b[1;32m   2390\u001b[0m                 \u001b[0margs\u001b[0m \u001b[0;34m=\u001b[0m \u001b[0;34m(\u001b[0m\u001b[0mmagic_arg_s\u001b[0m\u001b[0;34m,\u001b[0m \u001b[0mcell\u001b[0m\u001b[0;34m)\u001b[0m\u001b[0;34m\u001b[0m\u001b[0;34m\u001b[0m\u001b[0m\n\u001b[0;32m-> 2391\u001b[0;31m                 \u001b[0mresult\u001b[0m \u001b[0;34m=\u001b[0m \u001b[0mfn\u001b[0m\u001b[0;34m(\u001b[0m\u001b[0;34m*\u001b[0m\u001b[0margs\u001b[0m\u001b[0;34m,\u001b[0m \u001b[0;34m**\u001b[0m\u001b[0mkwargs\u001b[0m\u001b[0;34m)\u001b[0m\u001b[0;34m\u001b[0m\u001b[0;34m\u001b[0m\u001b[0m\n\u001b[0m\u001b[1;32m   2392\u001b[0m             \u001b[0;32mreturn\u001b[0m \u001b[0mresult\u001b[0m\u001b[0;34m\u001b[0m\u001b[0;34m\u001b[0m\u001b[0m\n\u001b[1;32m   2393\u001b[0m \u001b[0;34m\u001b[0m\u001b[0m\n",
      "\u001b[0;32m/usr/local/lib/python3.8/site-packages/IPython/core/magics/script.py\u001b[0m in \u001b[0;36mnamed_script_magic\u001b[0;34m(line, cell)\u001b[0m\n\u001b[1;32m    140\u001b[0m             \u001b[0;32melse\u001b[0m\u001b[0;34m:\u001b[0m\u001b[0;34m\u001b[0m\u001b[0;34m\u001b[0m\u001b[0m\n\u001b[1;32m    141\u001b[0m                 \u001b[0mline\u001b[0m \u001b[0;34m=\u001b[0m \u001b[0mscript\u001b[0m\u001b[0;34m\u001b[0m\u001b[0;34m\u001b[0m\u001b[0m\n\u001b[0;32m--> 142\u001b[0;31m             \u001b[0;32mreturn\u001b[0m \u001b[0mself\u001b[0m\u001b[0;34m.\u001b[0m\u001b[0mshebang\u001b[0m\u001b[0;34m(\u001b[0m\u001b[0mline\u001b[0m\u001b[0;34m,\u001b[0m \u001b[0mcell\u001b[0m\u001b[0;34m)\u001b[0m\u001b[0;34m\u001b[0m\u001b[0;34m\u001b[0m\u001b[0m\n\u001b[0m\u001b[1;32m    143\u001b[0m \u001b[0;34m\u001b[0m\u001b[0m\n\u001b[1;32m    144\u001b[0m         \u001b[0;31m# write a basic docstring:\u001b[0m\u001b[0;34m\u001b[0m\u001b[0;34m\u001b[0m\u001b[0;34m\u001b[0m\u001b[0m\n",
      "\u001b[0;32m<decorator-gen-103>\u001b[0m in \u001b[0;36mshebang\u001b[0;34m(self, line, cell)\u001b[0m\n",
      "\u001b[0;32m/usr/local/lib/python3.8/site-packages/IPython/core/magic.py\u001b[0m in \u001b[0;36m<lambda>\u001b[0;34m(f, *a, **k)\u001b[0m\n\u001b[1;32m    185\u001b[0m     \u001b[0;31m# but it's overkill for just that one bit of state.\u001b[0m\u001b[0;34m\u001b[0m\u001b[0;34m\u001b[0m\u001b[0;34m\u001b[0m\u001b[0m\n\u001b[1;32m    186\u001b[0m     \u001b[0;32mdef\u001b[0m \u001b[0mmagic_deco\u001b[0m\u001b[0;34m(\u001b[0m\u001b[0marg\u001b[0m\u001b[0;34m)\u001b[0m\u001b[0;34m:\u001b[0m\u001b[0;34m\u001b[0m\u001b[0;34m\u001b[0m\u001b[0m\n\u001b[0;32m--> 187\u001b[0;31m         \u001b[0mcall\u001b[0m \u001b[0;34m=\u001b[0m \u001b[0;32mlambda\u001b[0m \u001b[0mf\u001b[0m\u001b[0;34m,\u001b[0m \u001b[0;34m*\u001b[0m\u001b[0ma\u001b[0m\u001b[0;34m,\u001b[0m \u001b[0;34m**\u001b[0m\u001b[0mk\u001b[0m\u001b[0;34m:\u001b[0m \u001b[0mf\u001b[0m\u001b[0;34m(\u001b[0m\u001b[0;34m*\u001b[0m\u001b[0ma\u001b[0m\u001b[0;34m,\u001b[0m \u001b[0;34m**\u001b[0m\u001b[0mk\u001b[0m\u001b[0;34m)\u001b[0m\u001b[0;34m\u001b[0m\u001b[0;34m\u001b[0m\u001b[0m\n\u001b[0m\u001b[1;32m    188\u001b[0m \u001b[0;34m\u001b[0m\u001b[0m\n\u001b[1;32m    189\u001b[0m         \u001b[0;32mif\u001b[0m \u001b[0mcallable\u001b[0m\u001b[0;34m(\u001b[0m\u001b[0marg\u001b[0m\u001b[0;34m)\u001b[0m\u001b[0;34m:\u001b[0m\u001b[0;34m\u001b[0m\u001b[0;34m\u001b[0m\u001b[0m\n",
      "\u001b[0;32m/usr/local/lib/python3.8/site-packages/IPython/core/magics/script.py\u001b[0m in \u001b[0;36mshebang\u001b[0;34m(self, line, cell)\u001b[0m\n\u001b[1;32m    243\u001b[0m             \u001b[0msys\u001b[0m\u001b[0;34m.\u001b[0m\u001b[0mstderr\u001b[0m\u001b[0;34m.\u001b[0m\u001b[0mflush\u001b[0m\u001b[0;34m(\u001b[0m\u001b[0;34m)\u001b[0m\u001b[0;34m\u001b[0m\u001b[0;34m\u001b[0m\u001b[0m\n\u001b[1;32m    244\u001b[0m         \u001b[0;32mif\u001b[0m \u001b[0margs\u001b[0m\u001b[0;34m.\u001b[0m\u001b[0mraise_error\u001b[0m \u001b[0;32mand\u001b[0m \u001b[0mp\u001b[0m\u001b[0;34m.\u001b[0m\u001b[0mreturncode\u001b[0m\u001b[0;34m!=\u001b[0m\u001b[0;36m0\u001b[0m\u001b[0;34m:\u001b[0m\u001b[0;34m\u001b[0m\u001b[0;34m\u001b[0m\u001b[0m\n\u001b[0;32m--> 245\u001b[0;31m             \u001b[0;32mraise\u001b[0m \u001b[0mCalledProcessError\u001b[0m\u001b[0;34m(\u001b[0m\u001b[0mp\u001b[0m\u001b[0;34m.\u001b[0m\u001b[0mreturncode\u001b[0m\u001b[0;34m,\u001b[0m \u001b[0mcell\u001b[0m\u001b[0;34m,\u001b[0m \u001b[0moutput\u001b[0m\u001b[0;34m=\u001b[0m\u001b[0mout\u001b[0m\u001b[0;34m,\u001b[0m \u001b[0mstderr\u001b[0m\u001b[0;34m=\u001b[0m\u001b[0merr\u001b[0m\u001b[0;34m)\u001b[0m\u001b[0;34m\u001b[0m\u001b[0;34m\u001b[0m\u001b[0m\n\u001b[0m\u001b[1;32m    246\u001b[0m \u001b[0;34m\u001b[0m\u001b[0m\n\u001b[1;32m    247\u001b[0m     \u001b[0;32mdef\u001b[0m \u001b[0m_run_script\u001b[0m\u001b[0;34m(\u001b[0m\u001b[0mself\u001b[0m\u001b[0;34m,\u001b[0m \u001b[0mp\u001b[0m\u001b[0;34m,\u001b[0m \u001b[0mcell\u001b[0m\u001b[0;34m,\u001b[0m \u001b[0mto_close\u001b[0m\u001b[0;34m)\u001b[0m\u001b[0;34m:\u001b[0m\u001b[0;34m\u001b[0m\u001b[0;34m\u001b[0m\u001b[0m\n",
      "\u001b[0;31mCalledProcessError\u001b[0m: Command 'b'sudo hping3 -c 1000 -S -p 80 filebeat --faster\\n'' returned non-zero exit status 1."
     ]
    }
   ],
   "source": [
    "%%bash\n",
    "sudo hping3 -i u1 -S -p 80 filebeat"
   ]
  },
  {
   "cell_type": "code",
   "execution_count": null,
   "metadata": {},
   "outputs": [],
   "source": []
  }
 ],
 "metadata": {
  "kernelspec": {
   "display_name": "Python 3",
   "language": "python",
   "name": "python3"
  },
  "language_info": {
   "codemirror_mode": {
    "name": "ipython",
    "version": 3
   },
   "file_extension": ".py",
   "mimetype": "text/x-python",
   "name": "python",
   "nbconvert_exporter": "python",
   "pygments_lexer": "ipython3",
   "version": "3.8.2"
  }
 },
 "nbformat": 4,
 "nbformat_minor": 4
}
